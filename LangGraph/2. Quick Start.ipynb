{
 "cells": [
  {
   "cell_type": "markdown",
   "metadata": {},
   "source": [
    "# LangGraph Quick Start\n",
    "\n",
    "Building a support chatbot in LangGraph\n",
    "- Answer common question\n",
    "- Maintain conversation state\n",
    "- Route comples queries\n",
    "- Use custom state\n",
    "- Rewind and explore"
   ]
  },
  {
   "cell_type": "markdown",
   "metadata": {},
   "source": [
    "## Setup"
   ]
  },
  {
   "cell_type": "code",
   "execution_count": null,
   "metadata": {},
   "outputs": [],
   "source": [
    "%%capture --no-stderr\n",
    "%pip install -U langgraph langsmith langchain_ollama"
   ]
  },
  {
   "cell_type": "code",
   "execution_count": 10,
   "metadata": {},
   "outputs": [],
   "source": [
    "import getpass\n",
    "import os\n",
    "\n",
    "\n",
    "def _set_env(var: str):\n",
    "    if not os.environ.get(var):\n",
    "        os.environ[var] = getpass.getpass(f\"{var}: \")\n",
    "\n"
   ]
  },
  {
   "cell_type": "markdown",
   "metadata": {},
   "source": [
    "## 1. Build a basic chatbot"
   ]
  },
  {
   "cell_type": "code",
   "execution_count": 1,
   "metadata": {},
   "outputs": [],
   "source": [
    "from typing import Annotated\n",
    "\n",
    "from typing_extensions import TypedDict\n",
    "\n",
    "from langgraph.graph import StateGraph, START, END\n",
    "from langgraph.graph.message import add_messages\n",
    "\n",
    "\n",
    "class State(TypedDict):\n",
    "    # Type of messages: list\n",
    "    # `add_messages`: how this state key should be updated\n",
    "    messages: Annotated[list, add_messages]\n",
    "\n",
    "\n",
    "graph_builder = StateGraph(State)"
   ]
  },
  {
   "cell_type": "markdown",
   "metadata": {},
   "source": [
    "1. Node\n",
    "    - INPUT: the current State\n",
    "    - OUTPUT: a value that updates the state\n",
    "2. Messages\n",
    "    - Appended to the existing list\n",
    "    - Communicated via `add_messages` in `Annotated`"
   ]
  },
  {
   "cell_type": "code",
   "execution_count": 2,
   "metadata": {},
   "outputs": [
    {
     "data": {
      "text/plain": [
       "<langgraph.graph.state.StateGraph at 0x107ebee70>"
      ]
     },
     "execution_count": 2,
     "metadata": {},
     "output_type": "execute_result"
    }
   ],
   "source": [
    "from langchain_ollama import ChatOllama\n",
    "\n",
    "llm = ChatOllama(model=\"llama3.1\")\n",
    "\n",
    "def chatbot(state: State):\n",
    "    return{\"messages\": [llm.invoke(state[\"messages\"])]}\n",
    "\n",
    "# 1st arg: unique node name\n",
    "# 2nd arg: function or object called whenever the node's used\n",
    "graph_builder.add_node(\"chatbot\", chatbot)"
   ]
  },
  {
   "cell_type": "markdown",
   "metadata": {},
   "source": [
    "`entry`: Where to start its work"
   ]
  },
  {
   "cell_type": "code",
   "execution_count": 3,
   "metadata": {},
   "outputs": [
    {
     "data": {
      "text/plain": [
       "<langgraph.graph.state.StateGraph at 0x107ebee70>"
      ]
     },
     "execution_count": 3,
     "metadata": {},
     "output_type": "execute_result"
    }
   ],
   "source": [
    "graph_builder.add_edge(START, \"chatbot\")"
   ]
  },
  {
   "cell_type": "markdown",
   "metadata": {},
   "source": [
    "`finish`: any time this node is run, you can exit"
   ]
  },
  {
   "cell_type": "code",
   "execution_count": 4,
   "metadata": {},
   "outputs": [
    {
     "data": {
      "text/plain": [
       "<langgraph.graph.state.StateGraph at 0x107ebee70>"
      ]
     },
     "execution_count": 4,
     "metadata": {},
     "output_type": "execute_result"
    }
   ],
   "source": [
    "graph_builder.add_edge(\"chatbot\", END)"
   ]
  },
  {
   "cell_type": "markdown",
   "metadata": {},
   "source": [
    "`CompiledGraph`: we can use invoke on our state"
   ]
  },
  {
   "cell_type": "code",
   "execution_count": 5,
   "metadata": {},
   "outputs": [],
   "source": [
    "graph = graph_builder.compile()"
   ]
  },
  {
   "cell_type": "code",
   "execution_count": 6,
   "metadata": {},
   "outputs": [
    {
     "data": {
      "image/png": "[encoded data removed]",
      "text/plain": [
       "<IPython.core.display.Image object>"
      ]
     },
     "metadata": {},
     "output_type": "display_data"
    }
   ],
   "source": [
    "from IPython.display import Image, display\n",
    "\n",
    "try:\n",
    "    display(Image(graph.get_graph().draw_mermaid_png()))\n",
    "except Exception:\n",
    "    # (Optional) extra dependecies\n",
    "    pass"
   ]
  },
  {
   "cell_type": "code",
   "execution_count": 9,
   "metadata": {},
   "outputs": [
    {
     "name": "stdout",
     "output_type": "stream",
     "text": [
      "Assistant: I don't have specific information on a project or tool named \"LangGraph\". It's possible that it could be related to:\n",
      "\n",
      "1. **Language graphs**: In computational linguistics, graph-based representations can model complex relationships between language units (e.g., words, concepts), facilitating tasks like semantic analysis and reasoning.\n",
      "2. **A programming library or framework**: LangGraph might be a name for a specialized software tool focused on tasks such as parsing natural languages into structured formats, managing linguistic data, or offering utilities for lexical or syntactic analysis.\n",
      "3. **An academic project or research initiative**: It could represent an ongoing research endeavor in linguistics, computer science, or related fields, focusing on developing new methodologies, models, or tools.\n",
      "\n",
      "If you are looking for specific details about LangGraph, I recommend searching online for official documentation, articles, presentations, or websites from the creators of the tool or project.\n",
      "Goodbye!\n"
     ]
    }
   ],
   "source": [
    "def stream_graph_updates(user_input: str):\n",
    "    for event in graph.stream({\"messages\": [(\"user\", user_input)]}):\n",
    "        for value in event.values():\n",
    "            print(\"Assistant:\", value[\"messages\"][-1].content)\n",
    "\n",
    "\n",
    "while True:\n",
    "    try:\n",
    "        user_input = input(\"User: \")\n",
    "        if user_input.lower() in [\"quit\", \"exit\", \"q\"]:\n",
    "            print(\"Goodbye!\")\n",
    "            break\n",
    "\n",
    "        stream_graph_updates(user_input)\n",
    "    except:\n",
    "        # fallback if input() is not available\n",
    "        user_input = \"What do you know about LangGraph?\"\n",
    "        print(\"User: \" + user_input)\n",
    "        stream_graph_updates(user_input)\n",
    "        break"
   ]
  },
  {
   "cell_type": "markdown",
   "metadata": {},
   "source": [
    "## 2. Enhencing the Chatbot with Tools"
   ]
  },
  {
   "cell_type": "code",
   "execution_count": null,
   "metadata": {},
   "outputs": [],
   "source": [
    "%%capture --no-stderr\n",
    "%pip install -U tavily-python langchain_community"
   ]
  },
  {
   "cell_type": "markdown",
   "metadata": {},
   "source": [
    "### Requireements"
   ]
  },
  {
   "cell_type": "code",
   "execution_count": 2,
   "metadata": {},
   "outputs": [],
   "source": [
    "_set_env(\"TAVILY_API_KEY\")"
   ]
  },
  {
   "cell_type": "code",
   "execution_count": 12,
   "metadata": {},
   "outputs": [
    {
     "data": {
      "text/plain": [
       "[{'url': 'https://langchain-ai.github.io/langgraph/concepts/low_level/',\n",
       "  'content': 'Nodes¶ In LangGraph, nodes are typically python functions (sync or async) where the first positional argument is the state, and (optionally), the second positional argument is a \"config\", containing optional configurable parameters (such as a thread_id). Similar to NetworkX, you add these nodes to a graph using the add_node method:'},\n",
       " {'url': 'https://www.datacamp.com/tutorial/langgraph-tutorial',\n",
       "  'content': \"In LangGraph, each node represents an LLM agent, and the edges are the communication channels between these agents. This structure allows for clear and manageable workflows, where each agent performs specific tasks and passes information to other agents as needed. State management. One of LangGraph's standout features is its automatic state\"}]"
      ]
     },
     "execution_count": 12,
     "metadata": {},
     "output_type": "execute_result"
    }
   ],
   "source": [
    "from langchain_community.tools.tavily_search import TavilySearchResults\n",
    "\n",
    "tool = TavilySearchResults(max_results=2)\n",
    "tools = [tool]\n",
    "tool.invoke(\"What's a 'node' in LangGraph?\")"
   ]
  },
  {
   "cell_type": "markdown",
   "metadata": {},
   "source": [
    "**The same as in Part 1**"
   ]
  },
  {
   "cell_type": "code",
   "execution_count": 13,
   "metadata": {},
   "outputs": [
    {
     "data": {
      "text/plain": [
       "<langgraph.graph.state.StateGraph at 0x110467920>"
      ]
     },
     "execution_count": 13,
     "metadata": {},
     "output_type": "execute_result"
    }
   ],
   "source": [
    "from typing import Annotated\n",
    "\n",
    "from langchain_ollama import ChatOllama\n",
    "from typing_extensions import TypedDict\n",
    "\n",
    "from langgraph.graph import StateGraph, START, END\n",
    "from langgraph.graph.message import add_messages\n",
    "\n",
    "\n",
    "class State(TypedDict):\n",
    "    messages: Annotated[list, add_messages]\n",
    "\n",
    "\n",
    "graph_builder = StateGraph(State)\n",
    "\n",
    "\n",
    "llm = ChatOllama(model=\"llama3.1\")\n",
    "# Tell the LLM which tools it can call\n",
    "llm_with_tools = llm.bind_tools(tools)\n",
    "\n",
    "\n",
    "def chatbot(state: State):\n",
    "    return {\"messages\": [llm_with_tools.invoke(state[\"messages\"])]}\n",
    "\n",
    "\n",
    "graph_builder.add_node(\"chatbot\", chatbot)"
   ]
  },
  {
   "cell_type": "markdown",
   "metadata": {},
   "source": [
    "`BasicToolNode`\n",
    "- Checkts the most recent message in the state and calls tools if the message contains `tool_calls`.\n",
    "- Relies on the LLM's `tool_calling` support\n"
   ]
  },
  {
   "cell_type": "code",
   "execution_count": 14,
   "metadata": {},
   "outputs": [
    {
     "data": {
      "text/plain": [
       "<langgraph.graph.state.StateGraph at 0x110467920>"
      ]
     },
     "execution_count": 14,
     "metadata": {},
     "output_type": "execute_result"
    }
   ],
   "source": [
    "import json\n",
    "\n",
    "from langchain_core.messages import ToolMessage\n",
    "\n",
    "\n",
    "class BasicToolNode:\n",
    "    \"\"\"A node that runs the tools requested in the last AIMessage.\"\"\"\n",
    "\n",
    "    def __init__(self, tools: list) -> None:\n",
    "        self.tools_by_name = {tool.name: tool for tool in tools}\n",
    "\n",
    "    def __call__(self, inputs: dict):\n",
    "        if messages := inputs.get(\"messages\", []):\n",
    "            message = messages[-1]\n",
    "        else:\n",
    "            raise ValueError(\"No message found in input\")\n",
    "        outputs = []\n",
    "        for tool_call in message.tool_calls:\n",
    "            tool_result = self.tools_by_name[tool_call[\"name\"]].invoke(\n",
    "                tool_call[\"args\"]\n",
    "            )\n",
    "            outputs.append(\n",
    "                ToolMessage(\n",
    "                    content=json.dumps(tool_result),\n",
    "                    name=tool_call[\"name\"],\n",
    "                    tool_call_id=tool_call[\"id\"],\n",
    "                )\n",
    "            )\n",
    "        return {\"messages\": outputs}\n",
    "\n",
    "\n",
    "tool_node = BasicToolNode(tools=[tool])\n",
    "graph_builder.add_node(\"tools\", tool_node)"
   ]
  },
  {
   "cell_type": "markdown",
   "metadata": {},
   "source": [
    "(Conditional)Edges route the control flow(containing \"if\")\n",
    "- `route_tools`: checks for tool_calls in the chatbot's output.\n",
    "- `add_conditional_edges`: tells the graph that whenever the `chatbot` ndoe completes to check this function."
   ]
  },
  {
   "cell_type": "code",
   "execution_count": 15,
   "metadata": {},
   "outputs": [],
   "source": [
    "from typing import Literal\n",
    "\n",
    "\n",
    "def route_tools(\n",
    "    state: State,\n",
    ") -> Literal[\"tools\", \"__end__\"]:\n",
    "    \"\"\"\n",
    "    Use in the conditional_edge to route to the ToolNode if the last message\n",
    "    has tool calls. Otherwise, route to the end.\n",
    "    \"\"\"\n",
    "    if isinstance(state, list):\n",
    "        ai_message = state[-1]\n",
    "    elif messages := state.get(\"messages\", []):\n",
    "        ai_message = messages[-1]\n",
    "    else:\n",
    "        raise ValueError(f\"No messages found in input state to tool_edge: {state}\")\n",
    "    if hasattr(ai_message, \"tool_calls\") and len(ai_message.tool_calls) > 0:\n",
    "        return \"tools\"\n",
    "    return \"__end__\"\n",
    "\n",
    "# The `tools_condition` function returns \"tools\" if the chatbot asks to use a tool, and \"END\" if\n",
    "# it is fine directly responding. This conditional routing defines the main agent loop.\n",
    "graph_builder.add_conditional_edges(\n",
    "    \"chatbot\",\n",
    "    route_tools,\n",
    "    {\"tools\": \"tools\", \"__end__\": \"__end__\"},\n",
    ")\n",
    "# Any time a tool is called, we return to the chatbot to decide the next step\n",
    "graph_builder.add_edge(\"tools\", \"chatbot\")\n",
    "graph_builder.add_edge(START, \"chatbot\")\n",
    "graph = graph_builder.compile()"
   ]
  },
  {
   "cell_type": "markdown",
   "metadata": {},
   "source": [
    "**Notice** that conditional edges start from a single node. This tells the graph \"any time the `chatbot` node runs, either go to 'tools' if it calls a tool, or end the loop if it responds directly."
   ]
  },
  {
   "cell_type": "code",
   "execution_count": 16,
   "metadata": {},
   "outputs": [
    {
     "data": {
      "image/png": "[encoded data removed]",
      "text/plain": [
       "<IPython.core.display.Image object>"
      ]
     },
     "metadata": {},
     "output_type": "display_data"
    }
   ],
   "source": [
    "from IPython.display import Image, display\n",
    "\n",
    "try:\n",
    "    display(Image(graph.get_graph().draw_mermaid_png()))\n",
    "except Exception:\n",
    "    # This requires some extra dependencies and is optional\n",
    "    pass"
   ]
  },
  {
   "cell_type": "code",
   "execution_count": 18,
   "metadata": {},
   "outputs": [
    {
     "name": "stdout",
     "output_type": "stream",
     "text": [
      "Assistant: \n",
      "Assistant: [{\"url\": \"https://langchain-ai.github.io/langgraph/\", \"content\": \"LangGraph is a framework for creating stateful, multi-actor applications with LLMs, using cycles, controllability, and persistence. Learn how to use LangGraph with LangChain, LangSmith, and Anthropic tools to build agent and multi-agent workflows.\"}, {\"url\": \"https://www.datacamp.com/tutorial/langgraph-tutorial\", \"content\": \"LangGraph is a library within the LangChain ecosystem that simplifies the development of complex, multi-agent large language model (LLM) applications. Learn how to use LangGraph to create stateful, flexible, and scalable systems with nodes, edges, and state management.\"}]\n",
      "Assistant: Based on the search results, it appears that LangGraph is a framework for creating stateful, multi-actor applications with Large Language Models (LLMs). It allows developers to build complex systems with features such as cycles, controllability, and persistence. LangGraph is part of the LangChain ecosystem and provides tools for building agent and multi-agent workflows using libraries like LangSmith and Anthropic.\n",
      "Goodbye!\n"
     ]
    }
   ],
   "source": [
    "while True:\n",
    "    try:\n",
    "        user_input = input(\"User: \")\n",
    "        if user_input.lower() in [\"quit\", \"exit\", \"q\"]:\n",
    "            print(\"Goodbye!\")\n",
    "            break\n",
    "\n",
    "        stream_graph_updates(user_input)\n",
    "    except:\n",
    "        # fallback if input() is not available\n",
    "        user_input = \"What do you know about LangGraph?\"\n",
    "        print(\"User: \" + user_input)\n",
    "        stream_graph_updates(user_input)\n",
    "        break"
   ]
  },
  {
   "cell_type": "markdown",
   "metadata": {},
   "source": [
    "## 3. Adding memory to the chatbot"
   ]
  },
  {
   "cell_type": "markdown",
   "metadata": {},
   "source": [
    "**Persistent checkpointing** get out agent to remember the context "
   ]
  },
  {
   "cell_type": "code",
   "execution_count": 22,
   "metadata": {},
   "outputs": [],
   "source": [
    "from langgraph.checkpoint.memory import MemorySaver\n",
    "\n",
    "memory = MemorySaver()"
   ]
  },
  {
   "cell_type": "markdown",
   "metadata": {},
   "source": [
    "In a production app, Change this to use SqliteSaver or PostgresSaver."
   ]
  },
  {
   "cell_type": "code",
   "execution_count": 20,
   "metadata": {},
   "outputs": [
    {
     "data": {
      "text/plain": [
       "<langgraph.graph.state.StateGraph at 0x10dbccd70>"
      ]
     },
     "execution_count": 20,
     "metadata": {},
     "output_type": "execute_result"
    }
   ],
   "source": [
    "from typing import Annotated\n",
    "\n",
    "from langchain_ollama import ChatOllama\n",
    "from langchain_community.tools.tavily_search import TavilySearchResults\n",
    "from langchain_core.messages import BaseMessage\n",
    "from typing_extensions import TypedDict\n",
    "\n",
    "from langgraph.graph import StateGraph, START, END\n",
    "from langgraph.graph.message import add_messages\n",
    "from langgraph.prebuilt import ToolNode, tools_condition\n",
    "\n",
    "\n",
    "class State(TypedDict):\n",
    "    messages: Annotated[list, add_messages]\n",
    "\n",
    "\n",
    "graph_builder = StateGraph(State)\n",
    "\n",
    "\n",
    "tool = TavilySearchResults(max_results=2)\n",
    "tools = [tool]\n",
    "llm = ChatOllama(model=\"llama3.1\")\n",
    "llm_with_tools = llm.bind_tools(tools)\n",
    "\n",
    "\n",
    "def chatbot(state: State):\n",
    "    return {\"messages\": [llm_with_tools.invoke(state[\"messages\"])]}\n",
    "\n",
    "\n",
    "graph_builder.add_node(\"chatbot\", chatbot)\n",
    "\n",
    "tool_node = ToolNode(tools=[tool])\n",
    "graph_builder.add_node(\"tools\", tool_node)\n",
    "\n",
    "graph_builder.add_conditional_edges(\n",
    "    \"chatbot\",\n",
    "    tools_condition,\n",
    ")\n",
    "# Any time a tool is called, we return to the chatbot to decide the nxt step\n",
    "graph_builder.add_edge(\"tools\", \"chatbot\") \n",
    "graph_builder.add_edge(START, \"chatbot\") "
   ]
  },
  {
   "cell_type": "code",
   "execution_count": 23,
   "metadata": {},
   "outputs": [],
   "source": [
    "graph = graph_builder.compile(checkpointer=memory)"
   ]
  },
  {
   "cell_type": "code",
   "execution_count": 24,
   "metadata": {},
   "outputs": [
    {
     "data": {
      "image/png": "[encoded data removed]",
      "text/plain": [
       "<IPython.core.display.Image object>"
      ]
     },
     "metadata": {},
     "output_type": "display_data"
    }
   ],
   "source": [
    "from IPython.display import Image, display\n",
    "\n",
    "try:\n",
    "    display(Image(graph.get_graph().draw_mermaid_png()))\n",
    "except Exception:\n",
    "    # Optional\n",
    "    pass"
   ]
  },
  {
   "cell_type": "code",
   "execution_count": 25,
   "metadata": {},
   "outputs": [],
   "source": [
    "config = {\"configurable\": {\"thread_id\": \"1\"}}"
   ]
  },
  {
   "cell_type": "code",
   "execution_count": 26,
   "metadata": {},
   "outputs": [
    {
     "name": "stdout",
     "output_type": "stream",
     "text": [
      "================================\u001b[1m Human Message \u001b[0m=================================\n",
      "\n",
      "Hi there! My name is Dustin.\n",
      "==================================\u001b[1m Ai Message \u001b[0m==================================\n",
      "Tool Calls:\n",
      "  tavily_search_results_json (fefcdc6e-ea23-4d61-9347-ef927566e28e)\n",
      " Call ID: fefcdc6e-ea23-4d61-9347-ef927566e28e\n",
      "  Args:\n",
      "    query: Dustin\n",
      "=================================\u001b[1m Tool Message \u001b[0m=================================\n",
      "Name: tavily_search_results_json\n",
      "\n",
      "[{\"url\": \"https://comicskingdom.com/dustin\", \"content\": \"The creative team behind Dustin combines the talents of established political cartoonists Steve Kelley, who writes the strip, and Jeff Parker, who draws it. Kelley has extensive experience producing humor. In 1985, he began writing comedy and performing at open-mike nights in San Diego. His incisive wit and dry delivery quickly propelled him to\"}, {\"url\": \"https://comicskingdom.com/dustin/2024-11-24\", \"content\": \"Share Bookmark Dustin - 2024-11-16 Buy a Print of this Comic. Fri, November 15, 2024. Dustin. Share Bookmark Dustin - 2024-11-15 Buy a Print of this Comic. Load more comics. Want more Dustin? Upgrade to get premium access. Unlock 250,000+ comics, and join in the fun. Upgrade Now. Terms apply. Converts to continuous service subscription.\"}]\n",
      "==================================\u001b[1m Ai Message \u001b[0m==================================\n",
      "\n",
      "Hi Dustin! It looks like there are a few different things that come up when searching for your name.\n",
      "\n",
      "It appears that you may be associated with a comic strip called \"Dustin\", which is written by Steve Kelley and drawn by Jeff Parker. The strip seems to have a humorous tone, and it's been featured on the Comics Kingdom website.\n",
      "\n",
      "Additionally, I found a few specific instances of the \"Dustin\" comic from 2024, where the topic was not specified in the search results.\n",
      "\n",
      "If you're looking for more information or context about these results, feel free to let me know!\n"
     ]
    }
   ],
   "source": [
    "user_input = \"Hi there! My name is Dustin.\"\n",
    "\n",
    "# config: 2nd arg to stream() or invoke()\n",
    "events = graph.stream(\n",
    "    {\"messages\": [(\"user\", user_input)]}, config, stream_mode=\"values\"\n",
    ")\n",
    "\n",
    "for event in events:\n",
    "    event[\"messages\"][-1].pretty_print()"
   ]
  },
  {
   "cell_type": "markdown",
   "metadata": {},
   "source": [
    "**Note:** The config(**the 2nd positional arguement**) is not nested within the inputs"
   ]
  },
  {
   "cell_type": "code",
   "execution_count": 27,
   "metadata": {},
   "outputs": [
    {
     "name": "stdout",
     "output_type": "stream",
     "text": [
      "================================\u001b[1m Human Message \u001b[0m=================================\n",
      "\n",
      "Remember my name?\n",
      "==================================\u001b[1m Ai Message \u001b[0m==================================\n",
      "Tool Calls:\n",
      "  tavily_search_results_json (539d29f7-ad22-49af-884e-afbed72dc027)\n",
      " Call ID: 539d29f7-ad22-49af-884e-afbed72dc027\n",
      "  Args:\n",
      "    query: Dustin\n",
      "=================================\u001b[1m Tool Message \u001b[0m=================================\n",
      "Name: tavily_search_results_json\n",
      "\n",
      "[{\"url\": \"https://comicskingdom.com/dustin/2024-11-24\", \"content\": \"Share Bookmark Dustin - 2024-11-16 Buy a Print of this Comic. Fri, November 15, 2024. Dustin. Share Bookmark Dustin - 2024-11-15 Buy a Print of this Comic. Load more comics. Want more Dustin? Upgrade to get premium access. Unlock 250,000+ comics, and join in the fun. Upgrade Now. Terms apply. Converts to continuous service subscription.\"}, {\"url\": \"https://comicskingdom.com/dustin\", \"content\": \"Comics by genre Featured Comic Featured Creator Dustin About Dustin The Dustin comic strip stars Dustin Kudlick, an undermotivated college grad who moves back in with his overachieving parents and teenage sister for “just a little while.” Jeff Parker Jeff Parker began drawing editorial cartoons for Florida Environments newsmagazine in 1989. Throughout his 21 years with Florida Today, Jeff’s work was distributed to hundreds of newspapers in the United […] The creative team behind Dustin combines the talents of established political cartoonists Steve Kelley, who writes the strip, and Jeff Parker, who draws it. Shop Dustin prints, shirts, and more Want more Dustin? Unlock 250,000+ comics, and join in the fun. Love comics?\"}]\n",
      "==================================\u001b[1m Ai Message \u001b[0m==================================\n",
      "\n",
      "Hi there again! I remember your name is Dustin.\n",
      "\n",
      "I found some more information about you after searching again. It looks like there's a comic strip called \"Dustin\" that features a character named Dustin Kudlick, who's an undermotivated college grad living with his overachieving parents and sister. The comic is written by Steve Kelley and drawn by Jeff Parker.\n",
      "\n",
      "If you'd like to know more about this comic or its creators, feel free to ask!\n"
     ]
    }
   ],
   "source": [
    "user_input = \"Remember my name?\"\n",
    "\n",
    "# config: 2nd arg to stream() or invoke()\n",
    "events = graph.stream(\n",
    "    {\"messages\": [(\"user\", user_input)]}, config, stream_mode=\"values\"\n",
    ")\n",
    "\n",
    "for event in events:\n",
    "    event[\"messages\"][-1].pretty_print()"
   ]
  },
  {
   "cell_type": "markdown",
   "metadata": {},
   "source": [
    "**Notice** No external list for memory"
   ]
  },
  {
   "cell_type": "code",
   "execution_count": 28,
   "metadata": {},
   "outputs": [
    {
     "name": "stdout",
     "output_type": "stream",
     "text": [
      "================================\u001b[1m Human Message \u001b[0m=================================\n",
      "\n",
      "Remember my name?\n",
      "==================================\u001b[1m Ai Message \u001b[0m==================================\n",
      "Tool Calls:\n",
      "  tavily_search_results_json (7aff29dc-32f8-4c8d-96fa-20f7b591a4dd)\n",
      " Call ID: 7aff29dc-32f8-4c8d-96fa-20f7b591a4dd\n",
      "  Args:\n",
      "    query: my name\n",
      "=================================\u001b[1m Tool Message \u001b[0m=================================\n",
      "Name: tavily_search_results_json\n",
      "\n",
      "[{\"url\": \"https://www.imdb.com/title/tt12940504/\", \"content\": \"My Name (TV Series 2021) - IMDb The Quintessential K-Drama List: Most Popular Korean Shows on IMDb Mu-jin's driver who shows off his fighting skills against Hye-jin in the final showdown, is played by veteran Korean martial arts director/action actor Won Jin, who fans of Hong Kong martial arts movies will recognise as super-kicker Sonny Wong from Operation Scorpio (1992). As this series opens school girl Yoon Ji-woo is hassled by the police and bullied by schoolmates because her estranged father is working in a major drug dealing operation. Determined to find and kill the man responsible she approaches the only person who might help; her father's associate, crime boss Choi Moo-jin.\"}, {\"url\": \"https://www.rottentomatoes.com/tv/my_name\", \"content\": \"Cast & Crew\\nHan So-hee\\nYoon Ji-woo\\nPark Hee-soon\\nChoi Moo-jin\\nAhn Bo-hyun\\nJeon Pil-do\\nKim Sang-ho\\nCha Gi-ho\\nLee Hak-joo\\nJung Tae-joo\\nYoon Kyung-ho\\nYoon Dong-hun\\nSeasons\\nDiscover\\nPopular TV on Streaming\\nPhotos\\nMy Name\\nSeries Info\\nJoin The Newsletter\\nGet the freshest reviews, news, and more delivered right to your inbox!\\n Movies / TV\\nCelebrity\\nNo Results Found\\nMovies in theaters\\nMovies at home\\nMore\\nCertified fresh picks\\nNew TV Tonight\\nMost Popular TV on RT\\nMore\\nCertified fresh pick\\nColumns\\nGuides\\nBox Office 2024: Movie Scorecard\\nHubs\\nBlack Heritage\\nGolden Tomato Awards: Best Movies & TV of 2023\\nRT News\\nWeekend Box Office Results: Lots of Love for Bob Marley over Valentine’s Day\\nOppenheimer and Poor Things dominate 2024 BAFTA winners: Full List\\nMy Name\\nWhere to Watch\\nMy Name\\nWatch My Name with a subscription on Netflix.\\n By creating an account, you agree to the\\nPrivacy Policy\\nand the\\nTerms and Policies,\\nand to receive email from Rotten Tomatoes and to receive email from the\\nFandango Media Brands.\\n Sign up for the Rotten Tomatoes newsletter to get weekly updates on:\\nBy clicking \\\"Sign Me Up,\\\" you are agreeing to receive occasional emails and communications from Fandango Media (Fandango, Vudu, and Rotten Tomatoes) and consenting to Fandango's\\nPrivacy Policy\\nand\\nTerms and Policies.\\n\"}]\n",
      "==================================\u001b[1m Ai Message \u001b[0m==================================\n",
      "\n",
      "Based on the tool call response, it appears that your name is Yoon Ji-woo.\n"
     ]
    }
   ],
   "source": [
    "# Difference: thread_id, 2\n",
    "events = graph.stream(\n",
    "    {\"messages\": [(\"user\", user_input)]},\n",
    "    {\"configurable\": {\"thread_id\": 2}},\n",
    "    stream_mode=\"values\",\n",
    ") \n",
    "for event in events:\n",
    "    event[\"messages\"][-1].pretty_print()"
   ]
  },
  {
   "cell_type": "markdown",
   "metadata": {},
   "source": [
    "**Notice** Only `thread_id` changed in the config"
   ]
  },
  {
   "cell_type": "code",
   "execution_count": 29,
   "metadata": {},
   "outputs": [
    {
     "data": {
      "text/plain": [
       "StateSnapshot(values={'messages': [HumanMessage(content='Hi there! My name is Dustin.', additional_kwargs={}, response_metadata={}, id='18bc3ec0-6d49-488c-b47b-556eefa127e9'), AIMessage(content='', additional_kwargs={}, response_metadata={'model': 'llama3.1', 'created_at': '2024-11-24T08:42:07.965939Z', 'message': {'role': 'assistant', 'content': '', 'tool_calls': [{'function': {'name': 'tavily_search_results_json', 'arguments': {'query': 'Dustin'}}}]}, 'done_reason': 'stop', 'done': True, 'total_duration': 4704087417, 'load_duration': 35399708, 'prompt_eval_count': 194, 'prompt_eval_duration': 3440000000, 'eval_count': 22, 'eval_duration': 1224000000}, id='run-8b0720a4-b5c3-4d8e-81a3-1a5eb4fa8194-0', tool_calls=[{'name': 'tavily_search_results_json', 'args': {'query': 'Dustin'}, 'id': 'fefcdc6e-ea23-4d61-9347-ef927566e28e', 'type': 'tool_call'}], usage_metadata={'input_tokens': 194, 'output_tokens': 22, 'total_tokens': 216}), ToolMessage(content='[{\"url\": \"https://comicskingdom.com/dustin\", \"content\": \"The creative team behind Dustin combines the talents of established political cartoonists Steve Kelley, who writes the strip, and Jeff Parker, who draws it. Kelley has extensive experience producing humor. In 1985, he began writing comedy and performing at open-mike nights in San Diego. His incisive wit and dry delivery quickly propelled him to\"}, {\"url\": \"https://comicskingdom.com/dustin/2024-11-24\", \"content\": \"Share Bookmark Dustin - 2024-11-16 Buy a Print of this Comic. Fri, November 15, 2024. Dustin. Share Bookmark Dustin - 2024-11-15 Buy a Print of this Comic. Load more comics. Want more Dustin? Upgrade to get premium access. Unlock 250,000+ comics, and join in the fun. Upgrade Now. Terms apply. Converts to continuous service subscription.\"}]', name='tavily_search_results_json', id='48884c1b-0826-46b4-8f74-d4494209b736', tool_call_id='fefcdc6e-ea23-4d61-9347-ef927566e28e', artifact={'query': 'Dustin', 'follow_up_questions': None, 'answer': None, 'images': [], 'results': [{'title': 'Dustin | Comics Kingdom', 'url': 'https://comicskingdom.com/dustin', 'content': 'The creative team behind Dustin combines the talents of established political cartoonists Steve Kelley, who writes the strip, and Jeff Parker, who draws it. Kelley has extensive experience producing humor. In 1985, he began writing comedy and performing at open-mike nights in San Diego. His incisive wit and dry delivery quickly propelled him to', 'score': 0.9969126, 'raw_content': None}, {'title': 'Dustin Comic Strip 2024-11-24 - Comics Kingdom', 'url': 'https://comicskingdom.com/dustin/2024-11-24', 'content': 'Share Bookmark Dustin - 2024-11-16 Buy a Print of this Comic. Fri, November 15, 2024. Dustin. Share Bookmark Dustin - 2024-11-15 Buy a Print of this Comic. Load more comics. Want more Dustin? Upgrade to get premium access. Unlock 250,000+ comics, and join in the fun. Upgrade Now. Terms apply. Converts to continuous service subscription.', 'score': 0.9885361, 'raw_content': None}], 'response_time': 2.23}), AIMessage(content='Hi Dustin! It looks like there are a few different things that come up when searching for your name.\\n\\nIt appears that you may be associated with a comic strip called \"Dustin\", which is written by Steve Kelley and drawn by Jeff Parker. The strip seems to have a humorous tone, and it\\'s been featured on the Comics Kingdom website.\\n\\nAdditionally, I found a few specific instances of the \"Dustin\" comic from 2024, where the topic was not specified in the search results.\\n\\nIf you\\'re looking for more information or context about these results, feel free to let me know!', additional_kwargs={}, response_metadata={'model': 'llama3.1', 'created_at': '2024-11-24T08:42:20.492077Z', 'message': {'role': 'assistant', 'content': 'Hi Dustin! It looks like there are a few different things that come up when searching for your name.\\n\\nIt appears that you may be associated with a comic strip called \"Dustin\", which is written by Steve Kelley and drawn by Jeff Parker. The strip seems to have a humorous tone, and it\\'s been featured on the Comics Kingdom website.\\n\\nAdditionally, I found a few specific instances of the \"Dustin\" comic from 2024, where the topic was not specified in the search results.\\n\\nIf you\\'re looking for more information or context about these results, feel free to let me know!'}, 'done_reason': 'stop', 'done': True, 'total_duration': 8849011916, 'load_duration': 42990958, 'prompt_eval_count': 296, 'prompt_eval_duration': 2027000000, 'eval_count': 121, 'eval_duration': 6725000000}, id='run-a9569ba4-aa66-411f-a289-657ccb6571c5-0', usage_metadata={'input_tokens': 296, 'output_tokens': 121, 'total_tokens': 417}), HumanMessage(content='Remember my name?', additional_kwargs={}, response_metadata={}, id='0d59abd1-4219-48a5-a0ff-3b87a1f9d447'), AIMessage(content='', additional_kwargs={}, response_metadata={'model': 'llama3.1', 'created_at': '2024-11-24T08:44:23.291959Z', 'message': {'role': 'assistant', 'content': '', 'tool_calls': [{'function': {'name': 'tavily_search_results_json', 'arguments': {'query': 'Dustin'}}}]}, 'done_reason': 'stop', 'done': True, 'total_duration': 3516454291, 'load_duration': 31640416, 'prompt_eval_count': 559, 'prompt_eval_duration': 2205000000, 'eval_count': 22, 'eval_duration': 1259000000}, id='run-74391671-2e7f-47ea-a0d6-114ed3b81c15-0', tool_calls=[{'name': 'tavily_search_results_json', 'args': {'query': 'Dustin'}, 'id': '539d29f7-ad22-49af-884e-afbed72dc027', 'type': 'tool_call'}], usage_metadata={'input_tokens': 559, 'output_tokens': 22, 'total_tokens': 581}), ToolMessage(content='[{\"url\": \"https://comicskingdom.com/dustin/2024-11-24\", \"content\": \"Share Bookmark Dustin - 2024-11-16 Buy a Print of this Comic. Fri, November 15, 2024. Dustin. Share Bookmark Dustin - 2024-11-15 Buy a Print of this Comic. Load more comics. Want more Dustin? Upgrade to get premium access. Unlock 250,000+ comics, and join in the fun. Upgrade Now. Terms apply. Converts to continuous service subscription.\"}, {\"url\": \"https://comicskingdom.com/dustin\", \"content\": \"Comics by genre Featured Comic Featured Creator Dustin About Dustin The Dustin comic strip stars Dustin Kudlick, an undermotivated college grad who moves back in with his overachieving parents and teenage sister for “just a little while.” Jeff Parker Jeff Parker began drawing editorial cartoons for Florida Environments newsmagazine in 1989. Throughout his 21 years with Florida Today, Jeff’s work was distributed to hundreds of newspapers in the United […] The creative team behind Dustin combines the talents of established political cartoonists Steve Kelley, who writes the strip, and Jeff Parker, who draws it. Shop Dustin prints, shirts, and more Want more Dustin? Unlock 250,000+ comics, and join in the fun. Love comics?\"}]', name='tavily_search_results_json', id='2551bcd2-6d01-424c-a682-edb03d46a2b3', tool_call_id='539d29f7-ad22-49af-884e-afbed72dc027', artifact={'query': 'Dustin', 'follow_up_questions': None, 'answer': None, 'images': [], 'results': [{'title': 'Dustin Comic Strip 2024-11-24 - Comics Kingdom', 'url': 'https://comicskingdom.com/dustin/2024-11-24', 'content': 'Share Bookmark Dustin - 2024-11-16 Buy a Print of this Comic. Fri, November 15, 2024. Dustin. Share Bookmark Dustin - 2024-11-15 Buy a Print of this Comic. Load more comics. Want more Dustin? Upgrade to get premium access. Unlock 250,000+ comics, and join in the fun. Upgrade Now. Terms apply. Converts to continuous service subscription.', 'score': 0.9885361, 'raw_content': None}, {'title': 'Dustin | Comics Kingdom', 'url': 'https://comicskingdom.com/dustin', 'content': 'Comics by genre Featured Comic Featured Creator Dustin About Dustin The Dustin comic strip stars Dustin Kudlick, an undermotivated college grad who moves back in with his overachieving parents and teenage sister for “just a little while.” Jeff Parker Jeff Parker began drawing editorial cartoons for Florida Environments newsmagazine in 1989. Throughout his 21 years with Florida Today, Jeff’s work was distributed to hundreds of newspapers in the United […] The creative team behind Dustin combines the talents of established political cartoonists Steve Kelley, who writes the strip, and Jeff Parker, who draws it. Shop Dustin prints, shirts, and more Want more Dustin? Unlock 250,000+ comics, and join in the fun. Love comics?', 'score': 0.98187524, 'raw_content': None}], 'response_time': 1.99}), AIMessage(content='Hi there again! I remember your name is Dustin.\\n\\nI found some more information about you after searching again. It looks like there\\'s a comic strip called \"Dustin\" that features a character named Dustin Kudlick, who\\'s an undermotivated college grad living with his overachieving parents and sister. The comic is written by Steve Kelley and drawn by Jeff Parker.\\n\\nIf you\\'d like to know more about this comic or its creators, feel free to ask!', additional_kwargs={}, response_metadata={'model': 'llama3.1', 'created_at': '2024-11-24T08:44:34.96086Z', 'message': {'role': 'assistant', 'content': 'Hi there again! I remember your name is Dustin.\\n\\nI found some more information about you after searching again. It looks like there\\'s a comic strip called \"Dustin\" that features a character named Dustin Kudlick, who\\'s an undermotivated college grad living with his overachieving parents and sister. The comic is written by Steve Kelley and drawn by Jeff Parker.\\n\\nIf you\\'d like to know more about this comic or its creators, feel free to ask!'}, 'done_reason': 'stop', 'done': True, 'total_duration': 8689906500, 'load_duration': 44922334, 'prompt_eval_count': 741, 'prompt_eval_duration': 2985000000, 'eval_count': 96, 'eval_duration': 5628000000}, id='run-6615e9ec-0759-476b-8b1e-d243a999e2c8-0', usage_metadata={'input_tokens': 741, 'output_tokens': 96, 'total_tokens': 837})]}, next=(), config={'configurable': {'thread_id': '1', 'checkpoint_ns': '', 'checkpoint_id': '1efaa405-4d8f-6d80-8008-a6524b120c32'}}, metadata={'source': 'loop', 'writes': {'chatbot': {'messages': [AIMessage(content='Hi there again! I remember your name is Dustin.\\n\\nI found some more information about you after searching again. It looks like there\\'s a comic strip called \"Dustin\" that features a character named Dustin Kudlick, who\\'s an undermotivated college grad living with his overachieving parents and sister. The comic is written by Steve Kelley and drawn by Jeff Parker.\\n\\nIf you\\'d like to know more about this comic or its creators, feel free to ask!', additional_kwargs={}, response_metadata={'model': 'llama3.1', 'created_at': '2024-11-24T08:44:34.96086Z', 'message': {'role': 'assistant', 'content': 'Hi there again! I remember your name is Dustin.\\n\\nI found some more information about you after searching again. It looks like there\\'s a comic strip called \"Dustin\" that features a character named Dustin Kudlick, who\\'s an undermotivated college grad living with his overachieving parents and sister. The comic is written by Steve Kelley and drawn by Jeff Parker.\\n\\nIf you\\'d like to know more about this comic or its creators, feel free to ask!'}, 'done_reason': 'stop', 'done': True, 'total_duration': 8689906500, 'load_duration': 44922334, 'prompt_eval_count': 741, 'prompt_eval_duration': 2985000000, 'eval_count': 96, 'eval_duration': 5628000000}, id='run-6615e9ec-0759-476b-8b1e-d243a999e2c8-0', usage_metadata={'input_tokens': 741, 'output_tokens': 96, 'total_tokens': 837})]}}, 'thread_id': '1', 'step': 8, 'parents': {}}, created_at='2024-11-24T08:44:34.990939+00:00', parent_config={'configurable': {'thread_id': '1', 'checkpoint_ns': '', 'checkpoint_id': '1efaa404-fa30-6194-8007-7185f7e389f1'}}, tasks=())"
      ]
     },
     "execution_count": 29,
     "metadata": {},
     "output_type": "execute_result"
    }
   ],
   "source": [
    "snapshot = graph.get_state(config)\n",
    "snapshot"
   ]
  },
  {
   "cell_type": "code",
   "execution_count": 30,
   "metadata": {},
   "outputs": [
    {
     "data": {
      "text/plain": [
       "()"
      ]
     },
     "execution_count": 30,
     "metadata": {},
     "output_type": "execute_result"
    }
   ],
   "source": [
    "snapshot.next # The graph ended this turn"
   ]
  },
  {
   "cell_type": "markdown",
   "metadata": {},
   "source": [
    "## 4. Human-in-the-loop"
   ]
  },
  {
   "cell_type": "code",
   "execution_count": 31,
   "metadata": {},
   "outputs": [
    {
     "data": {
      "text/plain": [
       "<langgraph.graph.state.StateGraph at 0x10dba1430>"
      ]
     },
     "execution_count": 31,
     "metadata": {},
     "output_type": "execute_result"
    }
   ],
   "source": [
    "from typing import Annotated\n",
    "\n",
    "from langchain_ollama import ChatOllama\n",
    "from langchain_community.tools.tavily_search import TavilySearchResults\n",
    "from typing_extensions import TypedDict\n",
    "\n",
    "from langgraph.checkpoint.memory import MemorySaver\n",
    "from langgraph.graph import StateGraph, START\n",
    "from langgraph.graph.message import add_messages\n",
    "from langgraph.prebuilt import ToolNode, tools_condition\n",
    "\n",
    "memory = MemorySaver()\n",
    "\n",
    "\n",
    "class State(TypedDict):\n",
    "    messages: Annotated[list, add_messages]\n",
    "\n",
    "\n",
    "graph_builder = StateGraph(State)\n",
    "\n",
    "\n",
    "tool = TavilySearchResults(max_results=2)\n",
    "tools = [tool]\n",
    "llm = ChatOllama(model=\"llama3.1\")\n",
    "llm_with_tools = llm.bind_tools(tools)\n",
    "\n",
    "\n",
    "def chatbot(state: State):\n",
    "    return {\"messages\": [llm_with_tools.invoke(state[\"messages\"])]}\n",
    "\n",
    "\n",
    "graph_builder.add_node(\"chatbot\", chatbot)\n",
    "\n",
    "tool_node = ToolNode(tools=[tool])\n",
    "graph_builder.add_node(\"tools\", tool_node)\n",
    "\n",
    "graph_builder.add_conditional_edges(\n",
    "    \"chatbot\",\n",
    "    tools_condition,\n",
    ")\n",
    "graph_builder.add_edge(\"tools\", \"chatbot\")\n",
    "graph_builder.add_edge(START, \"chatbot\")"
   ]
  },
  {
   "cell_type": "markdown",
   "metadata": {},
   "source": [
    "`interrupt_before`: To break the tool node"
   ]
  },
  {
   "cell_type": "code",
   "execution_count": 32,
   "metadata": {},
   "outputs": [],
   "source": [
    "graph = graph_builder.compile(\n",
    "    checkpointer=memory,\n",
    "    # New!\n",
    "    interrupt_before=[\"tools\"],\n",
    "    # interrupt_after=[\"tools\"] # if desired                    \n",
    ")"
   ]
  },
  {
   "cell_type": "code",
   "execution_count": 33,
   "metadata": {},
   "outputs": [
    {
     "name": "stdout",
     "output_type": "stream",
     "text": [
      "================================\u001b[1m Human Message \u001b[0m=================================\n",
      "\n",
      "I'm learning LangGraph. Could you do some research on it for me?\n",
      "==================================\u001b[1m Ai Message \u001b[0m==================================\n",
      "Tool Calls:\n",
      "  tavily_search_results_json (351e2a2a-5825-41ec-956d-d4aff62a2be9)\n",
      " Call ID: 351e2a2a-5825-41ec-956d-d4aff62a2be9\n",
      "  Args:\n",
      "    query: LangGraph\n"
     ]
    }
   ],
   "source": [
    "user_input = \"I'm learning LangGraph. Could you do some research on it for me?\"\n",
    "config = {\"configurable\": {\"thread_id\": \"1\"}}\n",
    "\n",
    "events = graph.stream(\n",
    "    {\"messages\": [(\"user\", user_input)]}, config, stream_mode=\"values\"\n",
    ")\n",
    "for event in events:\n",
    "    if \"messages\" in event:\n",
    "        event[\"messages\"][-1].pretty_print()"
   ]
  },
  {
   "cell_type": "code",
   "execution_count": 34,
   "metadata": {},
   "outputs": [
    {
     "data": {
      "text/plain": [
       "('tools',)"
      ]
     },
     "execution_count": 34,
     "metadata": {},
     "output_type": "execute_result"
    }
   ],
   "source": [
    "snapshot = graph.get_state(config)\n",
    "snapshot.next"
   ]
  },
  {
   "cell_type": "markdown",
   "metadata": {},
   "source": [
    "Notice that \"next\": 'tools' "
   ]
  },
  {
   "cell_type": "code",
   "execution_count": 35,
   "metadata": {},
   "outputs": [
    {
     "data": {
      "text/plain": [
       "[{'name': 'tavily_search_results_json',\n",
       "  'args': {'query': 'LangGraph'},\n",
       "  'id': '351e2a2a-5825-41ec-956d-d4aff62a2be9',\n",
       "  'type': 'tool_call'}]"
      ]
     },
     "execution_count": 35,
     "metadata": {},
     "output_type": "execute_result"
    }
   ],
   "source": [
    "existing_message = snapshot.values[\"messages\"][-1]\n",
    "existing_message.tool_calls"
   ]
  },
  {
   "cell_type": "code",
   "execution_count": 36,
   "metadata": {},
   "outputs": [
    {
     "name": "stdout",
     "output_type": "stream",
     "text": [
      "==================================\u001b[1m Ai Message \u001b[0m==================================\n",
      "Tool Calls:\n",
      "  tavily_search_results_json (351e2a2a-5825-41ec-956d-d4aff62a2be9)\n",
      " Call ID: 351e2a2a-5825-41ec-956d-d4aff62a2be9\n",
      "  Args:\n",
      "    query: LangGraph\n",
      "=================================\u001b[1m Tool Message \u001b[0m=================================\n",
      "Name: tavily_search_results_json\n",
      "\n",
      "[{\"url\": \"https://langchain-ai.github.io/langgraph/\", \"content\": \"LangGraph is a framework for creating stateful, multi-actor applications with LLMs, using cycles, controllability, and persistence. Learn how to use LangGraph with LangChain, LangSmith, and Anthropic tools to build agent and multi-agent workflows.\"}, {\"url\": \"https://www.datacamp.com/tutorial/langgraph-tutorial\", \"content\": \"LangGraph is a library within the LangChain ecosystem that simplifies the development of complex, multi-agent large language model (LLM) applications. Learn how to use LangGraph to create stateful, flexible, and scalable systems with nodes, edges, and state management.\"}]\n",
      "==================================\u001b[1m Ai Message \u001b[0m==================================\n",
      "\n",
      "Based on the search results, it appears that LangGraph is a framework for creating stateful, multi-actor applications with LLMs. It provides a way to build complex, flexible, and scalable systems using nodes, edges, and state management.\n",
      "\n",
      "Here are some key points about LangGraph:\n",
      "\n",
      "*   It is part of the LangChain ecosystem, which suggests it is designed to work seamlessly with other tools in the same ecosystem.\n",
      "*   LangGraph simplifies the development of complex multi-agent LLM applications by providing a structured way to manage nodes, edges, and state.\n",
      "*   The framework allows for statefulness, controllability, and persistence, making it suitable for building agent and multi-agent workflows.\n",
      "\n",
      "If you're looking to learn more about LangGraph or want to get started with using it, I would recommend checking out the official documentation on the LangChain website or taking an online tutorial like the one provided by DataCamp.\n"
     ]
    }
   ],
   "source": [
    "# `None`: nothing new\n",
    "events = graph.stream(None, config, stream_mode=\"values\")\n",
    "for event in events:\n",
    "    if \"messages\" in event:\n",
    "        event[\"messages\"][-1].pretty_print()"
   ]
  },
  {
   "cell_type": "markdown",
   "metadata": {},
   "source": [
    "## 5. Manually updating the state"
   ]
  },
  {
   "cell_type": "markdown",
   "metadata": {},
   "source": [
    "The human can `read` and `write`. "
   ]
  },
  {
   "cell_type": "code",
   "execution_count": 37,
   "metadata": {},
   "outputs": [],
   "source": [
    "from typing import Annotated\n",
    "\n",
    "from langchain_ollama import ChatOllama\n",
    "from langchain_community.tools.tavily_search import TavilySearchResults\n",
    "from typing_extensions import TypedDict\n",
    "\n",
    "from langgraph.checkpoint.memory import MemorySaver\n",
    "from langgraph.graph import StateGraph, START\n",
    "from langgraph.graph.message import add_messages\n",
    "from langgraph.prebuilt import ToolNode, tools_condition\n",
    "\n",
    "\n",
    "class State(TypedDict):\n",
    "    messages: Annotated[list, add_messages]\n",
    "\n",
    "\n",
    "graph_builder = StateGraph(State)\n",
    "\n",
    "\n",
    "tool = TavilySearchResults(max_results=2)\n",
    "tools = [tool]\n",
    "llm = ChatOllama(model=\"llama3.1\")\n",
    "llm_with_tools = llm.bind_tools(tools)\n",
    "\n",
    "\n",
    "def chatbot(state: State):\n",
    "    return {\"messages\": [llm_with_tools.invoke(state[\"messages\"])]}\n",
    "\n",
    "\n",
    "graph_builder.add_node(\"chatbot\", chatbot)\n",
    "\n",
    "tool_node = ToolNode(tools=[tool])\n",
    "graph_builder.add_node(\"tools\", tool_node)\n",
    "\n",
    "graph_builder.add_conditional_edges(\n",
    "    \"chatbot\",\n",
    "    tools_condition,\n",
    ")\n",
    "graph_builder.add_edge(\"tools\", \"chatbot\")\n",
    "graph_builder.add_edge(START, \"chatbot\")\n",
    "memory = MemorySaver()\n",
    "graph = graph_builder.compile(\n",
    "    checkpointer=memory,\n",
    "    # New!\n",
    "    interrupt_before=[\"tools\"]\n",
    "    # interrupt_after=[\"tools\"] # if desired\n",
    ")\n",
    "\n",
    "user_input = \"I'm learning LangGraph. Could you do some research on it for me?\"\n",
    "config = {\"configurable\": {\"thread_id\": \"1\"}}\n",
    "# config: 2nd arg to stream() or invoke()\n",
    "events = graph.stream({\"messages\": [(\"user\", user_input)]}, config)\n",
    "for event in events:\n",
    "    if \"messages\" in event:\n",
    "        event[\"messages\"][-1].pretty_print()\n"
   ]
  },
  {
   "cell_type": "code",
   "execution_count": 38,
   "metadata": {},
   "outputs": [
    {
     "name": "stdout",
     "output_type": "stream",
     "text": [
      "==================================\u001b[1m Ai Message \u001b[0m==================================\n",
      "Tool Calls:\n",
      "  tavily_search_results_json (777c3517-93d1-4c7e-a547-0b33eb8aa876)\n",
      " Call ID: 777c3517-93d1-4c7e-a547-0b33eb8aa876\n",
      "  Args:\n",
      "    query: LangGraph\n"
     ]
    }
   ],
   "source": [
    "snapshot = graph.get_state(config)\n",
    "existing_message = snapshot.values[\"messages\"][-1]\n",
    "existing_message.pretty_print()"
   ]
  },
  {
   "cell_type": "markdown",
   "metadata": {},
   "source": [
    "Provide the correct response"
   ]
  },
  {
   "cell_type": "code",
   "execution_count": 39,
   "metadata": {},
   "outputs": [
    {
     "name": "stdout",
     "output_type": "stream",
     "text": [
      "==================================\u001b[1m Ai Message \u001b[0m==================================\n",
      "\n",
      "LangGraph is a library for building stateful, multi-actor applications with LLMs.\n",
      "\n",
      "\n",
      "Last 2 messages;\n",
      "[ToolMessage(content='LangGraph is a library for building stateful, multi-actor applications with LLMs.', id='4a357058-e364-49f3-97ab-c5e818a19ccc', tool_call_id='777c3517-93d1-4c7e-a547-0b33eb8aa876'), AIMessage(content='LangGraph is a library for building stateful, multi-actor applications with LLMs.', additional_kwargs={}, response_metadata={}, id='6b86db9f-ad1c-4ae4-9769-51071f2a9b36')]\n"
     ]
    }
   ],
   "source": [
    "from langchain_core.messages import AIMessage, ToolMessage\n",
    "\n",
    "answer = (\n",
    "    \"LangGraph is a library for building stateful, multi-actor applications with LLMs.\"\n",
    ")\n",
    "new_messages = [\n",
    "    # ToolMessage for LLM API\n",
    "    ToolMessage(content=answer, tool_call_id=existing_message.tool_calls[0][\"id\"]),\n",
    "    # Populating its response\n",
    "    AIMessage(content=answer)\n",
    "]\n",
    "\n",
    "new_messages[-1].pretty_print()\n",
    "graph.update_state(\n",
    "    # Which state to update\n",
    "    config,\n",
    "    # The messages will be appended to the existing state\n",
    "    {\"messages\": new_messages},\n",
    ")\n",
    "print(\"\\n\\nLast 2 messages;\")\n",
    "print(graph.get_state(config).values[\"messages\"][-2:])\n"
   ]
  },
  {
   "cell_type": "markdown",
   "metadata": {},
   "source": [
    "**Notice**: Our new messages are appended to the messages already in the state."
   ]
  },
  {
   "cell_type": "code",
   "execution_count": 41,
   "metadata": {},
   "outputs": [],
   "source": [
    "class State(TypedDict):\n",
    "    messages: Annotated[list, add_messages]"
   ]
  },
  {
   "cell_type": "markdown",
   "metadata": {},
   "source": [
    "`update_state` were appended"
   ]
  },
  {
   "cell_type": "code",
   "execution_count": 42,
   "metadata": {},
   "outputs": [
    {
     "data": {
      "text/plain": [
       "{'configurable': {'thread_id': '1',\n",
       "  'checkpoint_ns': '',\n",
       "  'checkpoint_id': '1efaa425-8c3c-609a-8003-56e34c13dc5c'}}"
      ]
     },
     "execution_count": 42,
     "metadata": {},
     "output_type": "execute_result"
    }
   ],
   "source": [
    "graph.update_state(\n",
    "    config,\n",
    "    {\"messages\": [AIMessage(content=\"I'm an AI expert!\")]},\n",
    "    # continue processing as if this node just ran\n",
    "    as_node=\"chatbot\"\n",
    ")"
   ]
  },
  {
   "cell_type": "markdown",
   "metadata": {},
   "source": [
    "**Notice** that the graph continues into the `tools_condition` edge."
   ]
  },
  {
   "cell_type": "code",
   "execution_count": 43,
   "metadata": {},
   "outputs": [
    {
     "data": {
      "image/png": "[encoded data removed]",
      "text/plain": [
       "<IPython.core.display.Image object>"
      ]
     },
     "metadata": {},
     "output_type": "display_data"
    }
   ],
   "source": [
    "from IPython.display import Image, display\n",
    "\n",
    "try:\n",
    "    display(Image(graph.get_graph().draw_mermaid_png()))\n",
    "except Exception:\n",
    "    # optional\n",
    "    pass"
   ]
  },
  {
   "cell_type": "code",
   "execution_count": null,
   "metadata": {},
   "outputs": [
    {
     "name": "stdout",
     "output_type": "stream",
     "text": [
      "[ToolMessage(content='LangGraph is a library for building stateful, multi-actor applications with LLMs.', id='4a357058-e364-49f3-97ab-c5e818a19ccc', tool_call_id='777c3517-93d1-4c7e-a547-0b33eb8aa876'), AIMessage(content='LangGraph is a library for building stateful, multi-actor applications with LLMs.', additional_kwargs={}, response_metadata={}, id='6b86db9f-ad1c-4ae4-9769-51071f2a9b36'), AIMessage(content=\"I'm an AI expert!\", additional_kwargs={}, response_metadata={}, id='dd997e08-1948-409b-92e4-1fea46bbf231')]\n",
      "()\n"
     ]
    }
   ],
   "source": [
    "snapshot = graph.get_state(config)\n",
    "print(snapshot.values[\"messages\"][-3:])\n",
    "print(snapshot.next) # empty"
   ]
  },
  {
   "cell_type": "markdown",
   "metadata": {},
   "source": [
    "**Notice** Acting as the `chatbot` and responding with an AIMessages without `toolcalls`"
   ]
  },
  {
   "cell_type": "markdown",
   "metadata": {},
   "source": [
    "### What if you want to overwrite existing messages?"
   ]
  },
  {
   "cell_type": "markdown",
   "metadata": {},
   "source": [
    "First, start a new thread."
   ]
  },
  {
   "cell_type": "code",
   "execution_count": 45,
   "metadata": {},
   "outputs": [
    {
     "name": "stdout",
     "output_type": "stream",
     "text": [
      "================================\u001b[1m Human Message \u001b[0m=================================\n",
      "\n",
      "I'm learning LangGraph. Could you do some research on it for me?\n",
      "==================================\u001b[1m Ai Message \u001b[0m==================================\n",
      "Tool Calls:\n",
      "  tavily_search_results_json (d44e7c18-9338-465c-81a9-05f510f5730a)\n",
      " Call ID: d44e7c18-9338-465c-81a9-05f510f5730a\n",
      "  Args:\n",
      "    query: LangGraph research\n"
     ]
    }
   ],
   "source": [
    "user_input = \"I'm learning LangGraph. Could you do some research on it for me?\"\n",
    "config = {\"configurable\": {\"thread_id\": \"2\"}}  # we'll use thread_id = 2 here\n",
    "events = graph.stream(\n",
    "    {\"messages\": [(\"user\", user_input)]}, config, stream_mode=\"values\"\n",
    ")\n",
    "for event in events:\n",
    "    if \"messages\" in event:\n",
    "        event[\"messages\"][-1].pretty_print()"
   ]
  },
  {
   "cell_type": "markdown",
   "metadata": {},
   "source": [
    "Next, update the tool invocation for out agent."
   ]
  },
  {
   "cell_type": "code",
   "execution_count": 46,
   "metadata": {},
   "outputs": [
    {
     "name": "stdout",
     "output_type": "stream",
     "text": [
      "Original\n",
      "Message ID run-10bd25a4-77fd-4256-a840-1ea54d56e775-0\n",
      "{'name': 'tavily_search_results_json', 'args': {'query': 'LangGraph research'}, 'id': 'd44e7c18-9338-465c-81a9-05f510f5730a', 'type': 'tool_call'}\n",
      "Updated\n",
      "{'name': 'tavily_search_results_json', 'args': {'query': 'LangGraph human-in-the-loop workflow'}, 'id': 'd44e7c18-9338-465c-81a9-05f510f5730a', 'type': 'tool_call'}\n",
      "Message ID run-10bd25a4-77fd-4256-a840-1ea54d56e775-0\n",
      "\n",
      "\n",
      "Tool calls\n"
     ]
    },
    {
     "data": {
      "text/plain": [
       "[{'name': 'tavily_search_results_json',\n",
       "  'args': {'query': 'LangGraph human-in-the-loop workflow'},\n",
       "  'id': 'd44e7c18-9338-465c-81a9-05f510f5730a',\n",
       "  'type': 'tool_call'}]"
      ]
     },
     "execution_count": 46,
     "metadata": {},
     "output_type": "execute_result"
    }
   ],
   "source": [
    "from langchain_core.messages import AIMessage\n",
    "\n",
    "snapshot = graph.get_state(config)\n",
    "existing_message = snapshot.values[\"messages\"][-1]\n",
    "print(\"Original\")\n",
    "print(\"Message ID\", existing_message.id)\n",
    "print(existing_message.tool_calls[0])\n",
    "new_tool_call = existing_message.tool_calls[0].copy()\n",
    "new_tool_call[\"args\"][\"query\"] = \"LangGraph human-in-the-loop workflow\"\n",
    "new_message = AIMessage(\n",
    "    content=existing_message.content,\n",
    "    tool_calls=[new_tool_call],\n",
    "    # Important! The ID is how LangGraph knows to REPLACE the message in the state rather than APPEND this messages\n",
    "    id=existing_message.id,\n",
    ")\n",
    "\n",
    "print(\"Updated\")\n",
    "print(new_message.tool_calls[0])\n",
    "print(\"Message ID\", new_message.id)\n",
    "graph.update_state(config, {\"messages\": [new_message]})\n",
    "\n",
    "print(\"\\n\\nTool calls\")\n",
    "graph.get_state(config).values[\"messages\"][-1].tool_calls"
   ]
  },
  {
   "cell_type": "markdown",
   "metadata": {},
   "source": [
    "**Notice** that tool invocation was modified to search for \"LangGraph human-in-the-loop workflow\" "
   ]
  },
  {
   "cell_type": "code",
   "execution_count": 47,
   "metadata": {},
   "outputs": [
    {
     "name": "stdout",
     "output_type": "stream",
     "text": [
      "==================================\u001b[1m Ai Message \u001b[0m==================================\n",
      "Tool Calls:\n",
      "  tavily_search_results_json (d44e7c18-9338-465c-81a9-05f510f5730a)\n",
      " Call ID: d44e7c18-9338-465c-81a9-05f510f5730a\n",
      "  Args:\n",
      "    query: LangGraph human-in-the-loop workflow\n",
      "=================================\u001b[1m Tool Message \u001b[0m=================================\n",
      "Name: tavily_search_results_json\n",
      "\n",
      "[{\"url\": \"https://www.youtube.com/watch?v=9BPCV5TYPmg\", \"content\": \"In this video, I'll show you how to handle persistence with LangGraph, enabling a unique Human-in-the-Loop workflow. This approach allows a human to grant an\"}, {\"url\": \"https://medium.com/@harishreddykondapalli/building-a-human-in-the-loop-movie-recommendation-system-with-langgraph-44541f151e80\", \"content\": \"Building a Human-in-the-Loop Movie Recommendation System with LangGraph | by Harish Kondapalli | Nov, 2024 | Medium In this post, I'll walk you through using LangGraph to create a movie recommendation system that allows users to refine their preferences in real-time. Each agent performs a specific function in the recommendation process, allowing the system to ask users for input, filter movie suggestions based on genre, and provide tailored recommendations. LangGraph provides a robust, flexible framework for building human-in-the-loop recommendation systems that adapt to user input. Whether for movie recommendations or other interactive applications, LangGraph’s multi-agent, graph-based design enables developers to create personalized, scalable solutions that respond in real-time to individual preferences.\"}]\n",
      "==================================\u001b[1m Ai Message \u001b[0m==================================\n",
      "\n",
      "Based on the tool call response, here's an answer to your question about learning LangGraph:\n",
      "\n",
      "LangGraph is a powerful framework for building human-in-the-loop recommendation systems. It allows users to refine their preferences in real-time through a unique Human-in-the-Loop workflow. This approach enables developers to create personalized and scalable solutions that respond in real-time to individual user input.\n",
      "\n",
      "You can use LangGraph to build various interactive applications, such as movie recommendation systems, that adapt to user preferences. The framework provides a robust and flexible design for multi-agent graph-based development.\n",
      "\n",
      "To learn more about LangGraph, you can check out the YouTube video [https://www.youtube.com/watch?v=9BPCV5TYPmg] that explains how to handle persistence with LangGraph, or read the Medium post [https://medium.com/@harishreddykondapalli/building-a-human-in-the-loop-movie-recommendation-system-with-langgraph-44541f151e80] that demonstrates its capabilities in building a movie recommendation system.\n"
     ]
    }
   ],
   "source": [
    "events = graph.stream(None, config, stream_mode=\"values\")\n",
    "for event in events:\n",
    "    if \"messages\" in event:\n",
    "        event[\"messages\"][-1].pretty_print()"
   ]
  },
  {
   "cell_type": "markdown",
   "metadata": {},
   "source": [
    "**Notice**: the graph queries the search engine using our updated query term"
   ]
  },
  {
   "cell_type": "code",
   "execution_count": 48,
   "metadata": {},
   "outputs": [
    {
     "name": "stdout",
     "output_type": "stream",
     "text": [
      "================================\u001b[1m Human Message \u001b[0m=================================\n",
      "\n",
      "Remember what I'm learning about?\n",
      "==================================\u001b[1m Ai Message \u001b[0m==================================\n",
      "Tool Calls:\n",
      "  tavily_search_results_json (87209724-b3a1-41e5-9af6-f52a0f2dd847)\n",
      " Call ID: 87209724-b3a1-41e5-9af6-f52a0f2dd847\n",
      "  Args:\n",
      "    query: LangGraph graph-based multi-agent system\n"
     ]
    }
   ],
   "source": [
    "events = graph.stream(\n",
    "    {\n",
    "        \"messages\": (\n",
    "            \"user\",\n",
    "            \"Remember what I'm learning about?\",\n",
    "        )\n",
    "    },\n",
    "    config,\n",
    "    stream_mode=\"values\",\n",
    ")\n",
    "for event in events:\n",
    "    if \"messages\" in event:\n",
    "        event[\"messages\"][-1].pretty_print()"
   ]
  },
  {
   "cell_type": "markdown",
   "metadata": {},
   "source": [
    "The graph **always** interrupted whenever a tool was invoked."
   ]
  },
  {
   "cell_type": "markdown",
   "metadata": {},
   "source": [
    "## 6. Customizing State"
   ]
  },
  {
   "cell_type": "code",
   "execution_count": 50,
   "metadata": {},
   "outputs": [],
   "source": [
    "from typing import Annotated\n",
    "\n",
    "from langchain_ollama import ChatOllama\n",
    "from langchain_community.tools.tavily_search import TavilySearchResults\n",
    "from typing_extensions import TypedDict\n",
    "\n",
    "from langgraph.checkpoint.memory import MemorySaver\n",
    "from langgraph.graph import StateGraph, START\n",
    "from langgraph.graph.message import add_messages\n",
    "from langgraph.prebuilt import ToolNode, tools_condition\n",
    "\n",
    "\n",
    "class State(TypedDict):\n",
    "    messages: Annotated[list, add_messages]\n",
    "    # This flag is new\n",
    "    ask_human: bool\n",
    "\n"
   ]
  },
  {
   "cell_type": "code",
   "execution_count": 51,
   "metadata": {},
   "outputs": [],
   "source": [
    "from pydantic import BaseModel\n",
    "\n",
    "class RequestAssistance(BaseModel):\n",
    "    \"\"\"Escalate the conversation to an expert. Use this if you are unable to assist directly or if the user requires support beyond your permissions.\n",
    "\n",
    "    To use this function, relay the user's 'request' so the expert can provide the right guidance.\n",
    "    \"\"\"\n",
    "\n",
    "    request: str\n",
    "\n"
   ]
  },
  {
   "cell_type": "code",
   "execution_count": 52,
   "metadata": {},
   "outputs": [],
   "source": [
    "\n",
    "tool = TavilySearchResults(max_results=2)\n",
    "tools = [tool]\n",
    "llm = ChatOllama(model=\"llama3.1\")\n",
    "# We can bind the llm to a tool definition, a pydantic model, or a json schema\n",
    "llm_with_tools = llm.bind_tools(tools + [RequestAssistance])\n",
    "\n",
    "\n",
    "def chatbot(state: State):\n",
    "    response = llm_with_tools.invoke(state[\"messages\"])\n",
    "    ask_human = False\n",
    "    if (\n",
    "        response.tool_calls\n",
    "        and response.tool_calls[0][\"name\"] == RequestAssistance.__name__\n",
    "    ):\n",
    "        ask_human = True\n",
    "    return {\"messages\": [response], \"ask_human\": ask_human}\n",
    "\n"
   ]
  },
  {
   "cell_type": "code",
   "execution_count": 53,
   "metadata": {},
   "outputs": [
    {
     "data": {
      "text/plain": [
       "<langgraph.graph.state.StateGraph at 0x10dab7230>"
      ]
     },
     "execution_count": 53,
     "metadata": {},
     "output_type": "execute_result"
    }
   ],
   "source": [
    "\n",
    "graph_builder = StateGraph(State)\n",
    "\n",
    "graph_builder.add_node(\"chatbot\", chatbot)\n",
    "graph_builder.add_node(\"tools\", ToolNode(tools=[tool]))\n",
    "\n"
   ]
  },
  {
   "cell_type": "code",
   "execution_count": 54,
   "metadata": {},
   "outputs": [],
   "source": [
    "from langchain_core.messages import AIMessage, ToolMessage\n",
    "\n",
    "def create_response(response: str, ai_message: AIMessage):\n",
    "    return ToolMessage(\n",
    "        content=response,\n",
    "        tool_call_id=ai_message.tool_calls[0][\"id\"],\n",
    "    )\n",
    "\n",
    "\n",
    "def human_node(state: State):\n",
    "    new_messages = []\n",
    "    if not isinstance(state[\"messages\"][-1], ToolMessage):\n",
    "        # Typically, the user will have updated the state during the interrupt.\n",
    "        # If they choose not to, we will include a placeholder ToolMessage to\n",
    "        # let the LLM continue.\n",
    "        new_messages.append(\n",
    "            create_response(\"No response from human.\", state[\"messages\"][-1])\n",
    "        )\n",
    "    return {\n",
    "        # Append the new messages\n",
    "        \"messages\": new_messages,\n",
    "        # Unset the flag\n",
    "        \"ask_human\": False,\n",
    "    }\n",
    "\n"
   ]
  },
  {
   "cell_type": "code",
   "execution_count": 55,
   "metadata": {},
   "outputs": [
    {
     "data": {
      "text/plain": [
       "<langgraph.graph.state.StateGraph at 0x10dab7230>"
      ]
     },
     "execution_count": 55,
     "metadata": {},
     "output_type": "execute_result"
    }
   ],
   "source": [
    "\n",
    "graph_builder.add_node(\"human\", human_node)\n",
    "\n",
    "\n",
    "def select_next_node(state: State):\n",
    "    if state[\"ask_human\"]:\n",
    "        return \"human\"\n",
    "    # Otherwise, we can route as before\n",
    "    return tools_condition(state)\n",
    "\n",
    "\n",
    "graph_builder.add_conditional_edges(\n",
    "    \"chatbot\",\n",
    "    select_next_node,\n",
    "    {\"human\": \"human\", \"tools\": \"tools\", END: END},\n",
    ")\n"
   ]
  },
  {
   "cell_type": "code",
   "execution_count": 56,
   "metadata": {},
   "outputs": [],
   "source": [
    "graph_builder.add_edge(\"tools\", \"chatbot\")\n",
    "graph_builder.add_edge(\"human\", \"chatbot\")\n",
    "graph_builder.set_entry_point(\"chatbot\")\n",
    "memory = MemorySaver()\n",
    "graph = graph_builder.compile(\n",
    "    checkpointer=memory,\n",
    "    # We interrupt before 'human'\n",
    "    interrupt_before=[\"human\"],\n",
    ")"
   ]
  },
  {
   "cell_type": "code",
   "execution_count": 57,
   "metadata": {},
   "outputs": [
    {
     "data": {
      "image/png": "[encoded data removed]",
      "text/plain": [
       "<IPython.core.display.Image object>"
      ]
     },
     "metadata": {},
     "output_type": "display_data"
    }
   ],
   "source": [
    "from IPython.display import Image, display\n",
    "\n",
    "try:\n",
    "    display(Image(graph.get_graph().draw_mermaid_png()))\n",
    "except Exception:\n",
    "    pass"
   ]
  },
  {
   "cell_type": "code",
   "execution_count": 58,
   "metadata": {},
   "outputs": [
    {
     "name": "stdout",
     "output_type": "stream",
     "text": [
      "================================\u001b[1m Human Message \u001b[0m=================================\n",
      "\n",
      "I need some expert guidance for building this AI agent. Could you request assistance for me?\n",
      "==================================\u001b[1m Ai Message \u001b[0m==================================\n",
      "Tool Calls:\n",
      "  RequestAssistance (783f23ef-d50b-4c14-aa98-3571bd0d132e)\n",
      " Call ID: 783f23ef-d50b-4c14-aa98-3571bd0d132e\n",
      "  Args:\n",
      "    request: guidance on building an AI agent\n"
     ]
    }
   ],
   "source": [
    "user_input = \"I need some expert guidance for building this AI agent. Could you request assistance for me?\"\n",
    "config = {\"configurable\": {\"thread_id\": \"1\"}}\n",
    "# The config is the **second positional argument** to stream() or invoke()!\n",
    "events = graph.stream(\n",
    "    {\"messages\": [(\"user\", user_input)]}, config, stream_mode=\"values\"\n",
    ")\n",
    "for event in events:\n",
    "    if \"messages\" in event:\n",
    "        event[\"messages\"][-1].pretty_print()"
   ]
  },
  {
   "cell_type": "markdown",
   "metadata": {},
   "source": [
    "**Notice**: the LLM invoked the \"`RequestAssistance`\" tool, and the interrupt has been set."
   ]
  },
  {
   "cell_type": "code",
   "execution_count": 59,
   "metadata": {},
   "outputs": [
    {
     "data": {
      "text/plain": [
       "('human',)"
      ]
     },
     "execution_count": 59,
     "metadata": {},
     "output_type": "execute_result"
    }
   ],
   "source": [
    "snapshot = graph.get_state(config)\n",
    "snapshot.next"
   ]
  },
  {
   "cell_type": "markdown",
   "metadata": {},
   "source": [
    "Interrupted before the `'human'` node. Next, respond to the chatbot's request by:\n",
    "1. `ToolMessage`: will be passed back to the `chatbot`.\n",
    "2. `update_state`: update the graph state."
   ]
  },
  {
   "cell_type": "code",
   "execution_count": 60,
   "metadata": {},
   "outputs": [
    {
     "data": {
      "text/plain": [
       "{'configurable': {'thread_id': '1',\n",
       "  'checkpoint_ns': '',\n",
       "  'checkpoint_id': '1efaa445-a0bd-6742-8002-d83ce8bd9bd9'}}"
      ]
     },
     "execution_count": 60,
     "metadata": {},
     "output_type": "execute_result"
    }
   ],
   "source": [
    "ai_message = snapshot.values[\"messages\"][-1]\n",
    "human_response = (\n",
    "    \"We, the experts are here to help! We'd recommend you check out LangGraph to build your agent.\"\n",
    "    \" It's much more reliable and extensible than simple autonomous agents.\"\n",
    ")\n",
    "tool_message = create_response(human_response, ai_message)\n",
    "graph.update_state(config, {\"messages\": [tool_message]})"
   ]
  },
  {
   "cell_type": "code",
   "execution_count": 61,
   "metadata": {},
   "outputs": [
    {
     "data": {
      "text/plain": [
       "[HumanMessage(content='I need some expert guidance for building this AI agent. Could you request assistance for me?', additional_kwargs={}, response_metadata={}, id='6b19358e-c5e2-44bc-b904-56b84863e4bd'),\n",
       " AIMessage(content='', additional_kwargs={}, response_metadata={'model': 'llama3.1', 'created_at': '2024-11-24T09:11:34.207892Z', 'message': {'role': 'assistant', 'content': '', 'tool_calls': [{'function': {'name': 'RequestAssistance', 'arguments': {'request': 'guidance on building an AI agent'}}}]}, 'done_reason': 'stop', 'done': True, 'total_duration': 6277938167, 'load_duration': 571499250, 'prompt_eval_count': 293, 'prompt_eval_duration': 4374000000, 'eval_count': 24, 'eval_duration': 1327000000}, id='run-2a859acd-cd44-47f5-ab42-7f442364b533-0', tool_calls=[{'name': 'RequestAssistance', 'args': {'request': 'guidance on building an AI agent'}, 'id': '783f23ef-d50b-4c14-aa98-3571bd0d132e', 'type': 'tool_call'}], usage_metadata={'input_tokens': 293, 'output_tokens': 24, 'total_tokens': 317}),\n",
       " ToolMessage(content=\"We, the experts are here to help! We'd recommend you check out LangGraph to build your agent. It's much more reliable and extensible than simple autonomous agents.\", id='cb0ccbbb-a4c1-4f4c-b72a-8707a4cbf643', tool_call_id='783f23ef-d50b-4c14-aa98-3571bd0d132e')]"
      ]
     },
     "execution_count": 61,
     "metadata": {},
     "output_type": "execute_result"
    }
   ],
   "source": [
    "graph.get_state(config).values[\"messages\"]"
   ]
  },
  {
   "cell_type": "markdown",
   "metadata": {},
   "source": [
    "Next, resume the graph by invoking it with `None`"
   ]
  },
  {
   "cell_type": "code",
   "execution_count": 62,
   "metadata": {},
   "outputs": [
    {
     "name": "stdout",
     "output_type": "stream",
     "text": [
      "=================================\u001b[1m Tool Message \u001b[0m=================================\n",
      "\n",
      "We, the experts are here to help! We'd recommend you check out LangGraph to build your agent. It's much more reliable and extensible than simple autonomous agents.\n",
      "=================================\u001b[1m Tool Message \u001b[0m=================================\n",
      "\n",
      "We, the experts are here to help! We'd recommend you check out LangGraph to build your agent. It's much more reliable and extensible than simple autonomous agents.\n",
      "==================================\u001b[1m Ai Message \u001b[0m==================================\n",
      "\n",
      "Based on the expert's response, I can provide a formatted answer to your original question.\n",
      "\n",
      "Here is the final answer:\n",
      "\n",
      "For guidance on building an AI agent, we recommend checking out LangGraph. It's a more reliable and extensible solution compared to simple autonomous agents.\n"
     ]
    }
   ],
   "source": [
    "events = graph.stream(None, config, stream_mode=\"values\")\n",
    "for event in events:\n",
    "    if \"messages\" in event:\n",
    "        event[\"messages\"][-1].pretty_print()"
   ]
  },
  {
   "cell_type": "markdown",
   "metadata": {},
   "source": [
    "**Notice** that the chatbot incorporated the updated state."
   ]
  },
  {
   "cell_type": "markdown",
   "metadata": {},
   "source": [
    "## 7. Time Travel"
   ]
  },
  {
   "cell_type": "markdown",
   "metadata": {},
   "source": [
    "`get_state_history` rewind the graph by a checkpoint"
   ]
  },
  {
   "cell_type": "code",
   "execution_count": 63,
   "metadata": {},
   "outputs": [],
   "source": [
    "from typing import Annotated, Literal\n",
    "\n",
    "from langchain_ollama import ChatOllama\n",
    "from langchain_community.tools.tavily_search import TavilySearchResults\n",
    "from langchain_core.messages import AIMessage, ToolMessage\n",
    "# NOTE: you must use langchain-core >= 0.3 with Pydantic v2\n",
    "from pydantic import BaseModel\n",
    "from typing_extensions import TypedDict\n",
    "\n",
    "from langgraph.checkpoint.memory import MemorySaver\n",
    "from langgraph.graph import StateGraph, START\n",
    "from langgraph.graph.message import add_messages\n",
    "from langgraph.prebuilt import ToolNode, tools_condition\n",
    "\n",
    "\n",
    "class State(TypedDict):\n",
    "    messages: Annotated[list, add_messages]\n",
    "    # This flag is new\n",
    "    ask_human: bool\n",
    "\n",
    "\n",
    "class RequestAssistance(BaseModel):\n",
    "    \"\"\"Escalate the conversation to an expert. Use this if you are unable to assist directly or if the user requires support beyond your permissions.\n",
    "\n",
    "    To use this function, relay the user's 'request' so the expert can provide the right guidance.\n",
    "    \"\"\"\n",
    "\n",
    "    request: str\n",
    "\n",
    "\n",
    "tool = TavilySearchResults(max_results=2)\n",
    "tools = [tool]\n",
    "llm = ChatOllama(model=\"llama3.1\")\n",
    "# We can bind the llm to a tool definition, a pydantic model, or a json schema\n",
    "llm_with_tools = llm.bind_tools(tools + [RequestAssistance])\n",
    "\n",
    "\n",
    "def chatbot(state: State):\n",
    "    response = llm_with_tools.invoke(state[\"messages\"])\n",
    "    ask_human = False\n",
    "    if (\n",
    "        response.tool_calls\n",
    "        and response.tool_calls[0][\"name\"] == RequestAssistance.__name__\n",
    "    ):\n",
    "        ask_human = True\n",
    "    return {\"messages\": [response], \"ask_human\": ask_human}\n",
    "\n",
    "\n",
    "graph_builder = StateGraph(State)\n",
    "\n",
    "graph_builder.add_node(\"chatbot\", chatbot)\n",
    "graph_builder.add_node(\"tools\", ToolNode(tools=[tool]))\n",
    "\n",
    "\n",
    "def create_response(response: str, ai_message: AIMessage):\n",
    "    return ToolMessage(\n",
    "        content=response,\n",
    "        tool_call_id=ai_message.tool_calls[0][\"id\"],\n",
    "    )\n",
    "\n",
    "\n",
    "def human_node(state: State):\n",
    "    new_messages = []\n",
    "    if not isinstance(state[\"messages\"][-1], ToolMessage):\n",
    "        # Typically, the user will have updated the state during the interrupt.\n",
    "        # If they choose not to, we will include a placeholder ToolMessage to\n",
    "        # let the LLM continue.\n",
    "        new_messages.append(\n",
    "            create_response(\"No response from human.\", state[\"messages\"][-1])\n",
    "        )\n",
    "    return {\n",
    "        # Append the new messages\n",
    "        \"messages\": new_messages,\n",
    "        # Unset the flag\n",
    "        \"ask_human\": False,\n",
    "    }\n",
    "\n",
    "\n",
    "graph_builder.add_node(\"human\", human_node)\n",
    "\n",
    "\n",
    "def select_next_node(state: State):\n",
    "    if state[\"ask_human\"]:\n",
    "        return \"human\"\n",
    "    # Otherwise, we can route as before\n",
    "    return tools_condition(state)\n",
    "\n",
    "\n",
    "graph_builder.add_conditional_edges(\n",
    "    \"chatbot\",\n",
    "    select_next_node,\n",
    "    {\"human\": \"human\", \"tools\": \"tools\", END: END},\n",
    ")\n",
    "graph_builder.add_edge(\"tools\", \"chatbot\")\n",
    "graph_builder.add_edge(\"human\", \"chatbot\")\n",
    "graph_builder.add_edge(START, \"chatbot\")\n",
    "memory = MemorySaver()\n",
    "graph = graph_builder.compile(\n",
    "    checkpointer=memory,\n",
    "    interrupt_before=[\"human\"],\n",
    ")"
   ]
  },
  {
   "cell_type": "code",
   "execution_count": 64,
   "metadata": {},
   "outputs": [
    {
     "data": {
      "image/png": "[encoded data removed]",
      "text/plain": [
       "<IPython.core.display.Image object>"
      ]
     },
     "metadata": {},
     "output_type": "display_data"
    }
   ],
   "source": [
    "from IPython.display import Image, display\n",
    "\n",
    "try:\n",
    "    display(Image(graph.get_graph().draw_mermaid_png()))\n",
    "except Exception:\n",
    "    # This requires some extra dependencies and is optional\n",
    "    pass"
   ]
  },
  {
   "cell_type": "code",
   "execution_count": 65,
   "metadata": {},
   "outputs": [
    {
     "name": "stdout",
     "output_type": "stream",
     "text": [
      "================================\u001b[1m Human Message \u001b[0m=================================\n",
      "\n",
      "I'm learning LangGraph. Could you do some research on it for me?\n",
      "==================================\u001b[1m Ai Message \u001b[0m==================================\n",
      "Tool Calls:\n",
      "  tavily_search_results_json (4b71ec5b-a0f8-4524-b262-cbf52ce489de)\n",
      " Call ID: 4b71ec5b-a0f8-4524-b262-cbf52ce489de\n",
      "  Args:\n",
      "    query: LangGraph\n",
      "=================================\u001b[1m Tool Message \u001b[0m=================================\n",
      "Name: tavily_search_results_json\n",
      "\n",
      "[{\"url\": \"https://langchain-ai.github.io/langgraph/\", \"content\": \"LangGraph is a framework for creating stateful, multi-actor applications with LLMs, using cycles, controllability, and persistence. Learn how to use LangGraph with LangChain, LangSmith, and Anthropic tools to build agent and multi-agent workflows.\"}, {\"url\": \"https://www.datacamp.com/tutorial/langgraph-tutorial\", \"content\": \"LangGraph is a library within the LangChain ecosystem that simplifies the development of complex, multi-agent large language model (LLM) applications. Learn how to use LangGraph to create stateful, flexible, and scalable systems with nodes, edges, and state management.\"}]\n",
      "==================================\u001b[1m Ai Message \u001b[0m==================================\n",
      "\n",
      "Based on the search results, it appears that LangGraph is a framework for building stateful, multi-actor applications with LLMs, allowing for cycles, controllability, and persistence. It's part of the LangChain ecosystem, which provides tools like LangSmith and Anthropic to build agent and multi-agent workflows.\n",
      "\n",
      "LangGraph simplifies the development of complex LLM applications by providing a library for creating nodes, edges, and state management. This makes it an ideal tool for building flexible and scalable systems.\n",
      "\n",
      "To answer your original question about learning LangGraph, I would recommend checking out the official documentation and tutorials on the LangChain website (https://langchain-ai.github.io/langgraph/) or taking online courses that use LangGraph, such as the one offered by DataCamp (https://www.datacamp.com/tutorial/langgraph-tutorial).\n",
      "\n",
      "These resources should provide you with a solid understanding of how to get started with LangGraph and its capabilities.\n"
     ]
    }
   ],
   "source": [
    "config = {\"configurable\": {\"thread_id\": \"1\"}}\n",
    "events = graph.stream(\n",
    "    {\n",
    "        \"messages\": [\n",
    "            (\"user\", \"I'm learning LangGraph. Could you do some research on it for me?\")\n",
    "        ]\n",
    "    },\n",
    "    config,\n",
    "    stream_mode=\"values\",\n",
    ")\n",
    "for event in events:\n",
    "    if \"messages\" in event:\n",
    "        event[\"messages\"][-1].pretty_print()"
   ]
  },
  {
   "cell_type": "code",
   "execution_count": 66,
   "metadata": {},
   "outputs": [
    {
     "name": "stdout",
     "output_type": "stream",
     "text": [
      "================================\u001b[1m Human Message \u001b[0m=================================\n",
      "\n",
      "Ya that's helpful. Maybe I'll build an autonomous agent with it!\n",
      "==================================\u001b[1m Ai Message \u001b[0m==================================\n",
      "Tool Calls:\n",
      "  tavily_search_results_json (b6bea72a-837b-4cfc-8b4c-c6345582c460)\n",
      " Call ID: b6bea72a-837b-4cfc-8b4c-c6345582c460\n",
      "  Args:\n",
      "    query: autonomous agent with LangGraph\n",
      "=================================\u001b[1m Tool Message \u001b[0m=================================\n",
      "Name: tavily_search_results_json\n",
      "\n",
      "[{\"url\": \"https://blog.langchain.dev/how-to-build-the-ultimate-ai-automation-with-multi-agent-collaboration/\", \"content\": \"This is the \\\"master\\\" agent that coordinates the other agents using LangGraph. This agent acts as the main LangGraph interface. GPT Researcher — A specialized autonomous agent that conducts in depth research on a given topic. Editor — Responsible for planning the research outline and structure.\"}, {\"url\": \"https://github.com/langchain-ai/langgraph\", \"content\": \"GitHub - langchain-ai/langgraph: Build resilient language agents as graphs. LangGraph Platform is a commercial solution for deploying agentic applications to production, built on the open-source LangGraph framework. Let's take a look at a simple example of an agent that can use a search tool. # Define the tools for the agent to use # This means that after `tools` is called, `agent` node is called next. workflow.add_edge(\\\"tools\\\", 'agent') Define entry point and graph edges.First, we need to set the entry point for graph execution - agent node. Normal edge: after the tools are invoked, the graph should always return to the agent to decide what to do next LangGraph adds the input message to the internal state, then passes the state to the entrypoint node, \\\"agent\\\".\"}]\n",
      "==================================\u001b[1m Ai Message \u001b[0m==================================\n",
      "\n",
      "Based on the search results, it appears that building an autonomous agent with LangGraph is a feasible and powerful use case. The example provided in the GitHub repository shows how to create a simple agent that can use a search tool and then decide what to do next.\n",
      "\n",
      "The blog post from LangChain also provides inspiration for building more complex agents using multi-agent collaboration. Specifically, it mentions an \"ultimate AI automation\" system where one master agent coordinates other specialized agents, such as:\n",
      "\n",
      "1. GPT Researcher: A specialized autonomous agent that conducts in-depth research on a given topic.\n",
      "2. Editor: Responsible for planning the research outline and structure.\n",
      "\n",
      "This suggests that LangGraph can be used to build sophisticated systems with multiple autonomous agents working together to achieve complex tasks.\n",
      "\n",
      "To answer your original question about building an autonomous agent with LangGraph, I would recommend exploring these resources further:\n",
      "\n",
      "* The GitHub repository provides a good starting point for understanding how to define the graph edges and nodes.\n",
      "* The blog post from LangChain offers insights into more complex multi-agent systems and their applications.\n",
      "* You may also want to experiment with creating your own simple agents using the example code provided in the GitHub repository.\n",
      "\n",
      "By exploring these resources, you should be able to get started with building an autonomous agent with LangGraph.\n"
     ]
    }
   ],
   "source": [
    "events = graph.stream(\n",
    "    {\n",
    "        \"messages\": [\n",
    "            (\"user\", \"Ya that's helpful. Maybe I'll build an autonomous agent with it!\")\n",
    "        ]\n",
    "    },\n",
    "    config,\n",
    "    stream_mode=\"values\",\n",
    ")\n",
    "for event in events:\n",
    "    if \"messages\" in event:\n",
    "        event[\"messages\"][-1].pretty_print()"
   ]
  },
  {
   "cell_type": "code",
   "execution_count": 67,
   "metadata": {},
   "outputs": [
    {
     "name": "stdout",
     "output_type": "stream",
     "text": [
      "Num Messages:  8 Next:  ()\n",
      "--------------------------------------------------------------------------------\n",
      "Num Messages:  7 Next:  ('chatbot',)\n",
      "--------------------------------------------------------------------------------\n",
      "Num Messages:  6 Next:  ('tools',)\n",
      "--------------------------------------------------------------------------------\n",
      "Num Messages:  5 Next:  ('chatbot',)\n",
      "--------------------------------------------------------------------------------\n",
      "Num Messages:  4 Next:  ('__start__',)\n",
      "--------------------------------------------------------------------------------\n",
      "Num Messages:  4 Next:  ()\n",
      "--------------------------------------------------------------------------------\n",
      "Num Messages:  3 Next:  ('chatbot',)\n",
      "--------------------------------------------------------------------------------\n",
      "Num Messages:  2 Next:  ('tools',)\n",
      "--------------------------------------------------------------------------------\n",
      "Num Messages:  1 Next:  ('chatbot',)\n",
      "--------------------------------------------------------------------------------\n",
      "Num Messages:  0 Next:  ('__start__',)\n",
      "--------------------------------------------------------------------------------\n"
     ]
    }
   ],
   "source": [
    "to_replay = None\n",
    "for state in graph.get_state_history(config):\n",
    "    print(\"Num Messages: \", len(state.values[\"messages\"]), \"Next: \", state.next)\n",
    "    print(\"-\" * 80)\n",
    "    if len(state.values[\"messages\"]) == 6:\n",
    "        # We are somewhat arbitrarily selecting a specific state based on the number of chat messages in the state.\n",
    "        to_replay = state"
   ]
  },
  {
   "cell_type": "markdown",
   "metadata": {},
   "source": [
    "**Notice**: checkpoints are saved for every step of the graph, which spans invocations"
   ]
  },
  {
   "cell_type": "code",
   "execution_count": 68,
   "metadata": {},
   "outputs": [
    {
     "name": "stdout",
     "output_type": "stream",
     "text": [
      "('tools',)\n",
      "{'configurable': {'thread_id': '1', 'checkpoint_ns': '', 'checkpoint_id': '1efaa454-de57-67b0-8006-f91c4b81fa56'}}\n"
     ]
    }
   ],
   "source": [
    "print(to_replay.next)\n",
    "print(to_replay.config)"
   ]
  },
  {
   "cell_type": "markdown",
   "metadata": {},
   "source": [
    "**Notice** that checkpoint's config contains a `checkpoint_id` **timestamp**.(LangGraph's checkpointer loads the state from that moment in time)"
   ]
  },
  {
   "cell_type": "code",
   "execution_count": 69,
   "metadata": {},
   "outputs": [
    {
     "name": "stdout",
     "output_type": "stream",
     "text": [
      "==================================\u001b[1m Ai Message \u001b[0m==================================\n",
      "Tool Calls:\n",
      "  tavily_search_results_json (b6bea72a-837b-4cfc-8b4c-c6345582c460)\n",
      " Call ID: b6bea72a-837b-4cfc-8b4c-c6345582c460\n",
      "  Args:\n",
      "    query: autonomous agent with LangGraph\n",
      "=================================\u001b[1m Tool Message \u001b[0m=================================\n",
      "Name: tavily_search_results_json\n",
      "\n",
      "[{\"url\": \"https://medium.com/@Shrishml/a-primer-on-ai-agents-with-langgraph-understand-all-about-it-0534345190dc\", \"content\": \"Hands-on Agents with LangGraph. LangGraph simplifies AI agent development by focusing on three key components: ... Task-driven Autonomous Agent Utilizing GPT-4, Pinecone, and LangChain for Diverse\"}, {\"url\": \"https://www.solulab.com/build-ai-agents-with-langgraph/\", \"content\": \"AI Development AI Agent Development This blog will provide a detailed guide on How to build AI agents with LangGraph to help you develop your own AI apps. For moving further with the development of AI agents you need to know What is LangGraph? Fundamentally AI agents with LangGraph enable the development of applications by specifying three essential elements: The most important process of creating an AI agent by using LangGraph is to configure your development environment. Getting ready for development, therefore, is part of the initial process of developing an AI agent with the use of LangGraph. This is when you would include your logic in an AI agent based on the StateGraph that you developed. AI Development AI Agent Development\"}]\n",
      "==================================\u001b[1m Ai Message \u001b[0m==================================\n",
      "\n",
      "Based on the search results, it appears that building an autonomous agent with LangGraph involves specifying three key components:\n",
      "\n",
      "1. **State**: The current state of the agent, which can be used to make decisions.\n",
      "2. **Action**: The actions that the agent can take based on its current state.\n",
      "3. **Transition**: The rules for transitioning from one state to another.\n",
      "\n",
      "These components are configured using a StateGraph, which is a graphical representation of the states and transitions in your system.\n",
      "\n",
      "To build an autonomous agent with LangGraph, you would:\n",
      "\n",
      "1. Define the state, action, and transition components using a StateGraph.\n",
      "2. Implement the logic for making decisions based on the current state.\n",
      "3. Integrate the agent with other tools, such as LLMs (like GPT-4) and databases (like Pinecone).\n",
      "\n",
      "The resources provided suggest that LangGraph simplifies AI agent development by focusing on these three key components, making it easier to build autonomous agents.\n",
      "\n",
      "To answer your original question about building an autonomous agent with LangGraph, I would recommend checking out the tutorials and guides available online, such as the ones provided by Medium and SoluLab. These resources should give you a solid understanding of how to get started with building autonomous agents using LangGraph.\n"
     ]
    }
   ],
   "source": [
    "# The `checkpoint_id` in the `to_replay.config` corresponds to a state we've persisted to our checkpointer.\n",
    "for event in graph.stream(None, to_replay.config, stream_mode=\"values\"):\n",
    "    if \"messages\" in event:\n",
    "        event[\"messages\"][-1].pretty_print()"
   ]
  },
  {
   "cell_type": "code",
   "execution_count": null,
   "metadata": {},
   "outputs": [],
   "source": []
  }
 ],
 "metadata": {
  "kernelspec": {
   "display_name": "base",
   "language": "python",
   "name": "python3"
  },
  "language_info": {
   "codemirror_mode": {
    "name": "ipython",
    "version": 3
   },
   "file_extension": ".py",
   "mimetype": "text/x-python",
   "name": "python",
   "nbconvert_exporter": "python",
   "pygments_lexer": "ipython3",
   "version": "3.12.7"
  }
 },
 "nbformat": 4,
 "nbformat_minor": 2
}
