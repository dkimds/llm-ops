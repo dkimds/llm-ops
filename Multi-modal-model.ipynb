{
 "cells": [
  {
   "cell_type": "markdown",
   "metadata": {},
   "source": [
    "# Implementing VLM using LangChain and Ollama"
   ]
  },
  {
   "cell_type": "code",
   "execution_count": 1,
   "metadata": {},
   "outputs": [],
   "source": [
    "from langchain_community.llms import Ollama\n",
    "llm = Ollama(base_url=\"http://localhost:11434\", model=\"llava:latest\")"
   ]
  },
  {
   "cell_type": "markdown",
   "metadata": {},
   "source": [
    "## Define helper functions to handle images\n",
    "1. Load the image using PIL\n",
    "2. Convert this to base64 encoding using the base64 module"
   ]
  },
  {
   "cell_type": "code",
   "execution_count": 2,
   "metadata": {},
   "outputs": [],
   "source": [
    "from PIL import Image\n",
    "import base64\n",
    "from io import BytesIO\n",
    "\n",
    "def convert_to_base64(pil_image: Image):\n",
    "    buffered = BytesIO()\n",
    "    pil_image.save(buffered, format=\"PNG\")\n",
    "    img_str = base64.b64encode(buffered.getvalue()).decode(\"utf-8\")\n",
    "    return img_str\n",
    "\n",
    "def load_image(image_path: str):\n",
    "    pil_image = Image.open(image_path)\n",
    "    image_b64 = convert_to_base64(pil_image)\n",
    "    print(\"Loaded image successfully!\")\n",
    "    return image_b64"
   ]
  },
  {
   "cell_type": "markdown",
   "metadata": {},
   "source": [
    "## Testing it out"
   ]
  },
  {
   "cell_type": "code",
   "execution_count": 3,
   "metadata": {},
   "outputs": [
    {
     "name": "stdout",
     "output_type": "stream",
     "text": [
      "Loaded image successfully!\n",
      " The image shows a vintage car, specifically a Chevrolet Nomad, parked outdoors. It's a classic vehicle known for its unique rear-facing design and is often associated with the 1950s automotive era. The car has a pink or peachy color and chrome details, which were common in the customization styles of that time. There are no people visible in the image; the focus is on the car itself and its surroundings, including what appears to be an airport runway or tarmac in the background with airplanes parked. \n"
     ]
    }
   ],
   "source": [
    "image_b64 = load_image(\"./images/chevy.jpg\")\n",
    "resp = llm.invoke(\"What's in the image?\", images=[image_b64])\n",
    "print(resp)"
   ]
  },
  {
   "cell_type": "code",
   "execution_count": null,
   "metadata": {},
   "outputs": [],
   "source": []
  }
 ],
 "metadata": {
  "kernelspec": {
   "display_name": "base",
   "language": "python",
   "name": "python3"
  },
  "language_info": {
   "codemirror_mode": {
    "name": "ipython",
    "version": 3
   },
   "file_extension": ".py",
   "mimetype": "text/x-python",
   "name": "python",
   "nbconvert_exporter": "python",
   "pygments_lexer": "ipython3",
   "version": "3.11.7"
  }
 },
 "nbformat": 4,
 "nbformat_minor": 2
}
