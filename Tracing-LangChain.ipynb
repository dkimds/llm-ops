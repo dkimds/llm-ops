{
 "cells": [
  {
   "cell_type": "markdown",
   "metadata": {},
   "source": [
    "# Trace with LangChain"
   ]
  },
  {
   "cell_type": "markdown",
   "metadata": {},
   "source": [
    "## Quick start"
   ]
  },
  {
   "cell_type": "code",
   "execution_count": 3,
   "metadata": {},
   "outputs": [],
   "source": [
    "import getpass\n",
    "import os\n",
    "\n",
    "os.environ[\"LANGCHAIN_TRACING_V2\"] = \"true\"\n",
    "os.environ[\"LANGCHAIN_ENDPOINT\"]=\"https://api.smith.langchain.com\"\n",
    "os.environ[\"LANGCHAIN_API_KEY\"] = getpass.getpass()"
   ]
  },
  {
   "cell_type": "markdown",
   "metadata": {},
   "source": [
    "When we are using Ollama, logging a trace is optional. "
   ]
  },
  {
   "cell_type": "code",
   "execution_count": 6,
   "metadata": {},
   "outputs": [
    {
     "data": {
      "text/plain": [
       "\"What a remarkable day it has been! This morning, leaders from around the globe gathered in a historic summit to address and resolve all existing world conflicts. After intense discussions and constructive negotiations, they were able to reach a comprehensive agreement that brought peace and harmony to every nation.\\n\\nThe meeting was attended by top diplomats, representatives from international organizations, and key stakeholders from over 100 countries. The atmosphere was collaborative and solution-focused, with a shared commitment to creating a more peaceful and prosperous world.\\n\\nKey highlights from the morning's meetings include:\\n\\n* A unified declaration against war and violence\\n* Establishment of a new global framework for conflict resolution\\n* Agreement on economic cooperation and trade partnerships\\n* Commitment to environmental sustainability and climate action\\n\\nThe summit was a resounding success, marking a significant turning point in human history. As we move forward, it's clear that this newfound spirit of cooperation will have far-reaching benefits for all nations and peoples.\""
      ]
     },
     "execution_count": 6,
     "metadata": {},
     "output_type": "execute_result"
    }
   ],
   "source": [
    "from langchain_ollama import ChatOllama\n",
    "from langchain_core.prompts import ChatPromptTemplate\n",
    "from langchain_core.output_parsers import StrOutputParser\n",
    "\n",
    "prompt = ChatPromptTemplate.from_messages([\n",
    "    (\"system\", \"You are a helpful assistant. Please respond to the user's request only based on the given context.\"),\n",
    "    (\"user\", \"Question: {question}\\nContext: {context}\")\n",
    "])\n",
    "\n",
    "model = ChatOllama(model='llama3.1')\n",
    "output_parser = StrOutputParser()\n",
    "\n",
    "chain = prompt | model | output_parser"
   ]
  },
  {
   "cell_type": "markdown",
   "metadata": {},
   "source": [
    "There're 2 ways.\n",
    "1. Manually passing in a `LangChainTracer`\n",
    "2. Using the `tracing_v2_enabled`"
   ]
  },
  {
   "cell_type": "code",
   "execution_count": 7,
   "metadata": {},
   "outputs": [
    {
     "data": {
      "text/plain": [
       "\"No, you're not being traced.\""
      ]
     },
     "execution_count": 7,
     "metadata": {},
     "output_type": "execute_result"
    }
   ],
   "source": [
    "from langchain.callbacks.tracers import LangChainTracer\n",
    "\n",
    "# 1. Instance as a callback\n",
    "tracer = LangChainTracer()\n",
    "chain.invoke({\"question\": \"Am I using a callback?\", \"context\": \"I'm using a callback\"}, config={\"callbacks\": [tracer]})\n",
    "\n",
    "# 2. Context manager\n",
    "from langchain_core.tracers.context import tracing_v2_enabled\n",
    "with tracing_v2_enabled():\n",
    "    chain.invoke({\"question\": \"Am I using a context manager?\", \"context\": \"I'm using a context manager\"})\n",
    "\n",
    "# This will NOT be traced\n",
    "chain.invoke({\"question\": \"Am I being traced?\", \"context\": \"I'm not being traced\"})"
   ]
  },
  {
   "cell_type": "markdown",
   "metadata": {},
   "source": [
    "## Log to a specific project"
   ]
  },
  {
   "cell_type": "code",
   "execution_count": 10,
   "metadata": {},
   "outputs": [],
   "source": [
    "from langchain.callbacks.tracers import LangChainTracer\n",
    "\n",
    "tracer = LangChainTracer(project_name=\"LangGraph Tutorial\")\n",
    "chain.invoke({\"question\": \"Am I using a callback?\", \"context\": \"I'm using a callback\"}, config={\"callbacks\": [tracer]})\n",
    "\n",
    "from langchain_core.tracers.context import tracing_v2_enabled\n",
    "with tracing_v2_enabled(project_name=\"LangGraph Tutorial\"):\n",
    "    chain.invoke({\"question\": \"Am I using a context manager?\", \"context\": \"I'm using a context manager\"})\n"
   ]
  },
  {
   "cell_type": "markdown",
   "metadata": {},
   "source": [
    "## Add metadata and tags to traces"
   ]
  },
  {
   "cell_type": "markdown",
   "metadata": {},
   "source": [
    "**NOTE**\n",
    "\n",
    "When you attach metadata or tags to a runnable, they are inherited by all child runnables of that runnable.\n",
    "\n"
   ]
  },
  {
   "cell_type": "code",
   "execution_count": 6,
   "metadata": {},
   "outputs": [
    {
     "data": {
      "text/plain": [
       "\"One of the most profound and enduring questions of all time!\\n\\nThe meaning of life is a complex and multifaceted concept that has been debated, explored, and pondered by philosophers, theologians, scientists, and thinkers across cultures and centuries. While there may not be a single, definitive answer, here are some insights to consider:\\n\\n1. **Subjective experiences**: For many people, the meaning of life is closely tied to their personal values, goals, and aspirations. It's about pursuing happiness, fulfillment, and purpose through relationships, work, hobbies, or spiritual practices.\\n2. **Biological imperatives**: From a biological perspective, the meaning of life might be seen as ensuring the survival and propagation of our species. This view emphasizes the importance of reproduction, adaptation, and the perpetuation of genetic information.\\n3. **Existentialism**: Existentialist philosophers like Jean-Paul Sartre and Albert Camus suggest that life has no inherent meaning; instead, we must create our own purpose through choices, actions, and individual freedom.\\n4. **Humanistic values**: The humanistic approach focuses on the inherent value of human existence, emphasizing the importance of empathy, compassion, and understanding among individuals. This perspective sees the meaning of life as centered around promoting the well-being and flourishing of humanity.\\n5. **Spiritual and transcendent views**: Many spiritual traditions propose that the meaning of life is connected to a higher purpose or transcendental reality. This might involve seeking enlightenment, salvation, or union with a divine being.\\n6. **The pursuit of knowledge and understanding**: For some, the meaning of life lies in exploring the mysteries of the universe, advancing scientific knowledge, and expanding our comprehension of human existence.\\n7. **Interconnectedness**: A more holistic perspective views the meaning of life as part of a larger web of relationships between individuals, communities, ecosystems, and the planet as a whole.\\n\\nUltimately, the meaning of life is a deeply personal question that each individual must answer for themselves. It may involve a combination of these perspectives or something entirely unique.\\n\\nWhat's your take on the meaning of life?\""
      ]
     },
     "execution_count": 6,
     "metadata": {},
     "output_type": "execute_result"
    }
   ],
   "source": [
    "from langchain_ollama import ChatOllama\n",
    "from langchain_core.prompts import ChatPromptTemplate\n",
    "from langchain_core.output_parsers import StrOutputParser\n",
    "\n",
    "prompt = ChatPromptTemplate.from_messages([\n",
    "  (\"system\", \"You are a helpful AI.\"),\n",
    "  (\"user\", \"{input}\")\n",
    "])\n",
    "\n",
    "chat_model = ChatOllama(model='llama3.1').with_config({\"tags\": [\"config-tag\"], \"metadata\": {\"config-key\": \"config-value\"}})\n",
    "output_parser = StrOutputParser()\n",
    "\n",
    "chain = (prompt | chat_model | output_parser).with_config({\"tags\": [\"config-tag\"], \"metadata\": {\"config-key\": \"config-value\"}})\n",
    "\n",
    "# Tags and metadata can also be passed at runtime\n",
    "chain.invoke({\"input\": \"What is the meaning of life?\"}, {\"tags\": [\"invoke-tag\"], \"metadata\": {\"invoke-key\": \"invoke-value\"}})"
   ]
  },
  {
   "cell_type": "markdown",
   "metadata": {},
   "source": [
    "## Customize run name"
   ]
  },
  {
   "cell_type": "markdown",
   "metadata": {},
   "source": [
    "**NOTE**\n",
    "\n",
    "`run_name` is not currently supported directly for LLM objects."
   ]
  },
  {
   "cell_type": "code",
   "execution_count": 8,
   "metadata": {},
   "outputs": [
    {
     "data": {
      "text/plain": [
       "\"The question of the meaning of life has been debated and explored by philosophers, theologians, scientists, and thinkers across various cultures and disciplines for centuries. While there might not be a single definitive answer, here's a nuanced perspective:\\n\\n**Philosophical perspectives:**\\n\\n1. **Existentialism:** This philosophy suggests that life has no inherent meaning; instead, individuals must create their own purpose and meaning through experiences, choices, and relationships.\\n2. **Humanistic existentialism:** Building on existentialism, this approach emphasizes the importance of personal growth, self-actualization, and finding one's place in society.\\n3. **Absurdism:** This philosophy acknowledges that life is inherently meaningless but proposes to make the most of it by embracing the absurdity and finding creative ways to cope with it.\\n\\n**Scientific perspectives:**\\n\\n1. **Evolutionary theory:** From a biological perspective, life on Earth has evolved to optimize survival, reproduction, and genetic propagation.\\n2. **Neuroscience:** Research in neuroscience suggests that human experiences and emotions are rooted in brain activity, which can lead to various interpretations of the meaning of life.\\n\\n**Spiritual and cultural perspectives:**\\n\\n1. **Religious and spiritual traditions:** Many faiths offer answers to the question of the meaning of life, often emphasizing concepts like purpose (e.g., fulfilling God's plan), growth (e.g., developing a relationship with the divine), or self-transcendence (e.g., achieving enlightenment).\\n2. **Cultural values:** Different societies and cultures have unique perspectives on what gives life its meaning, such as family bonds, community service, personal achievements, or pursuit of happiness.\\n\\n**Common threads:**\\n\\nDespite diverse perspectives, there are some common themes:\\n\\n1. **Connection:** Meaning in life often arises from connections with others (e.g., relationships, friendships, communities), with nature (e.g., appreciating beauty, respecting the environment), or with oneself (e.g., self-awareness, personal growth).\\n2. **Purpose:** Many people find meaning through engaging in activities that provide a sense of purpose, whether it's work, hobbies, creative pursuits, or contributions to society.\\n3. **Personal growth:** Self-improvement and learning are often considered essential aspects of life that contribute to its meaning.\\n\\n**Your turn:**\\n\\nUltimately, the meaning of life is a deeply personal question. I'm not here to give you an answer; rather, I'd like to encourage you to explore your own thoughts, values, and experiences to find what gives your life significance.\\n\\nWhat do you think?\""
      ]
     },
     "execution_count": 8,
     "metadata": {},
     "output_type": "execute_result"
    }
   ],
   "source": [
    "configured_chain = chain.with_config({\"run_name\": \"MyCustomChain\"})\n",
    "configured_chain.invoke({\"input\": \"What is the meaning of life?\"})\n",
    "\n",
    "\n",
    "chain.invoke({\"input\": \"What is the meaning of life?\"}, {\"run_name\":\"MyCustomChain\"})"
   ]
  },
  {
   "cell_type": "markdown",
   "metadata": {},
   "source": [
    "## Access run(span) ID for Langchain invocations"
   ]
  },
  {
   "cell_type": "markdown",
   "metadata": {},
   "source": [
    "`collect_runs`: Access the run ID."
   ]
  },
  {
   "cell_type": "code",
   "execution_count": 9,
   "metadata": {},
   "outputs": [
    {
     "name": "stdout",
     "output_type": "stream",
     "text": [
      "69fa387b-d412-47e9-a614-144637348f16\n"
     ]
    }
   ],
   "source": [
    "from langchain_ollama import ChatOllama\n",
    "from langchain_core.prompts import ChatPromptTemplate\n",
    "from langchain_core.output_parsers import StrOutputParser\n",
    "from langchain_core.tracers.context import collect_runs\n",
    "\n",
    "prompt = ChatPromptTemplate.from_messages([\n",
    "    (\"system\", \"You are a helpful assistant. Please respond to the user's request only based on the given context.\"),\n",
    "    (\"user\", \"Question: {question}\\n\\nContext: {context}\")\n",
    "])\n",
    "model = ChatOllama(model=\"llama3.1\")\n",
    "output_parser = StrOutputParser()\n",
    "\n",
    "chain = prompt | chain | output_parser\n",
    "\n",
    "question = \"Can you summarize this morning's meetings?\"\n",
    "context = \"During this morning's meeting, we solved all world conflict.\"\n",
    "with collect_runs() as cb:\n",
    "    result = chain.invoke({\"question\": question, \"context\": context})\n",
    "    # Get the root run id\n",
    "    run_id = cb.traced_runs[0].id\n",
    "\n",
    "print(run_id)"
   ]
  },
  {
   "cell_type": "markdown",
   "metadata": {},
   "source": [
    "## Ensure all traces are submitted before existing"
   ]
  },
  {
   "cell_type": "code",
   "execution_count": 10,
   "metadata": {},
   "outputs": [],
   "source": [
    "from langchain_ollama import ChatOllama\n",
    "from langchain_core.tracers.langchain import wait_for_all_tracers\n",
    "\n",
    "llm = ChatOllama(model=\"llama3.1\")\n",
    "try:\n",
    "    llm.invoke(\"Hello, World!\")\n",
    "finally:\n",
    "    wait_for_all_tracers()"
   ]
  },
  {
   "cell_type": "markdown",
   "metadata": {},
   "source": [
    "## Trace without setting environment variables\n",
    "When it is not possible to set environments variables, set the tracing configuration programmatically"
   ]
  },
  {
   "cell_type": "code",
   "execution_count": 11,
   "metadata": {},
   "outputs": [],
   "source": [
    "from langchain.callbacks.tracers import LangChainTracer\n",
    "from langsmith import Client\n",
    "\n",
    "# Create a client instance with an api key and api url\n",
    "client = Client(\n",
    "    api_key=\"...\",\n",
    "    api_url=\"https://api.smith.langchain.com\"\n",
    ")\n",
    "\n",
    "# Pass the client and project_name to the LangChainTracer instance\n",
    "tracer = LangChainTracer(client=client, project_name=\"LangGraph Tutorial\")\n",
    "chain.invoke({\"question\": \"Am I using a callback?\", \"context\": \"I'm using a callback\"}, config={\"callbacks\": [tracer]})\n",
    "\n",
    "# \n",
    "from langchain_core.tracers.context import tracing_v2_enabled\n",
    "with tracing_v2_enabled(client=client, project_name=\"LangGraph Tutorial\"):\n",
    "    chain.invoke({\"question\": \"Am I using a context manager?\", \"context\": \"I'm using a context manager\"})"
   ]
  },
  {
   "cell_type": "code",
   "execution_count": null,
   "metadata": {},
   "outputs": [],
   "source": []
  }
 ],
 "metadata": {
  "kernelspec": {
   "display_name": "base",
   "language": "python",
   "name": "python3"
  },
  "language_info": {
   "codemirror_mode": {
    "name": "ipython",
    "version": 3
   },
   "file_extension": ".py",
   "mimetype": "text/x-python",
   "name": "python",
   "nbconvert_exporter": "python",
   "pygments_lexer": "ipython3",
   "version": "3.11.7"
  }
 },
 "nbformat": 4,
 "nbformat_minor": 2
}
