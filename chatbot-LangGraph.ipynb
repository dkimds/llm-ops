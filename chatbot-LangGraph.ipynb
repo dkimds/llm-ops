{
 "cells": [
  {
   "cell_type": "markdown",
   "metadata": {},
   "source": [
    "# Building a support chatbot in LangGraph"
   ]
  },
  {
   "cell_type": "markdown",
   "metadata": {},
   "source": [
    "## Setup"
   ]
  },
  {
   "cell_type": "code",
   "execution_count": 3,
   "metadata": {},
   "outputs": [],
   "source": [
    "%%capture --no-stderr\n",
    "%pip install -U langgraph langsmith"
   ]
  },
  {
   "cell_type": "code",
   "execution_count": 1,
   "metadata": {},
   "outputs": [],
   "source": [
    "import getpass\n",
    "import os \n",
    "\n",
    "def _set_env(var: str):\n",
    "    if not os.environ.get(var):\n",
    "        os.environ[var] = getpass.getpass(f\"{var}: \")\n",
    "\n",
    "\n",
    "_set_env(\"LANGSMITH_API_KEY\")\n",
    "os.environ[\"LANGCHAIN_TRACING_V2\"] = \"true\"\n",
    "os.environ[\"LANGCHAIN_PROJECT\"] = \"LangGraph Tutorial\""
   ]
  },
  {
   "cell_type": "markdown",
   "metadata": {},
   "source": [
    "## 1. Build a basic chatbot"
   ]
  },
  {
   "cell_type": "code",
   "execution_count": 3,
   "metadata": {},
   "outputs": [],
   "source": [
    "from typing import Annotated\n",
    "\n",
    "from typing_extensions import TypedDict\n",
    "\n",
    "from langgraph.graph import StateGraph, START, END\n",
    "from langgraph.graph.message import add_messages\n",
    "\n",
    "\n",
    "class State(TypedDict):\n",
    "    # Type of messages: list\n",
    "    # `add_messages`: how this state key should be updated\n",
    "    messages: Annotated[list, add_messages]\n",
    "\n",
    "\n",
    "graph_builder = StateGraph(State)"
   ]
  },
  {
   "cell_type": "markdown",
   "metadata": {},
   "source": [
    "1. Node\n",
    "    - INPUT: the current State\n",
    "    - OUTPUT: a value that updates the state\n",
    "2. messages\n",
    "    - appended to the current list\n",
    "    - communicated via `add_messages` in `Annotated`"
   ]
  },
  {
   "cell_type": "code",
   "execution_count": 5,
   "metadata": {},
   "outputs": [],
   "source": [
    "from langchain_ollama import ChatOllama\n",
    "\n",
    "llm = ChatOllama(model=\"llama3.1\")\n",
    "\n",
    "def chatbot(state: State):\n",
    "    return{\"messages\": [llm.invoke(state[\"messages\"])]}\n",
    "\n",
    "# 1st arg: unique node name\n",
    "# 2nd arg: function or object called whenever the node's used\n",
    "graph_builder.add_node(\"chatbot\", chatbot)"
   ]
  },
  {
   "cell_type": "markdown",
   "metadata": {},
   "source": [
    "`entry`: Where to start its work"
   ]
  },
  {
   "cell_type": "code",
   "execution_count": 6,
   "metadata": {},
   "outputs": [],
   "source": [
    "graph_builder.add_edge(START, \"chatbot\")"
   ]
  },
  {
   "cell_type": "markdown",
   "metadata": {},
   "source": [
    "`finish`: any time this node is run, you can exit"
   ]
  },
  {
   "cell_type": "code",
   "execution_count": 7,
   "metadata": {},
   "outputs": [],
   "source": [
    "graph_builder.add_edge(\"chatbot\", END)"
   ]
  },
  {
   "cell_type": "markdown",
   "metadata": {},
   "source": [
    "`CompiledGraph`: we can use invoke on our state"
   ]
  },
  {
   "cell_type": "code",
   "execution_count": 8,
   "metadata": {},
   "outputs": [],
   "source": [
    "graph = graph_builder.compile()"
   ]
  },
  {
   "cell_type": "code",
   "execution_count": 10,
   "metadata": {},
   "outputs": [
    {
     "data": {
      "image/jpeg": "[encoded data removed]",
      "text/plain": [
       "<IPython.core.display.Image object>"
      ]
     },
     "metadata": {},
     "output_type": "display_data"
    }
   ],
   "source": [
    "from IPython.display import Image, display\n",
    "\n",
    "try:\n",
    "    display(Image(graph.get_graph().draw_mermaid_png()))\n",
    "except Exception:\n",
    "    # (Optional) extra dependecies\n",
    "    pass"
   ]
  },
  {
   "cell_type": "code",
   "execution_count": 11,
   "metadata": {},
   "outputs": [
    {
     "name": "stdout",
     "output_type": "stream",
     "text": [
      "Assistant: I couldn't find any information on \"langgraph.\" It's possible that it's a misspelling, a made-up word, or something very niche.\n",
      "\n",
      "However, I can think of a few possibilities:\n",
      "\n",
      "1. **Language graph**: This could be a concept in linguistics or computer science related to visualizing language data, such as the structure and relationships between words, concepts, or entities.\n",
      "2. **LanguagE Graph**: A more plausible interpretation is that langgraph is an abbreviation for \"language engineering graph,\" which might refer to a framework or tool for representing and analyzing linguistic information in a graphical format.\n",
      "\n",
      "If none of these possibilities resonate with you, could you please provide more context about where you heard of langgraph? I'd be happy to try and help clarify what it's all about!\n",
      "Assistant: It seems that you forgot to ask a question or provide any context for our conversation. I'd be happy to chat with you, but I need something to respond to.\n",
      "\n",
      "If you're ready, we can start fresh and explore a topic of your choice. What's on your mind?\n",
      "Assistant: It seems like we've gotten off to a bit of a confusing start. I'm happy to try and help you clarify what's on your mind, though!\n",
      "\n",
      "Can you tell me more about what \"that\" is that doesn't seem right? Is there something specific that's bothering you or causing concern?\n",
      "Goodbye\n"
     ]
    }
   ],
   "source": [
    "while True:\n",
    "    user_input = input(\"User: \")\n",
    "    if user_input.lower() in [\"quit\", \"exit\", \"q\"]:\n",
    "        print(\"Goodbye\")\n",
    "        break\n",
    "    for event in graph.stream({\"messages\": (\"user\", user_input)}):\n",
    "        for value in event.values():\n",
    "            print(\"Assistant:\", value[\"messages\"][-1].content)"
   ]
  },
  {
   "cell_type": "markdown",
   "metadata": {},
   "source": [
    "## 2. Enhencing the Chatbot with Tools"
   ]
  },
  {
   "cell_type": "code",
   "execution_count": 21,
   "metadata": {},
   "outputs": [],
   "source": [
    "%%capture --no-stderr\n",
    "%pip install -U tavily-python\n",
    "%pip install -U langchain_community"
   ]
  },
  {
   "cell_type": "markdown",
   "metadata": {},
   "source": [
    "### Requireements"
   ]
  },
  {
   "cell_type": "code",
   "execution_count": 2,
   "metadata": {},
   "outputs": [],
   "source": [
    "_set_env(\"TAVILY_API_KEY\")"
   ]
  },
  {
   "cell_type": "code",
   "execution_count": 4,
   "metadata": {},
   "outputs": [
    {
     "data": {
      "text/plain": [
       "[{'url': 'https://langchain-ai.github.io/langgraph/concepts/low_level/',\n",
       "  'content': 'Nodes¶ In LangGraph, nodes are typically python functions (sync or async) where the first positional argument is the state, and (optionally), the second positional argument is a \"config\", containing optional configurable parameters (such as a thread_id). Similar to NetworkX, you add these nodes to a graph using the add_node method:'},\n",
       " {'url': 'https://medium.com/@kbdhunga/beginners-guide-to-langgraph-understanding-state-nodes-and-edges-part-1-897e6114fa48',\n",
       "  'content': 'Each node in a LangGraph graph has the ability to access, read, and write to the state. When a node modifies the state, it effectively broadcasts this information to all other nodes within the graph .'}]"
      ]
     },
     "execution_count": 4,
     "metadata": {},
     "output_type": "execute_result"
    }
   ],
   "source": [
    "from langchain_community.tools.tavily_search import TavilySearchResults\n",
    "\n",
    "tool = TavilySearchResults(max_results=2)\n",
    "tools = [tool]\n",
    "tool.invoke(\"What's a 'node' in LangGraph?\")"
   ]
  },
  {
   "cell_type": "markdown",
   "metadata": {},
   "source": [
    "**The same as in Part 1**"
   ]
  },
  {
   "cell_type": "code",
   "execution_count": 6,
   "metadata": {},
   "outputs": [],
   "source": [
    "from typing import Annotated\n",
    "\n",
    "from langchain_ollama import ChatOllama\n",
    "from typing_extensions import TypedDict\n",
    "\n",
    "from langgraph.graph import StateGraph, START\n",
    "from langgraph.graph.message import add_messages\n",
    "\n",
    "\n",
    "class State(TypedDict):\n",
    "    messages: Annotated[list, add_messages]\n",
    "\n",
    "\n",
    "graph_builder = StateGraph(State)\n",
    "\n",
    "\n",
    "llm = ChatOllama(model=\"llama3.1\")\n",
    "llm_with_tools = llm.bind_tools(tools)\n",
    "\n",
    "\n",
    "def chatbot(state: State):\n",
    "    return {\"messages\": [llm_with_tools.invoke(state[\"messages\"])]}\n",
    "\n",
    "\n",
    "graph_builder.add_node(\"chatbot\", chatbot)"
   ]
  },
  {
   "cell_type": "markdown",
   "metadata": {},
   "source": [
    "`BasicToolNode`\n",
    "- checkts the most recent message in the state and calls tools if the message contains `tool_calls`.\n",
    "- relies on the LLM's `tool_calling` support\n"
   ]
  },
  {
   "cell_type": "code",
   "execution_count": 7,
   "metadata": {},
   "outputs": [],
   "source": [
    "import json\n",
    "\n",
    "from langchain_core.messages import ToolMessage\n",
    "\n",
    "\n",
    "class BasicToolNode:\n",
    "    \"\"\"A node that runs the tools requested in the last AIMessage.\"\"\"\n",
    "\n",
    "    def __init__(self, tools: list) -> None:\n",
    "        self.tools_by_name = {tool.name: tool for tool in tools}\n",
    "\n",
    "    def __call__(self, inputs: dict):\n",
    "        if messages := inputs.get(\"messages\", []):\n",
    "            message = messages[-1]\n",
    "        else:\n",
    "            raise ValueError(\"No message found in input\")\n",
    "        outputs = []\n",
    "        for tool_call in message.tool_calls:\n",
    "            tool_result = self.tools_by_name[tool_call[\"name\"]].invoke(\n",
    "                tool_call[\"args\"]\n",
    "            )\n",
    "            outputs.append(\n",
    "                ToolMessage(\n",
    "                    content=json.dumps(tool_result),\n",
    "                    name=tool_call[\"name\"],\n",
    "                    tool_call_id=tool_call[\"id\"],\n",
    "                )\n",
    "            )\n",
    "        return {\"messages\": outputs}\n",
    "\n",
    "\n",
    "tool_node = BasicToolNode(tools=[tool])\n",
    "graph_builder.add_node(\"tools\", tool_node)"
   ]
  },
  {
   "cell_type": "markdown",
   "metadata": {},
   "source": [
    "`route_tools`: checks for tool_calls in the chatbot's output.\n",
    "`add_conditional_edges`: tells the graph that whenever the `chatbot` ndoe completes to check this function."
   ]
  },
  {
   "cell_type": "code",
   "execution_count": 8,
   "metadata": {},
   "outputs": [],
   "source": [
    "from typing import Literal\n",
    "\n",
    "\n",
    "def route_tools(\n",
    "    state: State,\n",
    ") -> Literal[\"tools\", \"__end__\"]:\n",
    "    \"\"\"\n",
    "    Use in the conditional_edge to route to the ToolNode if the last message\n",
    "    has tool calls. Otherwise, route to the end.\n",
    "    \"\"\"\n",
    "    if isinstance(state, list):\n",
    "        ai_message = state[-1]\n",
    "    elif messages := state.get(\"messages\", []):\n",
    "        ai_message = messages[-1]\n",
    "    else:\n",
    "        raise ValueError(f\"No messages found in input state to tool_edge: {state}\")\n",
    "    if hasattr(ai_message, \"tool_calls\") and len(ai_message.tool_calls) > 0:\n",
    "        return \"tools\"\n",
    "    return \"__end__\"\n",
    "\n",
    "\n",
    "graph_builder.add_conditional_edges(\n",
    "    \"chatbot\",\n",
    "    route_tools,\n",
    "    {\"tools\": \"tools\", \"__end__\": \"__end__\"},\n",
    ")\n",
    "# Any time a tool is called, we return to the chatbot to decide the next step\n",
    "graph_builder.add_edge(\"tools\", \"chatbot\")\n",
    "graph_builder.add_edge(START, \"chatbot\")\n",
    "graph = graph_builder.compile()"
   ]
  },
  {
   "cell_type": "markdown",
   "metadata": {},
   "source": [
    "**Notice** that conditional edges start from a single node. This tells the graph \"any time the 'chatbot' node runs, either go to 'tools' if it calls a tool, or end the loop if it responds directly."
   ]
  },
  {
   "cell_type": "code",
   "execution_count": 9,
   "metadata": {},
   "outputs": [
    {
     "data": {
      "image/jpeg": "[encoded data removed]",
      "text/plain": [
       "<IPython.core.display.Image object>"
      ]
     },
     "metadata": {},
     "output_type": "display_data"
    }
   ],
   "source": [
    "from IPython.display import Image, display\n",
    "\n",
    "try:\n",
    "    display(Image(graph.get_graph().draw_mermaid_png()))\n",
    "except Exception:\n",
    "    # This requires some extra dependencies and is optional\n",
    "    pass"
   ]
  },
  {
   "cell_type": "code",
   "execution_count": 11,
   "metadata": {},
   "outputs": [
    {
     "name": "stdout",
     "output_type": "stream",
     "text": [
      "Assistant: \n",
      "Assistant: [{\"url\": \"https://www.langchain.com/langgraph\", \"content\": \"LangGraph is a framework for building stateful, multi-actor agents with LLMs that can handle complex scenarios and collaborate with humans. Learn how to use LangGraph with Python or JavaScript, and deploy your agents at scale with LangGraph Cloud.\"}, {\"url\": \"https://github.com/langchain-ai/langgraph\", \"content\": \"LangGraph is a framework for creating stateful, multi-actor applications with LLMs, using cycles, controllability, and persistence. It integrates with LangChain and LangSmith, and supports human-in-the-loop and streaming features.\"}]\n",
      "Assistant: Based on the tool call response, it appears that LangGraph is a framework used for building stateful, multi-actor agents with Large Language Models (LLMs) that can handle complex scenarios and collaborate with humans. It provides tools for creating stateful applications using cycles, controllability, and persistence, and integrates with other AI frameworks such as LangChain and LangSmith.\n",
      "Goodbye!\n"
     ]
    }
   ],
   "source": [
    "from langchain_core.messages import BaseMessage\n",
    "\n",
    "while True:\n",
    "    user_input = input(\"User: \")\n",
    "    if user_input.lower() in [\"quit\", \"exit\", \"q\"]:\n",
    "        print(\"Goodbye!\")\n",
    "        break\n",
    "    for event in graph.stream({\"messages\": [(\"user\", user_input)]}):\n",
    "        for value in event.values():\n",
    "            if isinstance(value[\"messages\"][-1], BaseMessage):\n",
    "                print(\"Assistant:\", value[\"messages\"][-1].content)"
   ]
  },
  {
   "cell_type": "markdown",
   "metadata": {},
   "source": [
    "## 3. Adding memory to the chatbot"
   ]
  },
  {
   "cell_type": "code",
   "execution_count": 2,
   "metadata": {},
   "outputs": [],
   "source": [
    "from langgraph.checkpoint.memory import MemorySaver\n",
    "\n",
    "memory = MemorySaver()"
   ]
  },
  {
   "cell_type": "markdown",
   "metadata": {},
   "source": [
    "In a production app, Change this to use SqliteSaver or PostgresSaver."
   ]
  },
  {
   "cell_type": "code",
   "execution_count": 4,
   "metadata": {},
   "outputs": [],
   "source": [
    "from typing import Annotated\n",
    "\n",
    "from langchain_ollama import ChatOllama\n",
    "from langchain_community.tools.tavily_search import TavilySearchResults\n",
    "from langchain_core.messages import BaseMessage\n",
    "from typing_extensions import TypedDict\n",
    "\n",
    "from langgraph.graph import StateGraph, START, END\n",
    "from langgraph.graph.message import add_messages\n",
    "from langgraph.prebuilt import ToolNode, tools_condition\n",
    "\n",
    "\n",
    "class State(TypedDict):\n",
    "    messages: Annotated[list, add_messages]\n",
    "\n",
    "\n",
    "graph_builder = StateGraph(State)\n",
    "\n",
    "\n",
    "tool = TavilySearchResults(max_results=2)\n",
    "tools = [tool]\n",
    "llm = ChatOllama(model=\"llama3.1\")\n",
    "llm_with_tools = llm.bind_tools(tools)\n",
    "\n",
    "\n",
    "def chatbot(state: State):\n",
    "    return {\"messages\": [llm_with_tools.invoke(state[\"messages\"])]}\n",
    "\n",
    "\n",
    "graph_builder.add_node(\"chatbot\", chatbot)\n",
    "\n",
    "tool_node = ToolNode(tools=[tool])\n",
    "graph_builder.add_node(\"tools\", tool_node)\n",
    "\n",
    "graph_builder.add_conditional_edges(\n",
    "    \"chatbot\",\n",
    "    tools_condition,\n",
    ")\n",
    "# Any time a tool is called, we return to the chatbot to decide the nxt step\n",
    "graph_builder.add_edge(\"tools\", \"chatbot\") \n",
    "graph_builder.add_edge(START, \"chatbot\") "
   ]
  },
  {
   "cell_type": "code",
   "execution_count": 5,
   "metadata": {},
   "outputs": [],
   "source": [
    "graph = graph_builder.compile(checkpointer=memory)"
   ]
  },
  {
   "cell_type": "code",
   "execution_count": 6,
   "metadata": {},
   "outputs": [
    {
     "data": {
      "image/jpeg": "[encoded data removed]",
      "text/plain": [
       "<IPython.core.display.Image object>"
      ]
     },
     "metadata": {},
     "output_type": "display_data"
    }
   ],
   "source": [
    "from IPython.display import Image, display\n",
    "\n",
    "try:\n",
    "    display(Image(graph.get_graph().draw_mermaid_png()))\n",
    "except Exception:\n",
    "    # Optional\n",
    "    pass"
   ]
  },
  {
   "cell_type": "code",
   "execution_count": 7,
   "metadata": {},
   "outputs": [],
   "source": [
    "config = {\"configurable\": {\"thread_id\": \"1\"}}"
   ]
  },
  {
   "cell_type": "code",
   "execution_count": 8,
   "metadata": {},
   "outputs": [
    {
     "name": "stdout",
     "output_type": "stream",
     "text": [
      "================================\u001b[1m Human Message \u001b[0m=================================\n",
      "\n",
      "Hi there! My name is Dustin.\n",
      "==================================\u001b[1m Ai Message \u001b[0m==================================\n",
      "Tool Calls:\n",
      "  tavily_search_results_json (24d26d4e-f8ae-4339-84da-871207d8a4a3)\n",
      " Call ID: 24d26d4e-f8ae-4339-84da-871207d8a4a3\n",
      "  Args:\n",
      "    query: Dustin\n",
      "=================================\u001b[1m Tool Message \u001b[0m=================================\n",
      "Name: tavily_search_results_json\n",
      "\n",
      "[{\"url\": \"https://nameberry.com/b/boy-baby-name-dustin\", \"content\": \"Dustin is a Scandinavian and Norse name meaning \\\"brave warrior, or Thor's stone\\\". It is a classic name that has been influenced by actors, athletes, and a Netflix character.\"}, {\"url\": \"https://www.dustingroup.com/\", \"content\": \"About Dustin Group. Dustin is a leading online based IT partner in the Nordics and Benelux. We help our customers to stay in the forefront by providing them with the right IT solution at the right time and at the right price. 23.6 BSEK. Net sales.\"}]\n",
      "==================================\u001b[1m Ai Message \u001b[0m==================================\n",
      "\n",
      "Hi Dustin, it's great to meet you! It seems like \"Dustin\" has multiple meanings and associations. As a Scandinavian and Norse name, it means \"brave warrior, or Thor's stone\". There's also a company called Dustin Group that provides IT solutions in the Nordics and Benelux regions. And, I found some references to actors, athletes, and a Netflix character with this name. Is there anything specific you'd like to know about the name \"Dustin\"?\n"
     ]
    }
   ],
   "source": [
    "user_input = \"Hi there! My name is Dustin.\"\n",
    "\n",
    "# config: 2nd arg to stream() or invoke()\n",
    "events = graph.stream(\n",
    "    {\"messages\": [(\"user\", user_input)]}, config, stream_mode=\"values\"\n",
    ")\n",
    "\n",
    "for event in events:\n",
    "    event[\"messages\"][-1].pretty_print()"
   ]
  },
  {
   "cell_type": "code",
   "execution_count": 9,
   "metadata": {},
   "outputs": [
    {
     "name": "stdout",
     "output_type": "stream",
     "text": [
      "================================\u001b[1m Human Message \u001b[0m=================================\n",
      "\n",
      "Remember my name?\n",
      "==================================\u001b[1m Ai Message \u001b[0m==================================\n",
      "Tool Calls:\n",
      "  tavily_search_results_json (b5449206-5a5d-4fee-b100-8e51a8186630)\n",
      " Call ID: b5449206-5a5d-4fee-b100-8e51a8186630\n",
      "  Args:\n",
      "    query: Dustin\n",
      "=================================\u001b[1m Tool Message \u001b[0m=================================\n",
      "Name: tavily_search_results_json\n",
      "\n",
      "[{\"url\": \"https://nameberry.com/b/boy-baby-name-dustin\", \"content\": \"Dustin is a Scandinavian and Norse name meaning \\\"brave warrior, or Thor's stone\\\". It is a classic name that has been influenced by actors, athletes, and a Netflix character.\"}, {\"url\": \"https://www.dustingroup.com/\", \"content\": \"About Dustin Group. Dustin is a leading online based IT partner in the Nordics and Benelux. We help our customers to stay in the forefront by providing them with the right IT solution at the right time and at the right price. 23.6 BSEK. Net sales.\"}]\n",
      "==================================\u001b[1m Ai Message \u001b[0m==================================\n",
      "\n",
      "Dustin! I remember your name! You're a Scandinavian and Norse name meaning \"brave warrior, or Thor's stone\". Some notable individuals share your name too - actors, athletes, and even a Netflix character! How's it going, by the way?\n"
     ]
    }
   ],
   "source": [
    "user_input = \"Remember my name?\"\n",
    "\n",
    "# config: 2nd arg to stream() or invoke()\n",
    "events = graph.stream(\n",
    "    {\"messages\": [(\"user\", user_input)]}, config, stream_mode=\"values\"\n",
    ")\n",
    "\n",
    "for event in events:\n",
    "    event[\"messages\"][-1].pretty_print()"
   ]
  },
  {
   "cell_type": "code",
   "execution_count": 10,
   "metadata": {},
   "outputs": [
    {
     "name": "stdout",
     "output_type": "stream",
     "text": [
      "================================\u001b[1m Human Message \u001b[0m=================================\n",
      "\n",
      "Remember my name?\n",
      "==================================\u001b[1m Ai Message \u001b[0m==================================\n",
      "Tool Calls:\n",
      "  tavily_search_results_json (a4de74a7-3ac9-4771-ae64-f0a1d5cff0e2)\n",
      " Call ID: a4de74a7-3ac9-4771-ae64-f0a1d5cff0e2\n",
      "  Args:\n",
      "    query: What is your name?\n",
      "=================================\u001b[1m Tool Message \u001b[0m=================================\n",
      "Name: tavily_search_results_json\n",
      "\n",
      "[{\"url\": \"https://en.wikipedia.org/wiki/Your_Name\", \"content\": \"In its first week, the Blu-ray standard edition sold 202,370 units, the collector's edition sold 125,982 units and the special edition sold 94,079 units.[49] The DVD Standard Edition placed first, selling 215,963.[50] Your Name is the first anime to place three Blu-ray Disc releases in the top 10 of Oricon's overall Blu-ray Disc chart for 2 straight weeks.[51] In 2017, the film generated \\u00a56,532,421,094 ($58,238,797) in media revenue from physical home video, soundtrack and book sales in Japan.[52]\\nOverseas, the film grossed over $10.5 million from DVD and Blu-ray sales in the United States as of April\\u00a02022[update].[53] In the United Kingdom, it was 2017's second best-selling foreign language film on home video (below Operation Chromite)[54] and again 2018's second best-selling foreign language film (below My Neighbor Totoro).[55]\\nTelevision broadcast[edit]\\nThe Japanese television broadcast of Your Name was premiered on November 4, 2017, through satellite television broadcaster Wowow. On Metacritic, the film has a score of 81 out of 100 based on 26 critics, indicating \\\"universal acclaim\\\".[84]\\nMark Schilling of The Japan Times gave the film a rating of 4 out of 5 and praised the film's animation for its \\\"blend of gorgeous, realistic detail and emotionally grounded fantasy\\\".[11] He also described the film's \\\"over-deliver[y]\\\" of \\\"the comedy of adolescent embarrassment and awkwardness\\\" and its ending for being \\\"To the surprise of no one who has ever seen a Japanese seishun eiga (youth drama)\\\".[11] Reception outside of Japan was also very positive.[62][85] It made an estimated $10.9 million on its opening day from 66,000 screenings and attracting over 2.77 million admissions, the biggest 2D animated opening in the country.[69][70] It also held the record for the highest-grossing non-Hollywood foreign film in China, up until it was surpassed by two Indian films, Dangal and Secret Superstar, in May 2017 and February 2018, respectively.[71][72]\\nThe film was number-one on its opening five days in South Korea, with 1.18 million admissions and a gross of $8.2 million,[73] becoming the first Japanese film since Howl's Moving Castle to reach number one in the country.[74] Mike Toole from Anime News Network listed it as the third-best anime film of all time.[90] John Musker and Ron Clements, directors of the Disney animated films The Great Mouse Detective, The Little Mermaid, Aladdin, Hercules, Treasure Planet, The Princess and the Frog, and Moana, praised the film for its beauty and uniqueness.[91]\\nDespite the praise he received, Makoto Shinkai insisted that the film is not as good as it could have been: \\\"There are things we could not do, Masashi Ando [Director of Animation] wanted to keep working [on] but had to stop us for lack of money ... In addition, a special program dedicated to Makoto Shinkai as well as his previous works were also broadcast on the same channel.[56] It also received a Japanese terrestrial television premiere on January 3, 2018, via TV Asahi and the initial broadcast received a 17.4% audience rating.[57]\\nYour Name has made its first premiere on Philippine television through free-to-air broadcaster ABS-CBN as well as its HD television service on February 18, 2018, but in edited form due to being cut for commercials with a short runtime of 75 minutes.[58] According to Kantar Media statistics, the first free-to-air broadcast of the film received an audience rating of 9.2% while the AGB Nielsen NUTAM statistics, it received a 3.1% audience rating.[59][60]\"}, {\"url\": \"https://www.youtube.com/watch?v=me5xpPvBh3w\", \"content\": \"Visit https://www.planetpop.com and become a Planet Pop member to have access to unlimited music videos and other exclusive English teaching content from o...\"}]\n",
      "==================================\u001b[1m Ai Message \u001b[0m==================================\n",
      "\n",
      "Unfortunately, I didn't remember your name. However, I can try to recall it based on our conversation. You asked me what my name is. If you'd like to share your name with me, I'll do my best to remember it!\n"
     ]
    }
   ],
   "source": [
    "# Difference: thread_id, 2\n",
    "events = graph.stream(\n",
    "    {\"messages\": [(\"user\", user_input)]},\n",
    "    {\"configurable\": {\"thread_id\": 2}},\n",
    "    stream_mode=\"values\",\n",
    ") \n",
    "for event in events:\n",
    "    event[\"messages\"][-1].pretty_print()"
   ]
  },
  {
   "cell_type": "code",
   "execution_count": 11,
   "metadata": {},
   "outputs": [
    {
     "data": {
      "text/plain": [
       "StateSnapshot(values={'messages': [HumanMessage(content='Hi there! My name is Dustin.', id='18f466a5-155d-4277-a4e9-ff973084b245'), AIMessage(content='', response_metadata={'model': 'llama3.1', 'created_at': '2024-09-12T04:21:59.288647Z', 'message': {'role': 'assistant', 'content': '', 'tool_calls': [{'function': {'name': 'tavily_search_results_json', 'arguments': {'query': 'Dustin'}}}]}, 'done_reason': 'stop', 'done': True, 'total_duration': 19386192583, 'load_duration': 14282143000, 'prompt_eval_count': 194, 'prompt_eval_duration': 3885454000, 'eval_count': 22, 'eval_duration': 1196266000}, id='run-1c40d14e-f411-4cef-8bb5-61f474b1948f-0', tool_calls=[{'name': 'tavily_search_results_json', 'args': {'query': 'Dustin'}, 'id': '24d26d4e-f8ae-4339-84da-871207d8a4a3', 'type': 'tool_call'}], usage_metadata={'input_tokens': 194, 'output_tokens': 22, 'total_tokens': 216}), ToolMessage(content='[{\"url\": \"https://nameberry.com/b/boy-baby-name-dustin\", \"content\": \"Dustin is a Scandinavian and Norse name meaning \\\\\"brave warrior, or Thor\\'s stone\\\\\". It is a classic name that has been influenced by actors, athletes, and a Netflix character.\"}, {\"url\": \"https://www.dustingroup.com/\", \"content\": \"About Dustin Group. Dustin is a leading online based IT partner in the Nordics and Benelux. We help our customers to stay in the forefront by providing them with the right IT solution at the right time and at the right price. 23.6 BSEK. Net sales.\"}]', name='tavily_search_results_json', id='40c01012-e063-45f4-8e67-6f56c1c1e24c', tool_call_id='24d26d4e-f8ae-4339-84da-871207d8a4a3', artifact={'query': 'Dustin', 'follow_up_questions': None, 'answer': None, 'images': [], 'results': [{'title': 'Dustin | Baby Name Meaning, Origin, and Popularity', 'url': 'https://nameberry.com/b/boy-baby-name-dustin', 'content': 'Dustin is a Scandinavian and Norse name meaning \"brave warrior, or Thor\\'s stone\". It is a classic name that has been influenced by actors, athletes, and a Netflix character.', 'score': 0.99906373, 'raw_content': None}, {'title': 'Dustin', 'url': 'https://www.dustingroup.com/', 'content': 'About Dustin Group. Dustin is a leading online based IT partner in the Nordics and Benelux. We help our customers to stay in the forefront by providing them with the right IT solution at the right time and at the right price. 23.6 BSEK. Net sales.', 'score': 0.99770385, 'raw_content': None}], 'response_time': 1.98}), AIMessage(content='Hi Dustin, it\\'s great to meet you! It seems like \"Dustin\" has multiple meanings and associations. As a Scandinavian and Norse name, it means \"brave warrior, or Thor\\'s stone\". There\\'s also a company called Dustin Group that provides IT solutions in the Nordics and Benelux regions. And, I found some references to actors, athletes, and a Netflix character with this name. Is there anything specific you\\'d like to know about the name \"Dustin\"?', response_metadata={'model': 'llama3.1', 'created_at': '2024-09-12T04:22:11.996415Z', 'message': {'role': 'assistant', 'content': 'Hi Dustin, it\\'s great to meet you! It seems like \"Dustin\" has multiple meanings and associations. As a Scandinavian and Norse name, it means \"brave warrior, or Thor\\'s stone\". There\\'s also a company called Dustin Group that provides IT solutions in the Nordics and Benelux regions. And, I found some references to actors, athletes, and a Netflix character with this name. Is there anything specific you\\'d like to know about the name \"Dustin\"?'}, 'done_reason': 'stop', 'done': True, 'total_duration': 9212678209, 'load_duration': 44815500, 'prompt_eval_count': 233, 'prompt_eval_duration': 3450318000, 'eval_count': 100, 'eval_duration': 5701466000}, id='run-cad70938-e5af-4cc2-8145-c2da80f5b15d-0', usage_metadata={'input_tokens': 233, 'output_tokens': 100, 'total_tokens': 333}), HumanMessage(content='Remember my name?', id='14b24ea8-9cd5-4570-ad90-0c50121acf79'), AIMessage(content='', response_metadata={'model': 'llama3.1', 'created_at': '2024-09-12T04:24:13.722853Z', 'message': {'role': 'assistant', 'content': '', 'tool_calls': [{'function': {'name': 'tavily_search_results_json', 'arguments': {'query': 'Dustin'}}}]}, 'done_reason': 'stop', 'done': True, 'total_duration': 7200389583, 'load_duration': 33505250, 'prompt_eval_count': 475, 'prompt_eval_duration': 5898388000, 'eval_count': 22, 'eval_duration': 1256173000}, id='run-bfdc0afe-9de9-4991-8628-04cda95a11ba-0', tool_calls=[{'name': 'tavily_search_results_json', 'args': {'query': 'Dustin'}, 'id': 'b5449206-5a5d-4fee-b100-8e51a8186630', 'type': 'tool_call'}], usage_metadata={'input_tokens': 475, 'output_tokens': 22, 'total_tokens': 497}), ToolMessage(content='[{\"url\": \"https://nameberry.com/b/boy-baby-name-dustin\", \"content\": \"Dustin is a Scandinavian and Norse name meaning \\\\\"brave warrior, or Thor\\'s stone\\\\\". It is a classic name that has been influenced by actors, athletes, and a Netflix character.\"}, {\"url\": \"https://www.dustingroup.com/\", \"content\": \"About Dustin Group. Dustin is a leading online based IT partner in the Nordics and Benelux. We help our customers to stay in the forefront by providing them with the right IT solution at the right time and at the right price. 23.6 BSEK. Net sales.\"}]', name='tavily_search_results_json', id='ab0cab96-c277-431c-9a96-b55900de9116', tool_call_id='b5449206-5a5d-4fee-b100-8e51a8186630', artifact={'query': 'Dustin', 'follow_up_questions': None, 'answer': None, 'images': [], 'results': [{'title': 'Dustin - Baby Name Meaning, Origin, and Popularity', 'url': 'https://nameberry.com/b/boy-baby-name-dustin', 'content': 'Dustin is a Scandinavian and Norse name meaning \"brave warrior, or Thor\\'s stone\". It is a classic name that has been influenced by actors, athletes, and a Netflix character.', 'score': 0.99906373, 'raw_content': None}, {'title': 'Dustin', 'url': 'https://www.dustingroup.com/', 'content': 'About Dustin Group. Dustin is a leading online based IT partner in the Nordics and Benelux. We help our customers to stay in the forefront by providing them with the right IT solution at the right time and at the right price. 23.6 BSEK. Net sales.', 'score': 0.99770385, 'raw_content': None}], 'response_time': 1.91}), AIMessage(content='Dustin! I remember your name! You\\'re a Scandinavian and Norse name meaning \"brave warrior, or Thor\\'s stone\". Some notable individuals share your name too - actors, athletes, and even a Netflix character! How\\'s it going, by the way?', response_metadata={'model': 'llama3.1', 'created_at': '2024-09-12T04:24:21.957378Z', 'message': {'role': 'assistant', 'content': 'Dustin! I remember your name! You\\'re a Scandinavian and Norse name meaning \"brave warrior, or Thor\\'s stone\". Some notable individuals share your name too - actors, athletes, and even a Netflix character! How\\'s it going, by the way?'}, 'done_reason': 'stop', 'done': True, 'total_duration': 5124624667, 'load_duration': 53822083, 'prompt_eval_count': 514, 'prompt_eval_duration': 1656346000, 'eval_count': 54, 'eval_duration': 3398476000}, id='run-364c18a2-627b-4828-81ea-4c8fabdee494-0', usage_metadata={'input_tokens': 514, 'output_tokens': 54, 'total_tokens': 568})]}, next=(), config={'configurable': {'thread_id': '1', 'checkpoint_ns': '', 'checkpoint_id': '1ef70bee-29f7-6a1a-8008-2c6781acc587'}}, metadata={'source': 'loop', 'writes': {'chatbot': {'messages': [AIMessage(content='Dustin! I remember your name! You\\'re a Scandinavian and Norse name meaning \"brave warrior, or Thor\\'s stone\". Some notable individuals share your name too - actors, athletes, and even a Netflix character! How\\'s it going, by the way?', response_metadata={'model': 'llama3.1', 'created_at': '2024-09-12T04:24:21.957378Z', 'message': {'role': 'assistant', 'content': 'Dustin! I remember your name! You\\'re a Scandinavian and Norse name meaning \"brave warrior, or Thor\\'s stone\". Some notable individuals share your name too - actors, athletes, and even a Netflix character! How\\'s it going, by the way?'}, 'done_reason': 'stop', 'done': True, 'total_duration': 5124624667, 'load_duration': 53822083, 'prompt_eval_count': 514, 'prompt_eval_duration': 1656346000, 'eval_count': 54, 'eval_duration': 3398476000}, id='run-364c18a2-627b-4828-81ea-4c8fabdee494-0', usage_metadata={'input_tokens': 514, 'output_tokens': 54, 'total_tokens': 568})]}}, 'step': 8, 'parents': {}}, created_at='2024-09-12T04:24:21.997396+00:00', parent_config={'configurable': {'thread_id': '1', 'checkpoint_ns': '', 'checkpoint_id': '1ef70bed-f895-692c-8007-a698402fc3aa'}}, tasks=())"
      ]
     },
     "execution_count": 11,
     "metadata": {},
     "output_type": "execute_result"
    }
   ],
   "source": [
    "snapshot = graph.get_state(config)\n",
    "snapshot"
   ]
  },
  {
   "cell_type": "code",
   "execution_count": 12,
   "metadata": {},
   "outputs": [
    {
     "data": {
      "text/plain": [
       "()"
      ]
     },
     "execution_count": 12,
     "metadata": {},
     "output_type": "execute_result"
    }
   ],
   "source": [
    "snapshot.next"
   ]
  },
  {
   "cell_type": "markdown",
   "metadata": {},
   "source": [
    "## 4. Human-in-the-loop"
   ]
  },
  {
   "cell_type": "code",
   "execution_count": 18,
   "metadata": {},
   "outputs": [],
   "source": [
    "from typing import Annotated\n",
    "\n",
    "from langchain_ollama import ChatOllama\n",
    "from langchain_community.tools.tavily_search import TavilySearchResults\n",
    "from typing_extensions import TypedDict\n",
    "\n",
    "from langgraph.checkpoint.memory import MemorySaver\n",
    "from langgraph.graph import StateGraph, START\n",
    "from langgraph.graph.message import add_messages\n",
    "from langgraph.prebuilt import ToolNode, tools_condition\n",
    "\n",
    "memory = MemorySaver()\n",
    "\n",
    "\n",
    "class State(TypedDict):\n",
    "    messages: Annotated[list, add_messages]\n",
    "\n",
    "\n",
    "graph_builder = StateGraph(State)\n",
    "\n",
    "\n",
    "tool = TavilySearchResults(max_results=2)\n",
    "tools = [tool]\n",
    "llm = ChatOllama(model=\"llama3.1\")\n",
    "llm_with_tools = llm.bind_tools(tools)\n",
    "\n",
    "\n",
    "def chatbot(state: State):\n",
    "    return {\"messages\": [llm_with_tools.invoke(state[\"messages\"])]}\n",
    "\n",
    "\n",
    "graph_builder.add_node(\"chatbot\", chatbot)\n",
    "\n",
    "tool_node = ToolNode(tools=[tool])\n",
    "graph_builder.add_node(\"tools\", tool_node)\n",
    "\n",
    "graph_builder.add_conditional_edges(\n",
    "    \"chatbot\",\n",
    "    tools_condition,\n",
    ")\n",
    "graph_builder.add_edge(\"tools\", \"chatbot\")\n",
    "graph_builder.add_edge(START, \"chatbot\")"
   ]
  },
  {
   "cell_type": "code",
   "execution_count": 20,
   "metadata": {},
   "outputs": [],
   "source": [
    "graph = graph_builder.compile(\n",
    "    checkpointer=memory,\n",
    "    # New!\n",
    "    interrupt_before=[\"tools\"],\n",
    "    # interrupt_after=[\"tools\"]                      \n",
    ")"
   ]
  },
  {
   "cell_type": "code",
   "execution_count": 21,
   "metadata": {},
   "outputs": [
    {
     "name": "stdout",
     "output_type": "stream",
     "text": [
      "================================\u001b[1m Human Message \u001b[0m=================================\n",
      "\n",
      "I'm learning LangGraph. Could you do some research on it for me?\n",
      "==================================\u001b[1m Ai Message \u001b[0m==================================\n",
      "Tool Calls:\n",
      "  tavily_search_results_json (85f285f2-894d-473e-a78c-e1eb176cb927)\n",
      " Call ID: 85f285f2-894d-473e-a78c-e1eb176cb927\n",
      "  Args:\n",
      "    query: LangGraph\n"
     ]
    }
   ],
   "source": [
    "user_input = \"I'm learning LangGraph. Could you do some research on it for me?\"\n",
    "config = {\"configurable\": {\"thread_id\": \"1\"}}\n",
    "\n",
    "events = graph.stream(\n",
    "    {\"messages\": [(\"user\", user_input)]}, config, stream_mode=\"values\"\n",
    ")\n",
    "for event in events:\n",
    "    if \"messages\" in event:\n",
    "        event[\"messages\"][-1].pretty_print()"
   ]
  },
  {
   "cell_type": "code",
   "execution_count": 22,
   "metadata": {},
   "outputs": [
    {
     "data": {
      "text/plain": [
       "('tools',)"
      ]
     },
     "execution_count": 22,
     "metadata": {},
     "output_type": "execute_result"
    }
   ],
   "source": [
    "snapshot = graph.get_state(config)\n",
    "snapshot.next"
   ]
  },
  {
   "cell_type": "markdown",
   "metadata": {},
   "source": [
    "Notice that \"next\": 'tools' "
   ]
  },
  {
   "cell_type": "code",
   "execution_count": 23,
   "metadata": {},
   "outputs": [
    {
     "data": {
      "text/plain": [
       "[{'name': 'tavily_search_results_json',\n",
       "  'args': {'query': 'LangGraph'},\n",
       "  'id': '85f285f2-894d-473e-a78c-e1eb176cb927',\n",
       "  'type': 'tool_call'}]"
      ]
     },
     "execution_count": 23,
     "metadata": {},
     "output_type": "execute_result"
    }
   ],
   "source": [
    "existing_message = snapshot.values[\"messages\"][-1]\n",
    "existing_message.tool_calls"
   ]
  },
  {
   "cell_type": "code",
   "execution_count": 25,
   "metadata": {},
   "outputs": [
    {
     "name": "stdout",
     "output_type": "stream",
     "text": [
      "==================================\u001b[1m Ai Message \u001b[0m==================================\n",
      "\n",
      "Based on the search results I found for you:\n",
      "\n",
      "LangGraph is a framework that allows you to build stateful, multi-actor agents using Large Language Models (LLMs). It simplifies the development of complex applications by providing tools for node creation, edge management, and state management. You can use LangGraph with either Python or JavaScript, and it also has cloud deployment capabilities through LangGraph Cloud.\n",
      "\n",
      "If you'd like to learn more about how to use LangGraph in a tutorial setting, I found a resource on DataCamp that provides an introduction to the library and its features. Let me know if you have any other questions!\n"
     ]
    }
   ],
   "source": [
    "# `None`: nothing new\n",
    "events = graph.stream(None, config, stream_mode=\"values\")\n",
    "for event in events:\n",
    "    if \"messages\" in event:\n",
    "        event[\"messages\"][-1].pretty_print()"
   ]
  },
  {
   "cell_type": "markdown",
   "metadata": {},
   "source": [
    "## 5. Manually updating the state"
   ]
  },
  {
   "cell_type": "code",
   "execution_count": 25,
   "metadata": {},
   "outputs": [],
   "source": [
    "from typing import Annotated\n",
    "\n",
    "from langchain_ollama import ChatOllama\n",
    "from langchain_community.tools.tavily_search import TavilySearchResults\n",
    "from typing_extensions import TypedDict\n",
    "\n",
    "from langgraph.checkpoint.memory import MemorySaver\n",
    "from langgraph.graph import StateGraph, START\n",
    "from langgraph.graph.message import add_messages\n",
    "from langgraph.prebuilt import ToolNode, tools_condition\n",
    "\n",
    "\n",
    "class State(TypedDict):\n",
    "    messages: Annotated[list, add_messages]\n",
    "\n",
    "\n",
    "graph_builder = StateGraph(State)\n",
    "\n",
    "\n",
    "tool = TavilySearchResults(max_results=2)\n",
    "tools = [tool]\n",
    "llm = ChatOllama(model=\"llama3.1\")\n",
    "llm_with_tools = llm.bind_tools(tools)\n",
    "\n",
    "\n",
    "def chatbot(state: State):\n",
    "    return {\"messages\": [llm_with_tools.invoke(state[\"messages\"])]}\n",
    "\n",
    "\n",
    "graph_builder.add_node(\"chatbot\", chatbot)\n",
    "\n",
    "tool_node = ToolNode(tools=[tool])\n",
    "graph_builder.add_node(\"tools\", tool_node)\n",
    "\n",
    "graph_builder.add_conditional_edges(\n",
    "    \"chatbot\",\n",
    "    tools_condition,\n",
    ")\n",
    "graph_builder.add_edge(\"tools\", \"chatbot\")\n",
    "graph_builder.add_edge(START, \"chatbot\")\n",
    "memory = MemorySaver()\n",
    "graph = graph_builder.compile(\n",
    "    checkpointer=memory,\n",
    "    # New!\n",
    "    interrupt_before=[\"tools\"]\n",
    "    # interrupt_after=[\"tools\"]\n",
    ")\n",
    "\n",
    "user_input = \"I'm learning LangGraph. Could you do some research on it for me?\"\n",
    "config = {\"configurable\": {\"thread_id\": \"1\"}}\n",
    "# config: 2nd arg to stream() or invoke()\n",
    "events = graph.stream({\"messages\": [(\"user\", user_input)]}, config)\n",
    "for event in events:\n",
    "    if \"messages\" in event:\n",
    "        event[\"messages\"][-1].pretty_print()\n"
   ]
  },
  {
   "cell_type": "code",
   "execution_count": 26,
   "metadata": {},
   "outputs": [
    {
     "name": "stdout",
     "output_type": "stream",
     "text": [
      "==================================\u001b[1m Ai Message \u001b[0m==================================\n",
      "Tool Calls:\n",
      "  tavily_search_results_json (a03fef3f-4958-45e7-9fbb-0b2c69d2ce14)\n",
      " Call ID: a03fef3f-4958-45e7-9fbb-0b2c69d2ce14\n",
      "  Args:\n",
      "    query: LangGraph\n"
     ]
    }
   ],
   "source": [
    "snapshot = graph.get_state(config)\n",
    "existing_message = snapshot.values[\"messages\"][-1]\n",
    "existing_message.pretty_print()"
   ]
  },
  {
   "cell_type": "markdown",
   "metadata": {},
   "source": [
    "Provide the correct response"
   ]
  },
  {
   "cell_type": "code",
   "execution_count": 27,
   "metadata": {},
   "outputs": [
    {
     "name": "stdout",
     "output_type": "stream",
     "text": [
      "==================================\u001b[1m Ai Message \u001b[0m==================================\n",
      "\n",
      "LangGraph is a library for building stateful, multi-actor applications with LLMs.\n",
      "\n",
      "\n",
      "Last 2 messages;\n",
      "[ToolMessage(content='LangGraph is a library for building stateful, multi-actor applications with LLMs.', id='23fc1b62-344a-4102-bb6b-dddb25f2bdca', tool_call_id='a03fef3f-4958-45e7-9fbb-0b2c69d2ce14'), AIMessage(content='LangGraph is a library for building stateful, multi-actor applications with LLMs.', id='6a773154-2f1a-4365-b706-81a17d5cbc07')]\n"
     ]
    }
   ],
   "source": [
    "from langchain_core.messages import AIMessage, ToolMessage\n",
    "\n",
    "answer = (\n",
    "    \"LangGraph is a library for building stateful, multi-actor applications with LLMs.\"\n",
    ")\n",
    "new_messages = [\n",
    "    # ToolMessage for LLM API\n",
    "    ToolMessage(content=answer, tool_call_id=existing_message.tool_calls[0][\"id\"]),\n",
    "    # Populating its response\n",
    "    AIMessage(content=answer)\n",
    "]\n",
    "\n",
    "new_messages[-1].pretty_print()\n",
    "graph.update_state(\n",
    "    # Which state to update\n",
    "    config,\n",
    "    # The messages will be appended to the existing state\n",
    "    {\"messages\": new_messages},\n",
    ")\n",
    "print(\"\\n\\nLast 2 messages;\")\n",
    "print(graph.get_state(config).values[\"messages\"][-2:])\n"
   ]
  },
  {
   "cell_type": "markdown",
   "metadata": {},
   "source": [
    "**Notice**: Our new messages are appended to the messages already in the state."
   ]
  },
  {
   "cell_type": "code",
   "execution_count": 28,
   "metadata": {},
   "outputs": [
    {
     "data": {
      "text/plain": [
       "{'configurable': {'thread_id': '1',\n",
       "  'checkpoint_ns': '',\n",
       "  'checkpoint_id': '1ef717b3-d93f-67ae-8003-bbd49375bb6d'}}"
      ]
     },
     "execution_count": 28,
     "metadata": {},
     "output_type": "execute_result"
    }
   ],
   "source": [
    "graph.update_state(\n",
    "    config,\n",
    "    {\"messages\": [AIMessage(content=\"I'm an AI expert!\")]},\n",
    "    # continue processing as if this node just ran\n",
    "    as_node=\"chatbot\"\n",
    ")"
   ]
  },
  {
   "cell_type": "code",
   "execution_count": 29,
   "metadata": {},
   "outputs": [
    {
     "data": {
      "image/jpeg": "[encoded data removed]",
      "text/plain": [
       "<IPython.core.display.Image object>"
      ]
     },
     "metadata": {},
     "output_type": "display_data"
    }
   ],
   "source": [
    "from IPython.display import Image, display\n",
    "\n",
    "try:\n",
    "    display(Image(graph.get_graph().draw_mermaid_png()))\n",
    "except Exception:\n",
    "    # optional\n",
    "    pass"
   ]
  },
  {
   "cell_type": "code",
   "execution_count": 30,
   "metadata": {},
   "outputs": [
    {
     "name": "stdout",
     "output_type": "stream",
     "text": [
      "[ToolMessage(content='LangGraph is a library for building stateful, multi-actor applications with LLMs.', id='23fc1b62-344a-4102-bb6b-dddb25f2bdca', tool_call_id='a03fef3f-4958-45e7-9fbb-0b2c69d2ce14'), AIMessage(content='LangGraph is a library for building stateful, multi-actor applications with LLMs.', id='6a773154-2f1a-4365-b706-81a17d5cbc07'), AIMessage(content=\"I'm an AI expert!\", id='bbbe0ab9-52ee-44dc-9b33-51d7697e43a0')]\n",
      "()\n"
     ]
    }
   ],
   "source": [
    "snapshot = graph.get_state(config)\n",
    "print(snapshot.values[\"messages\"][-3:])\n",
    "print(snapshot.next)"
   ]
  },
  {
   "cell_type": "markdown",
   "metadata": {},
   "source": [
    "**Notice** Acting as the `chatbot` and responding with an AIMessages without `toolcalls`"
   ]
  },
  {
   "cell_type": "markdown",
   "metadata": {},
   "source": [
    "### What if you want to overwrite existing messages?"
   ]
  },
  {
   "cell_type": "markdown",
   "metadata": {},
   "source": [
    "First, start a new thread."
   ]
  },
  {
   "cell_type": "code",
   "execution_count": 35,
   "metadata": {},
   "outputs": [
    {
     "name": "stdout",
     "output_type": "stream",
     "text": [
      "================================\u001b[1m Human Message \u001b[0m=================================\n",
      "\n",
      "I'm learning LangGraph. Could you do some research on it for me?\n",
      "==================================\u001b[1m Ai Message \u001b[0m==================================\n",
      "Tool Calls:\n",
      "  tavily_search_results_json (794fa560-2303-47f1-afdc-03594229060d)\n",
      " Call ID: 794fa560-2303-47f1-afdc-03594229060d\n",
      "  Args:\n",
      "    query: LangGraph tutorial\n"
     ]
    }
   ],
   "source": [
    "user_input = \"I'm learning LangGraph. Could you do some research on it for me?\"\n",
    "config = {\"configurable\": {\"thread_id\": \"2\"}}  # we'll use thread_id = 2 here\n",
    "events = graph.stream(\n",
    "    {\"messages\": [(\"user\", user_input)]}, config, stream_mode=\"values\"\n",
    ")\n",
    "for event in events:\n",
    "    if \"messages\" in event:\n",
    "        event[\"messages\"][-1].pretty_print()"
   ]
  },
  {
   "cell_type": "markdown",
   "metadata": {},
   "source": [
    "Next, update the tool invocation for out agent."
   ]
  },
  {
   "cell_type": "code",
   "execution_count": 36,
   "metadata": {},
   "outputs": [
    {
     "name": "stdout",
     "output_type": "stream",
     "text": [
      "Original\n",
      "Message ID run-85dab648-d7b1-4f3c-a1ad-0b89fc69e835-0\n",
      "{'name': 'tavily_search_results_json', 'args': {'query': 'LangGraph tutorial'}, 'id': '794fa560-2303-47f1-afdc-03594229060d', 'type': 'tool_call'}\n",
      "Updated\n",
      "{'name': 'tavily_search_results_json', 'args': {'query': 'LangGraph human-in-the-loop workflow'}, 'id': '794fa560-2303-47f1-afdc-03594229060d', 'type': 'tool_call'}\n",
      "Message ID run-85dab648-d7b1-4f3c-a1ad-0b89fc69e835-0\n",
      "\n",
      "\n",
      "Tool calls\n"
     ]
    },
    {
     "data": {
      "text/plain": [
       "[{'name': 'tavily_search_results_json',\n",
       "  'args': {'query': 'LangGraph human-in-the-loop workflow'},\n",
       "  'id': '794fa560-2303-47f1-afdc-03594229060d',\n",
       "  'type': 'tool_call'}]"
      ]
     },
     "execution_count": 36,
     "metadata": {},
     "output_type": "execute_result"
    }
   ],
   "source": [
    "from langchain_core.messages import AIMessage\n",
    "\n",
    "snapshot = graph.get_state(config)\n",
    "existing_message = snapshot.values[\"messages\"][-1]\n",
    "print(\"Original\")\n",
    "print(\"Message ID\", existing_message.id)\n",
    "print(existing_message.tool_calls[0])\n",
    "new_tool_call = existing_message.tool_calls[0].copy()\n",
    "new_tool_call[\"args\"][\"query\"] = \"LangGraph human-in-the-loop workflow\"\n",
    "new_message = AIMessage(\n",
    "    content=existing_message.content,\n",
    "    tool_calls=[new_tool_call],\n",
    "    # Important! The ID is how LangGraph knows to REPLACE the message in the state rather than APPEND this messages\n",
    "    id=existing_message.id,\n",
    ")\n",
    "\n",
    "print(\"Updated\")\n",
    "print(new_message.tool_calls[0])\n",
    "print(\"Message ID\", new_message.id)\n",
    "graph.update_state(config, {\"messages\": [new_message]})\n",
    "\n",
    "print(\"\\n\\nTool calls\")\n",
    "graph.get_state(config).values[\"messages\"][-1].tool_calls"
   ]
  },
  {
   "cell_type": "markdown",
   "metadata": {},
   "source": [
    "**Notice** tool invokation modified to search for \"LangGraph human-in-the-loop workflow\" "
   ]
  },
  {
   "cell_type": "code",
   "execution_count": 37,
   "metadata": {},
   "outputs": [
    {
     "name": "stdout",
     "output_type": "stream",
     "text": [
      "==================================\u001b[1m Ai Message \u001b[0m==================================\n",
      "Tool Calls:\n",
      "  tavily_search_results_json (794fa560-2303-47f1-afdc-03594229060d)\n",
      " Call ID: 794fa560-2303-47f1-afdc-03594229060d\n",
      "  Args:\n",
      "    query: LangGraph human-in-the-loop workflow\n",
      "=================================\u001b[1m Tool Message \u001b[0m=================================\n",
      "Name: tavily_search_results_json\n",
      "\n",
      "[{\"url\": \"https://www.youtube.com/watch?v=9BPCV5TYPmg\", \"content\": \"In this video, I'll show you how to handle persistence with LangGraph, enabling a unique Human-in-the-Loop workflow. This approach allows a human to grant an...\"}, {\"url\": \"https://medium.com/@kbdhunga/implementing-human-in-the-loop-with-langgraph-ccfde023385c\", \"content\": \"Implementing a Human-in-the-Loop (HIL) framework in LangGraph with the Streamlit app provides a robust mechanism for user engagement and decision-making. By incorporating breakpoints and ...\"}]\n",
      "==================================\u001b[1m Ai Message \u001b[0m==================================\n",
      "\n",
      "Based on my previous research, I found some tutorials and resources to help you learn about LangGraph.\n",
      "\n",
      "For starters, you might want to check out this video at `https://www.youtube.com/watch?v=9BPCV5TYPmg` which covers how to handle persistence and enables a unique Human-in-the-Loop workflow in LangGraph. Additionally, the article at `https://medium.com/@kbdhunga/implementing-human-in-the-loop-with-langgraph-ccfde023385c` provides insights into implementing a Human-in-the-Loop (HIL) framework in LangGraph with Streamlit app.\n",
      "\n",
      "You could also try looking for tutorials or documentation on LangGraph's official website, GitHub repository, or online learning platforms like Udemy, Coursera, or edX. They might have more comprehensive resources to help you get started with LangGraph.\n"
     ]
    }
   ],
   "source": [
    "events = graph.stream(None, config, stream_mode=\"values\")\n",
    "for event in events:\n",
    "    if \"messages\" in event:\n",
    "        event[\"messages\"][-1].pretty_print()"
   ]
  },
  {
   "cell_type": "markdown",
   "metadata": {},
   "source": [
    "**Notice**: the graph queries the search engine using our updated query term"
   ]
  },
  {
   "cell_type": "code",
   "execution_count": 38,
   "metadata": {},
   "outputs": [
    {
     "name": "stdout",
     "output_type": "stream",
     "text": [
      "================================\u001b[1m Human Message \u001b[0m=================================\n",
      "\n",
      "Remember what I'm learning about?\n",
      "==================================\u001b[1m Ai Message \u001b[0m==================================\n",
      "Tool Calls:\n",
      "  tavily_search_results_json (e3daf58c-e2ba-451d-9c03-7566982a6235)\n",
      " Call ID: e3daf58c-e2ba-451d-9c03-7566982a6235\n",
      "  Args:\n",
      "    query: LangGraph tutorial\n"
     ]
    }
   ],
   "source": [
    "events = graph.stream(\n",
    "    {\n",
    "        \"messages\": (\n",
    "            \"user\",\n",
    "            \"Remember what I'm learning about?\",\n",
    "        )\n",
    "    },\n",
    "    config,\n",
    "    stream_mode=\"values\",\n",
    ")\n",
    "for event in events:\n",
    "    if \"messages\" in event:\n",
    "        event[\"messages\"][-1].pretty_print()"
   ]
  },
  {
   "cell_type": "markdown",
   "metadata": {},
   "source": [
    "## 6. Customizing State"
   ]
  },
  {
   "cell_type": "markdown",
   "metadata": {},
   "source": [
    "Define New graph"
   ]
  },
  {
   "cell_type": "code",
   "execution_count": 1,
   "metadata": {},
   "outputs": [
    {
     "name": "stderr",
     "output_type": "stream",
     "text": [
      "/opt/anaconda3/lib/python3.11/site-packages/langchain_community/tools/tavily_search/__init__.py:3: LangChainDeprecationWarning: As of langchain-core 0.3.0, LangChain uses pydantic v2 internally. The langchain_core.pydantic_v1 module was a compatibility shim for pydantic v1, and should no longer be used. Please update the code to import from Pydantic directly.\n",
      "\n",
      "For example, replace imports like: `from langchain_core.pydantic_v1 import BaseModel`\n",
      "with: `from pydantic import BaseModel`\n",
      "or the v1 compatibility namespace if you are working in a code base that has not been fully upgraded to pydantic 2 yet. \tfrom pydantic.v1 import BaseModel\n",
      "\n",
      "  from langchain_community.tools.tavily_search.tool import (\n"
     ]
    }
   ],
   "source": [
    "from typing import Annotated\n",
    "\n",
    "from langchain_ollama import ChatOllama\n",
    "from langchain_community.tools.tavily_search import TavilySearchResults\n",
    "from typing_extensions import TypedDict\n",
    "\n",
    "from langgraph.checkpoint.memory import MemorySaver\n",
    "from langgraph.graph import StateGraph, START\n",
    "from langgraph.graph.message import add_messages\n",
    "from langgraph.prebuilt import ToolNode, tools_condition\n",
    "\n",
    "\n",
    "class State(TypedDict):\n",
    "    messages: Annotated[list, add_messages]\n",
    "    # New!\n",
    "    ask_human: bool\n"
   ]
  },
  {
   "cell_type": "markdown",
   "metadata": {},
   "source": [
    "Define a schema"
   ]
  },
  {
   "cell_type": "code",
   "execution_count": 2,
   "metadata": {},
   "outputs": [],
   "source": [
    "# NOTE: langchain-core >= 0.3 with Pydantic v2\n",
    "from pydantic import BaseModel\n",
    "\n",
    "class RequestAssistance(BaseModel):\n",
    "    \"\"\"Escalate the conversation to an expert. Use this if you are unable to assist directly or if the user requires support beyond your permissions.\n",
    "\n",
    "    To use this function, relay the user's 'request' so the expert can provide the right guidance.\n",
    "    \"\"\"\n",
    "\n",
    "    request: str  "
   ]
  },
  {
   "cell_type": "markdown",
   "metadata": {},
   "source": [
    "Define the chatbot node"
   ]
  },
  {
   "cell_type": "code",
   "execution_count": 3,
   "metadata": {},
   "outputs": [],
   "source": [
    "tool = TavilySearchResults(max_results=2)\n",
    "tools = [tool]\n",
    "llm = ChatOllama(model=\"llama3.1\")\n",
    "# Bind the llm to a tool def, a pydantic model, or a json\n",
    "llm_with_tools = llm.bind_tools(tools + [RequestAssistance])\n",
    "\n",
    "\n",
    "def chatbot(state: State):\n",
    "    response = llm_with_tools.invoke(state[\"messages\"])\n",
    "    ask_human = False\n",
    "    if (\n",
    "        response.tool_calls and \n",
    "        response.tool_calls[0][\"name\"] == RequestAssistance.__name__\n",
    "    ):\n",
    "        ask_human = True\n",
    "    return {\"messages\": [response], \"ask_human\": ask_human}"
   ]
  },
  {
   "cell_type": "markdown",
   "metadata": {},
   "source": [
    "Create the graph builder and add the chatbot and tools nodes"
   ]
  },
  {
   "cell_type": "code",
   "execution_count": 4,
   "metadata": {},
   "outputs": [],
   "source": [
    "graph_builder = StateGraph(State)\n",
    "\n",
    "graph_builder.add_node(\"chatbot\", chatbot)\n",
    "graph_builder.add_node(\"tools\", ToolNode(tools=[tool]))"
   ]
  },
  {
   "cell_type": "markdown",
   "metadata": {},
   "source": [
    "Create the \"human\" node."
   ]
  },
  {
   "cell_type": "code",
   "execution_count": 5,
   "metadata": {},
   "outputs": [],
   "source": [
    "from langchain_core.messages import AIMessage, ToolMessage\n",
    "\n",
    "\n",
    "def create_response(response: str, ai_message: AIMessage):\n",
    "    return ToolMessage(\n",
    "        content=response,\n",
    "        tool_call_id=ai_message.tool_calls[0][\"id\"],\n",
    "    )\n",
    "\n",
    "\n",
    "def human_node(state: State):\n",
    "    new_messages = []\n",
    "    if not isinstance(state[\"messages\"][-1], ToolMessage):\n",
    "        # Typically, the user will have updated the state during the interrupt.\n",
    "        # If they choose not to, we will include a placeholder ToolMessage to\n",
    "        # let the LLM continue.\n",
    "        new_messages.append(\n",
    "            create_response(\"No response from human.\", state[\"messages\"][-1])\n",
    "        )\n",
    "    return {\n",
    "        # Append the new messages\n",
    "        \"messages\": new_messages,\n",
    "        # Unset the flag\n",
    "        \"ask_human\": False,\n",
    "    }\n",
    "\n",
    "\n",
    "graph_builder.add_node(\"human\", human_node)"
   ]
  },
  {
   "cell_type": "markdown",
   "metadata": {},
   "source": [
    "Define the conditional logic"
   ]
  },
  {
   "cell_type": "code",
   "execution_count": 6,
   "metadata": {},
   "outputs": [],
   "source": [
    "def select_next_node(state: State):\n",
    "    if state[\"ask_human\"]:\n",
    "        return \"human\"\n",
    "    # Otherwise, route as before\n",
    "    return tools_condition(state)\n",
    "\n",
    "\n",
    "graph_builder.add_conditional_edges(\n",
    "    \"chatbot\",\n",
    "    select_next_node,\n",
    "    {\"human\": \"human\", \"tools\": \"tools\", \"__end__\": \"__end__\"}\n",
    ")"
   ]
  },
  {
   "cell_type": "markdown",
   "metadata": {},
   "source": [
    "Finally, add the simple directed edges and compile the graph."
   ]
  },
  {
   "cell_type": "code",
   "execution_count": 7,
   "metadata": {},
   "outputs": [],
   "source": [
    "graph_builder.add_edge(\"tools\", \"chatbot\")\n",
    "graph_builder.add_edge(\"human\", \"chatbot\")\n",
    "graph_builder.add_edge(START, \"chatbot\")\n",
    "memory = MemorySaver()\n",
    "graph = graph_builder.compile(\n",
    "    checkpointer=memory,\n",
    "    # We interrupt before 'human' here instead\n",
    "    interrupt_before=[\"human\"],\n",
    ")"
   ]
  },
  {
   "cell_type": "code",
   "execution_count": 8,
   "metadata": {},
   "outputs": [
    {
     "data": {
      "image/jpeg": "[encoded data removed]",
      "text/plain": [
       "<IPython.core.display.Image object>"
      ]
     },
     "metadata": {},
     "output_type": "display_data"
    }
   ],
   "source": [
    "from IPython.display import Image, display\n",
    "\n",
    "try:\n",
    "    display(Image(graph.get_graph().draw_mermaid_png()))\n",
    "except Exception:\n",
    "    pass"
   ]
  },
  {
   "cell_type": "code",
   "execution_count": 9,
   "metadata": {},
   "outputs": [
    {
     "name": "stdout",
     "output_type": "stream",
     "text": [
      "================================\u001b[1m Human Message \u001b[0m=================================\n",
      "\n",
      "I need some expert guidance for building this AI agent. Could you request assistance for me?\n",
      "==================================\u001b[1m Ai Message \u001b[0m==================================\n",
      "Tool Calls:\n",
      "  RequestAssistance (2a0025b5-935a-4105-bf76-1b6243b61258)\n",
      " Call ID: 2a0025b5-935a-4105-bf76-1b6243b61258\n",
      "  Args:\n",
      "    request: guidance for building this AI agent\n"
     ]
    }
   ],
   "source": [
    "user_input = \"I need some expert guidance for building this AI agent. Could you request assistance for me?\"\n",
    "config = {\"configurable\": {\"thread_id\": \"1\"}}\n",
    "# The config is the **second positional argument** to stream() or invoke()!\n",
    "events = graph.stream(\n",
    "    {\"messages\": [(\"user\", user_input)]}, config, stream_mode=\"values\"\n",
    ")\n",
    "for event in events:\n",
    "    if \"messages\" in event:\n",
    "        event[\"messages\"][-1].pretty_print()"
   ]
  },
  {
   "cell_type": "markdown",
   "metadata": {},
   "source": [
    "**Notice**: the LLM invoked the \"`RequestAssistance`\" tool, and the interrupt has been set."
   ]
  },
  {
   "cell_type": "code",
   "execution_count": 10,
   "metadata": {},
   "outputs": [
    {
     "data": {
      "text/plain": [
       "('human',)"
      ]
     },
     "execution_count": 10,
     "metadata": {},
     "output_type": "execute_result"
    }
   ],
   "source": [
    "snapshot = graph.get_state(config)\n",
    "snapshot.next"
   ]
  },
  {
   "cell_type": "markdown",
   "metadata": {},
   "source": [
    "Next, respond to the chatbot's request by:\n",
    "1. `ToolMessage`: will be passed back to the `chatbot`.\n",
    "2. `update_state`: update the graph state."
   ]
  },
  {
   "cell_type": "code",
   "execution_count": 12,
   "metadata": {},
   "outputs": [
    {
     "data": {
      "text/plain": [
       "{'configurable': {'thread_id': '1',\n",
       "  'checkpoint_ns': '',\n",
       "  'checkpoint_id': '1ef762e2-cd21-6894-8002-4467a4753fb8'}}"
      ]
     },
     "execution_count": 12,
     "metadata": {},
     "output_type": "execute_result"
    }
   ],
   "source": [
    "ai_message = snapshot.values[\"messages\"][-1]\n",
    "human_response = (\n",
    "    \"We, the experts are here to help! We'd recommend you check out LangGraph to build your agent.\"\n",
    "    \" It's much more reliable and extensible than simple autonomous agents.\"\n",
    ")\n",
    "tool_message = create_response(human_response, ai_message)\n",
    "graph.update_state(config, {\"messages\": [tool_message]})"
   ]
  },
  {
   "cell_type": "code",
   "execution_count": 14,
   "metadata": {},
   "outputs": [
    {
     "data": {
      "text/plain": [
       "[HumanMessage(content='I need some expert guidance for building this AI agent. Could you request assistance for me?', additional_kwargs={}, response_metadata={}, id='532ef445-ce19-40a7-a682-ccaeff294645'),\n",
       " AIMessage(content='', additional_kwargs={}, response_metadata={'model': 'llama3.1', 'created_at': '2024-09-19T02:23:28.13828Z', 'message': {'role': 'assistant', 'content': '', 'tool_calls': [{'function': {'name': 'RequestAssistance', 'arguments': {'request': 'guidance for building this AI agent'}}}]}, 'done_reason': 'stop', 'done': True, 'total_duration': 12988237000, 'load_duration': 9355266375, 'prompt_eval_count': 293, 'prompt_eval_duration': 2213077000, 'eval_count': 24, 'eval_duration': 1390866000}, id='run-f1105e53-4390-48e5-8f8a-7f41df95c94a-0', tool_calls=[{'name': 'RequestAssistance', 'args': {'request': 'guidance for building this AI agent'}, 'id': '2a0025b5-935a-4105-bf76-1b6243b61258', 'type': 'tool_call'}], usage_metadata={'input_tokens': 293, 'output_tokens': 24, 'total_tokens': 317}),\n",
       " ToolMessage(content=\"We, the experts are here to help! We'd recommend you check out LangGraph to build your agent. It's much more reliable and extensible than simple autonomous agents.\", id='5c4e4cfe-1a8c-4ca2-b29e-31ea59029df6', tool_call_id='2a0025b5-935a-4105-bf76-1b6243b61258')]"
      ]
     },
     "execution_count": 14,
     "metadata": {},
     "output_type": "execute_result"
    }
   ],
   "source": [
    "graph.get_state(config).values[\"messages\"]"
   ]
  },
  {
   "cell_type": "markdown",
   "metadata": {},
   "source": [
    "Next, resume the graph by invoking it with `None`"
   ]
  },
  {
   "cell_type": "code",
   "execution_count": 18,
   "metadata": {},
   "outputs": [
    {
     "name": "stdout",
     "output_type": "stream",
     "text": [
      "==================================\u001b[1m Ai Message \u001b[0m==================================\n",
      "\n",
      "It seems like the tool call was not successful in getting an expert's help. Let me try again.\n",
      "\n",
      "Can I request assistance for you to build this AI agent?\n"
     ]
    }
   ],
   "source": [
    "events = graph.stream(None, config, stream_mode=\"values\")\n",
    "for event in events:\n",
    "    if \"messages\" in event:\n",
    "        event[\"messages\"][-1].pretty_print()"
   ]
  },
  {
   "cell_type": "markdown",
   "metadata": {},
   "source": []
  }
 ],
 "metadata": {
  "kernelspec": {
   "display_name": "base",
   "language": "python",
   "name": "python3"
  },
  "language_info": {
   "codemirror_mode": {
    "name": "ipython",
    "version": 3
   },
   "file_extension": ".py",
   "mimetype": "text/x-python",
   "name": "python",
   "nbconvert_exporter": "python",
   "pygments_lexer": "ipython3",
   "version": "3.11.7"
  }
 },
 "nbformat": 4,
 "nbformat_minor": 2
}
