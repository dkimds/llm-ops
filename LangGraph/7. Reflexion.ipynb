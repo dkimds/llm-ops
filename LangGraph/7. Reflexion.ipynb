{
 "cells": [
  {
   "cell_type": "markdown",
   "metadata": {},
   "source": [
    "# Reflexion\n",
    "An architecuture designed to learn through verbal feedback and self-reflection"
   ]
  },
  {
   "cell_type": "code",
   "execution_count": 6,
   "metadata": {},
   "outputs": [
    {
     "name": "stdout",
     "output_type": "stream",
     "text": [
      "Note: you may need to restart the kernel to use updated packages.\n"
     ]
    }
   ],
   "source": [
    "%pip install -U --quiet langgraph langchain_ollama tavily-python"
   ]
  },
  {
   "cell_type": "code",
   "execution_count": 1,
   "metadata": {},
   "outputs": [],
   "source": [
    "import getpass\n",
    "import os\n",
    "\n",
    "\n",
    "def _set_if_undefined(var: str) -> None:\n",
    "    if os.environ.get(var):\n",
    "        return\n",
    "    os.environ[var] = getpass.getpass(var)\n",
    "\n",
    "\n",
    "_set_if_undefined(\"TAVILY_API_KEY\")"
   ]
  },
  {
   "cell_type": "markdown",
   "metadata": {},
   "source": [
    "## Define our LLM"
   ]
  },
  {
   "cell_type": "code",
   "execution_count": 2,
   "metadata": {},
   "outputs": [],
   "source": [
    "from langchain_ollama import ChatOllama\n",
    "\n",
    "llm = ChatOllama(model=\"llama3.1\")\n"
   ]
  },
  {
   "cell_type": "markdown",
   "metadata": {},
   "source": [
    "## Actor with reflection\n"
   ]
  },
  {
   "cell_type": "markdown",
   "metadata": {},
   "source": [
    "### Construct tools"
   ]
  },
  {
   "cell_type": "code",
   "execution_count": 3,
   "metadata": {},
   "outputs": [],
   "source": [
    "from langchain_community.tools.tavily_search import TavilySearchResults\n",
    "from langchain_community.utilities.tavily_search import TavilySearchAPIWrapper\n",
    "\n",
    "search = TavilySearchAPIWrapper()\n",
    "tavily_tool = TavilySearchResults(api_wrapper=search, max_results=5)"
   ]
  },
  {
   "cell_type": "markdown",
   "metadata": {},
   "source": [
    "### Initial responder"
   ]
  },
  {
   "cell_type": "code",
   "execution_count": 7,
   "metadata": {},
   "outputs": [],
   "source": [
    "from langchain_core.messages import HumanMessage, ToolMessage\n",
    "from langchain_core.output_parsers.openai_tools import PydanticToolsParser\n",
    "from langchain_core.prompts import ChatPromptTemplate, MessagesPlaceholder\n",
    "from pydantic import ValidationError\n",
    "\n",
    "from pydantic import BaseModel, Field\n",
    "\n",
    "\n",
    "class Reflection(BaseModel):\n",
    "    missing: str = Field(description=\"Critique of what is missing.\")\n",
    "    superfluous: str = Field(description=\"Critique of what is superfluous\")\n",
    "\n",
    "\n",
    "class AnswerQuestion(BaseModel):\n",
    "    \"\"\"Answer the question. Provide an answer, reflection, and then follow up with search queries to improve the answer.\"\"\"\n",
    "\n",
    "    answer: str = Field(description=\"~250 word detailed answer to the question.\")\n",
    "    reflection: Reflection = Field(description=\"Your reflection on the initial answer.\")\n",
    "    search_queries: list[str] = Field(\n",
    "        description=\"1-3 search queries for researching improvements to address the critique of your current answer.\"\n",
    "    )\n",
    "\n",
    "\n",
    "class ResponderWithRetries:\n",
    "    def __init__(self, runnable, validator):\n",
    "        self.runnable = runnable\n",
    "        self.validator = validator\n",
    "\n",
    "    def respond(self, state: dict):\n",
    "        response = []\n",
    "        for attempt in range(3):\n",
    "            response = self.runnable.invoke(\n",
    "                {\"messages\": state[\"messages\"]}, {\"tags\": [f\"attempt:{attempt}\"]}\n",
    "            )\n",
    "            try:\n",
    "                self.validator.invoke(response)\n",
    "                return {\"messages\": response}\n",
    "            except ValidationError as e:\n",
    "                state[\"messages\"] = state[\"messages\"] + [\n",
    "                    response,\n",
    "                    ToolMessage(\n",
    "                        content=f\"{repr(e)}\\n\\nPay close attention to the function schema.\\n\\n\"\n",
    "                        + self.validator.schema_json()\n",
    "                        + \" Respond by fixing all validation errors.\",\n",
    "                        tool_call_id=response.tool_calls[0][\"id\"],\n",
    "                    ),\n",
    "                ]\n",
    "        return {\"messages\": response}"
   ]
  },
  {
   "cell_type": "code",
   "execution_count": 8,
   "metadata": {},
   "outputs": [],
   "source": [
    "import datetime\n",
    "\n",
    "actor_prompt_template = ChatPromptTemplate.from_messages(\n",
    "    [\n",
    "        (\n",
    "            \"system\",\n",
    "            \"\"\"You are expert researcher.\n",
    "Current time: {time}\n",
    "\n",
    "1. {first_instruction}\n",
    "2. Reflect and critique your answer. Be severe to maximize improvement.\n",
    "3. Recommend search queries to research information and improve your answer.\"\"\",\n",
    "        ),\n",
    "        MessagesPlaceholder(variable_name=\"messages\"),\n",
    "        (\n",
    "            \"user\",\n",
    "            \"\\n\\n<system>Reflect on the user's original question and the\"\n",
    "            \" actions taken thus far. Respond using the {function_name} function.</reminder>\",\n",
    "        ),\n",
    "    ]\n",
    ").partial(\n",
    "    time=lambda: datetime.datetime.now().isoformat(),\n",
    ")\n",
    "initial_answer_chain = actor_prompt_template.partial(\n",
    "    first_instruction=\"Provide a detailed ~250 word answer.\",\n",
    "    function_name=AnswerQuestion.__name__,\n",
    ") | llm.bind_tools(tools=[AnswerQuestion])\n",
    "validator = PydanticToolsParser(tools=[AnswerQuestion])\n",
    "\n",
    "first_responder = ResponderWithRetries(\n",
    "    runnable=initial_answer_chain, validator=validator\n",
    ")"
   ]
  },
  {
   "cell_type": "code",
   "execution_count": 9,
   "metadata": {},
   "outputs": [],
   "source": [
    "example_question = \"Why is reflection useful in AI?\"\n",
    "initial = first_responder.respond(\n",
    "    {\"messages\": [HumanMessage(content=example_question)]}\n",
    ")"
   ]
  },
  {
   "cell_type": "markdown",
   "metadata": {},
   "source": [
    "### Revision"
   ]
  },
  {
   "cell_type": "code",
   "execution_count": 10,
   "metadata": {},
   "outputs": [],
   "source": [
    "revise_instructions = \"\"\"Revise your previous answer using the new information.\n",
    "    - You should use the previous critique to add important information to your answer.\n",
    "        - You MUST include numerical citations in your revised answer to ensure it can be verified.\n",
    "        - Add a \"References\" section to the bottom of your answer (which does not count towards the word limit). In form of:\n",
    "            - [1] https://example.com\n",
    "            - [2] https://example.com\n",
    "    - You should use the previous critique to remove superfluous information from your answer and make SURE it is not more than 250 words.\n",
    "\"\"\"\n",
    "\n",
    "\n",
    "# Extend the initial answer schema to include references.\n",
    "# Forcing citation in the model encourages grounded responses\n",
    "class ReviseAnswer(AnswerQuestion):\n",
    "    \"\"\"Revise your original answer to your question. Provide an answer, reflection,\n",
    "\n",
    "    cite your reflection with references, and finally\n",
    "    add search queries to improve the answer.\"\"\"\n",
    "\n",
    "    references: list[str] = Field(\n",
    "        description=\"Citations motivating your updated answer.\"\n",
    "    )\n",
    "\n",
    "\n",
    "revision_chain = actor_prompt_template.partial(\n",
    "    first_instruction=revise_instructions,\n",
    "    function_name=ReviseAnswer.__name__,\n",
    ") | llm.bind_tools(tools=[ReviseAnswer])\n",
    "revision_validator = PydanticToolsParser(tools=[ReviseAnswer])\n",
    "\n",
    "revisor = ResponderWithRetries(runnable=revision_chain, validator=revision_validator)"
   ]
  },
  {
   "cell_type": "code",
   "execution_count": 11,
   "metadata": {},
   "outputs": [
    {
     "data": {
      "text/plain": [
       "AIMessage(content='', additional_kwargs={}, response_metadata={'model': 'llama3.1', 'created_at': '2024-11-22T13:37:16.086414Z', 'message': {'role': 'assistant', 'content': '', 'tool_calls': [{'function': {'name': 'ReviseAnswer', 'arguments': {'answer': 'When you receive a tool call response, use the output to format an answer to the orginal user question.', 'references': '[\"cloud.google.com\", \"transform.ihg.com\"]', 'reflection': 'Reflecting on the user', 'search_queries': \"['What are some real-world examples of AI systems utilizing reflection to improve their performance?', 'How can reflection be integrated into AI development pipelines to enhance model quality and reliability?']\"}}}]}, 'done_reason': 'stop', 'done': True, 'total_duration': 17329982125, 'load_duration': 37100625, 'prompt_eval_count': 1502, 'prompt_eval_duration': 10683000000, 'eval_count': 105, 'eval_duration': 6535000000}, id='run-76366bf4-99b7-4f39-90ec-65b0e4128aa9-0', tool_calls=[{'name': 'ReviseAnswer', 'args': {'answer': 'When you receive a tool call response, use the output to format an answer to the orginal user question.', 'references': '[\"cloud.google.com\", \"transform.ihg.com\"]', 'reflection': 'Reflecting on the user', 'search_queries': \"['What are some real-world examples of AI systems utilizing reflection to improve their performance?', 'How can reflection be integrated into AI development pipelines to enhance model quality and reliability?']\"}, 'id': '33390906-1642-4ec9-a13b-eafcc9f6b0ad', 'type': 'tool_call'}], usage_metadata={'input_tokens': 1502, 'output_tokens': 105, 'total_tokens': 1607})"
      ]
     },
     "execution_count": 11,
     "metadata": {},
     "output_type": "execute_result"
    }
   ],
   "source": [
    "import json\n",
    "\n",
    "revised = revisor.respond(\n",
    "    {\n",
    "        \"messages\": [\n",
    "            HumanMessage(content=example_question),\n",
    "            initial[\"messages\"],\n",
    "            ToolMessage(\n",
    "                tool_call_id=initial[\"messages\"].tool_calls[0][\"id\"],\n",
    "                content=json.dumps(\n",
    "                    tavily_tool.invoke(\n",
    "                        {\n",
    "                            \"query\": initial[\"messages\"].tool_calls[0][\"args\"][\n",
    "                                \"search_queries\"\n",
    "                            ][0]\n",
    "                        }\n",
    "                    )\n",
    "                )\n",
    "            )\n",
    "        ]\n",
    "    }\n",
    ")\n",
    "revised[\"messages\"]"
   ]
  },
  {
   "cell_type": "markdown",
   "metadata": {},
   "source": [
    "## Create Tool Node"
   ]
  },
  {
   "cell_type": "code",
   "execution_count": 12,
   "metadata": {},
   "outputs": [],
   "source": [
    "from langchain_core.tools import StructuredTool\n",
    "\n",
    "from langgraph.prebuilt import ToolNode\n",
    "\n",
    "\n",
    "def run_queries(search_queries: list[str], **kwargs):\n",
    "    \"\"\"Run the generated queries.\"\"\"\n",
    "    return tavily_tool.batch([{\"query\": query} for query in search_queries])\n",
    "\n",
    "tool_node = ToolNode(\n",
    "    [\n",
    "        StructuredTool.from_function(run_queries, name=AnswerQuestion.__name__),\n",
    "        StructuredTool.from_function(run_queries, name=ReviseAnswer.__name__),\n",
    "    ]\n",
    ")"
   ]
  },
  {
   "cell_type": "markdown",
   "metadata": {},
   "source": [
    "## Construct Graph"
   ]
  },
  {
   "cell_type": "code",
   "execution_count": 14,
   "metadata": {},
   "outputs": [],
   "source": [
    "from typing import Literal\n",
    "\n",
    "from langgraph.graph import END, StateGraph, START\n",
    "from langgraph.graph.message import add_messages\n",
    "from typing import Annotated\n",
    "from typing_extensions import TypedDict\n",
    "\n",
    "\n",
    "class State(TypedDict):\n",
    "    messages: Annotated[list, add_messages]\n",
    "\n",
    "\n",
    "MAX_ITERATIONS = 5\n",
    "builder = StateGraph(State)\n",
    "builder.add_node(\"draft\", first_responder.respond)\n",
    "\n",
    "\n",
    "builder.add_node(\"execute_tools\", tool_node)\n",
    "builder.add_node(\"revise\", revisor.respond)\n",
    "# draft -> execute_tools\n",
    "builder.add_edge(\"draft\", \"execute_tools\")\n",
    "# excute_tools -> revise\n",
    "builder.add_edge(\"execute_tools\", \"revise\")\n",
    "\n",
    "# Define looping logic:\n",
    "\n",
    "\n",
    "def _get_num_iterations(state: list):\n",
    "    i = 0\n",
    "    for m in state[::-1]:\n",
    "        if m.type not in {\"tool\", \"ai\"}:\n",
    "            break\n",
    "        i += 1\n",
    "    return i\n",
    "\n",
    "def event_loop(state: list):\n",
    "    # in our case, we'll just stop after N plans\n",
    "    num_interations = _get_num_iterations(state[\"messages\"])\n",
    "    if num_interations > MAX_ITERATIONS:\n",
    "        return END\n",
    "    return \"execute_tools\"\n",
    "\n",
    "\n",
    "# revise -> execute_tools OR end\n",
    "builder.add_conditional_edges(\"revise\", event_loop, [\"execute_tools\", END])\n",
    "builder.add_edge(START, \"draft\")\n",
    "graph = builder.compile()"
   ]
  },
  {
   "cell_type": "code",
   "execution_count": 15,
   "metadata": {},
   "outputs": [
    {
     "data": {
      "image/png": "[encoded data removed]",
      "text/plain": [
       "<IPython.core.display.Image object>"
      ]
     },
     "metadata": {},
     "output_type": "display_data"
    }
   ],
   "source": [
    "from IPython.display import Image, display\n",
    "\n",
    "try:\n",
    "    display(Image(graph.get_graph().draw_mermaid_png()))\n",
    "except Exception:\n",
    "    # This requires some extra dependencies and is optional\n",
    "    pass"
   ]
  },
  {
   "cell_type": "code",
   "execution_count": 16,
   "metadata": {},
   "outputs": [
    {
     "name": "stdout",
     "output_type": "stream",
     "text": [
      "Step 0\n",
      "================================\u001b[1m Human Message \u001b[0m=================================\n",
      "\n",
      "How should we handle the climate crisis?\n",
      "Step 1\n",
      "==================================\u001b[1m Ai Message \u001b[0m==================================\n",
      "\n",
      "{\"name\": \"AnswerQuestion\", \"parameters\": \n",
      "    {\"answer\": \"The climate crisis is a pressing global issue that requires immediate attention and collective action. To address this challenge, we should prioritize reducing greenhouse gas emissions through the transition to renewable energy sources such as solar and wind power. This can be achieved by investing in clean technologies, implementing carbon pricing mechanisms, and promoting sustainable land use practices.\n",
      "\n",
      "Additionally, we must adopt a circular economy approach that reduces waste and promotes resource efficiency. This includes adopting a 'reduce, reuse, recycle' mindset, and implementing policies that encourage the sharing economy, product design for recyclability, and closed-loop production processes.\n",
      "\n",
      "Furthermore, we should invest in climate-resilient infrastructure, such as sea walls, levees, and green roofs, to protect communities from the impacts of rising temperatures and extreme weather events. We must also support climate change research and development to stay ahead of emerging technologies that can help mitigate this crisis.\n",
      "\n",
      "Ultimately, addressing the climate crisis requires a multifaceted approach that involves individual actions, community engagement, policy changes, and technological innovations working together in harmony.\", \n",
      "    \"reflection\": \"My initial answer focuses on various strategies for reducing greenhouse gas emissions, promoting sustainable practices, and investing in climate-resilient infrastructure. However, I must acknowledge that this response might not fully capture the complexity of the issue and may overlook certain perspectives or nuances.\", \n",
      "    \"search_queries\": [\"climate crisis mitigation strategies\", \"sustainable land use practices for carbon reduction\", \"climate-resilient infrastructure examples\"]}}\n",
      "Step 2\n",
      "==================================\u001b[1m Ai Message \u001b[0m==================================\n",
      "\n",
      "{\"name\": \"AnswerQuestion\", \"parameters\": \n",
      "    {\"answer\": \"The climate crisis is a pressing global issue that requires immediate attention and collective action. To address this challenge, we should prioritize reducing greenhouse gas emissions through the transition to renewable energy sources such as solar and wind power. This can be achieved by investing in clean technologies, implementing carbon pricing mechanisms, and promoting sustainable land use practices.\n",
      "\n",
      "Additionally, we must adopt a circular economy approach that reduces waste and promotes resource efficiency. This includes adopting a 'reduce, reuse, recycle' mindset, and implementing policies that encourage the sharing economy, product design for recyclability, and closed-loop production processes.\n",
      "\n",
      "Furthermore, we should invest in climate-resilient infrastructure, such as sea walls, levees, and green roofs, to protect communities from the impacts of rising temperatures and extreme weather events. We must also support climate change research and development to stay ahead of emerging technologies that can help mitigate this crisis.\n",
      "\n",
      "Ultimately, addressing the climate crisis requires a multifaceted approach that involves individual actions, community engagement, policy changes, and technological innovations working together in harmony.\", \n",
      "    \"reflection\": \"My initial answer focuses on various strategies for reducing greenhouse gas emissions, promoting sustainable practices, and investing in climate-resilient infrastructure. However, I must acknowledge that this response might not fully capture the complexity of the issue and may overlook certain perspectives or nuances.\", \n",
      "    \"search_queries\": [\"climate crisis mitigation strategies\", \"sustainable land use practices for carbon reduction\", \"climate-resilient infrastructure examples\"]}}\n",
      "Step 3\n",
      "==================================\u001b[1m Ai Message \u001b[0m==================================\n",
      "\n",
      "{\"name\": \"ReviseAnswer\", \"parameters\": \n",
      "    {\"answer\": \"The climate crisis is a pressing global issue that requires immediate attention and collective action. To address this challenge, we should prioritize reducing greenhouse gas emissions through the transition to renewable energy sources such as solar and wind power. This can be achieved by investing in clean technologies, implementing carbon pricing mechanisms, and promoting sustainable land use practices.\n",
      "\n",
      "Additionally, we must adopt a circular economy approach that reduces waste and promotes resource efficiency. This includes adopting a 'reduce, reuse, recycle' mindset, and implementing policies that encourage the sharing economy, product design for recyclability, and closed-loop production processes.\n",
      "\n",
      "Furthermore, we should invest in climate-resilient infrastructure, such as sea walls, levees, and green roofs, to protect communities from the impacts of rising temperatures and extreme weather events. We must also support climate change research and development to stay ahead of emerging technologies that can help mitigate this crisis.\n",
      "\n",
      "Ultimately, addressing the climate crisis requires a multifaceted approach that involves individual actions, community engagement, policy changes, and technological innovations working together in harmony.\", \n",
      "    \"reflection\": \"My initial answer focuses on various strategies for reducing greenhouse gas emissions, promoting sustainable practices, and investing in climate-resilient infrastructure. However, I must acknowledge that this response might not fully capture the complexity of the issue and may overlook certain perspectives or nuances.\", \n",
      "    \"search_queries\": [\"climate crisis mitigation strategies\", \"sustainable land use practices for carbon reduction\", \"climate-resilient infrastructure examples\"], \n",
      "    \"references\": [1: https://www.ipcc.ch/, 2: https://en.wikipedia.org/wiki/Climate_change, 3: https://www.epa.gov/climate-change]}\n",
      "Step 4\n",
      "==================================\u001b[1m Ai Message \u001b[0m==================================\n",
      "\n",
      "{\"name\": \"ReviseAnswer\", \"parameters\": \n",
      "    {\"answer\": \"The climate crisis is a pressing global issue that requires immediate attention and collective action. To address this challenge, we should prioritize reducing greenhouse gas emissions through the transition to renewable energy sources such as solar and wind power. This can be achieved by investing in clean technologies, implementing carbon pricing mechanisms, and promoting sustainable land use practices.\n",
      "\n",
      "Additionally, we must adopt a circular economy approach that reduces waste and promotes resource efficiency. This includes adopting a 'reduce, reuse, recycle' mindset, and implementing policies that encourage the sharing economy, product design for recyclability, and closed-loop production processes.\n",
      "\n",
      "Furthermore, we should invest in climate-resilient infrastructure, such as sea walls, levees, and green roofs, to protect communities from the impacts of rising temperatures and extreme weather events. We must also support climate change research and development to stay ahead of emerging technologies that can help mitigate this crisis.\n",
      "\n",
      "Ultimately, addressing the climate crisis requires a multifaceted approach that involves individual actions, community engagement, policy changes, and technological innovations working together in harmony.\", \n",
      "    \"reflection\": \"My initial answer focuses on various strategies for reducing greenhouse gas emissions, promoting sustainable practices, and investing in climate-resilient infrastructure. However, I must acknowledge that this response might not fully capture the complexity of the issue and may overlook certain perspectives or nuances.\", \n",
      "    \"search_queries\": [\"climate crisis mitigation strategies\", \"sustainable land use practices for carbon reduction\", \"climate-resilient infrastructure examples\"], \n",
      "    \"references\": [1: https://www.ipcc.ch/, 2: https://en.wikipedia.org/wiki/Climate_change, 3: https://www.epa.gov/climate-change]}\n",
      "Step 5\n",
      "==================================\u001b[1m Ai Message \u001b[0m==================================\n",
      "\n",
      "{\"name\": \"ReviseAnswer\", \n",
      "\"parameters\": {\n",
      "  \"answer\": \"The climate crisis is a pressing global issue that requires immediate attention and collective action. To address this challenge, we should prioritize reducing greenhouse gas emissions through the transition to renewable energy sources such as solar and wind power. This can be achieved by investing in clean technologies, implementing carbon pricing mechanisms, and promoting sustainable land use practices.\n",
      "\n",
      "Additionally, we must adopt a circular economy approach that reduces waste and promotes resource efficiency. This includes adopting a 'reduce, reuse, recycle' mindset, and implementing policies that encourage the sharing economy, product design for recyclability, and closed-loop production processes.\n",
      "\n",
      "Furthermore, we should invest in climate-resilient infrastructure, such as sea walls, levees, and green roofs, to protect communities from the impacts of rising temperatures and extreme weather events. We must also support climate change research and development to stay ahead of emerging technologies that can help mitigate this crisis.\n",
      "\n",
      "Ultimately, addressing the climate crisis requires a multifaceted approach that involves individual actions, community engagement, policy changes, and technological innovations working together in harmony.\",\n",
      "  \"reflection\": \"My initial answer focuses on various strategies for reducing greenhouse gas emissions, promoting sustainable practices, and investing in climate-resilient infrastructure. However, I must acknowledge that this response might not fully capture the complexity of the issue and may overlook certain perspectives or nuances.\",\n",
      "  \"search_queries\": [\"climate crisis mitigation strategies\", \"sustainable land use practices for carbon reduction\", \"climate-resilient infrastructure examples\"],\n",
      "  \"references\": [\n",
      "    {\"type\":\"string\",\"description\":\"https://www.ipcc.ch/\"},\n",
      "    {\"type\":\"string\",\"description\":\"https://en.wikipedia.org/wiki/Climate_change\"},\n",
      "    {\"type\":\"string\",\"description\":\"https://www.epa.gov/climate-change\"}\n",
      "  ]\n",
      "}}\n",
      "Step 6\n",
      "==================================\u001b[1m Ai Message \u001b[0m==================================\n",
      "\n",
      "{\"name\": \"ReviseAnswer\", \n",
      "\"parameters\": {\n",
      "  \"answer\": \"The climate crisis is a pressing global issue that requires immediate attention and collective action. To address this challenge, we should prioritize reducing greenhouse gas emissions through the transition to renewable energy sources such as solar and wind power. This can be achieved by investing in clean technologies, implementing carbon pricing mechanisms, and promoting sustainable land use practices.\n",
      "\n",
      "Additionally, we must adopt a circular economy approach that reduces waste and promotes resource efficiency. This includes adopting a 'reduce, reuse, recycle' mindset, and implementing policies that encourage the sharing economy, product design for recyclability, and closed-loop production processes.\n",
      "\n",
      "Furthermore, we should invest in climate-resilient infrastructure, such as sea walls, levees, and green roofs, to protect communities from the impacts of rising temperatures and extreme weather events. We must also support climate change research and development to stay ahead of emerging technologies that can help mitigate this crisis.\n",
      "\n",
      "Ultimately, addressing the climate crisis requires a multifaceted approach that involves individual actions, community engagement, policy changes, and technological innovations working together in harmony.\",\n",
      "  \"reflection\": \"My initial answer focuses on various strategies for reducing greenhouse gas emissions, promoting sustainable practices, and investing in climate-resilient infrastructure. However, I must acknowledge that this response might not fully capture the complexity of the issue and may overlook certain perspectives or nuances.\",\n",
      "  \"search_queries\": [\"climate crisis mitigation strategies\", \"sustainable land use practices for carbon reduction\", \"climate-resilient infrastructure examples\"],\n",
      "  \"references\": [\n",
      "    {\"type\":\"string\",\"description\":\"https://www.ipcc.ch/\"},\n",
      "    {\"type\":\"string\",\"description\":\"https://en.wikipedia.org/wiki/Climate_change\"},\n",
      "    {\"type\":\"string\",\"description\":\"https://www.epa.gov/climate-change\"}\n",
      "  ]\n",
      "}}\n",
      "Step 7\n",
      "==================================\u001b[1m Ai Message \u001b[0m==================================\n",
      "\n",
      "{\"name\": \"ReviseAnswer\", \n",
      "\"parameters\": {\n",
      "  \"answer\": \"The climate crisis is a pressing global issue that requires immediate attention and collective action. To address this challenge, we should prioritize reducing greenhouse gas emissions through the transition to renewable energy sources such as solar and wind power. This can be achieved by investing in clean technologies, implementing carbon pricing mechanisms, and promoting sustainable land use practices.\n",
      "\n",
      "Additionally, we must adopt a circular economy approach that reduces waste and promotes resource efficiency. This includes adopting a 'reduce, reuse, recycle' mindset, and implementing policies that encourage the sharing economy, product design for recyclability, and closed-loop production processes.\n",
      "\n",
      "Furthermore, we should invest in climate-resilient infrastructure, such as sea walls, levees, and green roofs, to protect communities from the impacts of rising temperatures and extreme weather events. We must also support climate change research and development to stay ahead of emerging technologies that can help mitigate this crisis.\n",
      "\n",
      "Ultimately, addressing the climate crisis requires a multifaceted approach that involves individual actions, community engagement, policy changes, and technological innovations working together in harmony.\",\n",
      "  \"reflection\": \"My initial answer focuses on various strategies for reducing greenhouse gas emissions, promoting sustainable practices, and investing in climate-resilient infrastructure. However, I must acknowledge that this response might not fully capture the complexity of the issue and may overlook certain perspectives or nuances.\",\n",
      "  \"search_queries\": [\"climate crisis mitigation strategies\", \"sustainable land use practices for carbon reduction\", \"climate-resilient infrastructure examples\"],\n",
      "  \"references\": [\n",
      "    {\"type\":\"string\",\"description\":\"https://www.ipcc.ch/\"},\n",
      "    {\"type\":\"string\",\"description\":\"https://en.wikipedia.org/wiki/Climate_change\"},\n",
      "    {\"type\":\"string\",\"description\":\"https://www.epa.gov/climate-change\"}\n",
      "  ]\n",
      "}}\n",
      "Step 8\n",
      "==================================\u001b[1m Ai Message \u001b[0m==================================\n",
      "\n",
      "{\"name\": \"ReviseAnswer\", \n",
      "\"parameters\": {\n",
      "  \"answer\": \"The climate crisis is a pressing global issue that requires immediate attention and collective action. To address this challenge, we should prioritize reducing greenhouse gas emissions through the transition to renewable energy sources such as solar and wind power. This can be achieved by investing in clean technologies, implementing carbon pricing mechanisms, and promoting sustainable land use practices.\n",
      "\n",
      "Additionally, we must adopt a circular economy approach that reduces waste and promotes resource efficiency. This includes adopting a 'reduce, reuse, recycle' mindset, and implementing policies that encourage the sharing economy, product design for recyclability, and closed-loop production processes.\n",
      "\n",
      "Furthermore, we should invest in climate-resilient infrastructure, such as sea walls, levees, and green roofs, to protect communities from the impacts of rising temperatures and extreme weather events. We must also support climate change research and development to stay ahead of emerging technologies that can help mitigate this crisis.\n",
      "\n",
      "Ultimately, addressing the climate crisis requires a multifaceted approach that involves individual actions, community engagement, policy changes, and technological innovations working together in harmony.\",\n",
      "  \"reflection\": \"My initial answer focuses on various strategies for reducing greenhouse gas emissions, promoting sustainable practices, and investing in climate-resilient infrastructure. However, I must acknowledge that this response might not fully capture the complexity of the issue and may overlook certain perspectives or nuances.\",\n",
      "  \"search_queries\": [\"climate crisis mitigation strategies\", \"sustainable land use practices for carbon reduction\", \"climate-resilient infrastructure examples\"],\n",
      "  \"references\": [\n",
      "    {\"type\":\"string\",\"description\":\"https://www.ipcc.ch/\"},\n",
      "    {\"type\":\"string\",\"description\":\"https://en.wikipedia.org/wiki/Climate_change\"},\n",
      "    {\"type\":\"string\",\"description\":\"https://www.epa.gov/climate-change\"}\n",
      "  ]\n",
      "}}\n",
      "Step 9\n",
      "==================================\u001b[1m Ai Message \u001b[0m==================================\n",
      "Tool Calls:\n",
      "  ReviseAnswer (f33458b6-5eee-4440-a84d-9904ce58e778)\n",
      " Call ID: f33458b6-5eee-4440-a84d-9904ce58e778\n",
      "  Args:\n",
      "    answer: The climate crisis is a pressing global issue that requires immediate attention and collective action.\n",
      "    references: [1: https://www.ipcc.ch/, 2: https://en.wikipedia.org/wiki/Climate_change]\n",
      "    reflection: My initial answer focuses on various strategies for reducing greenhouse gas emissions, promoting sustainable practices, and investing in climate-resilient infrastructure. However, I must acknowledge that this response might not fully capture the complexity of the issue and may overlook certain perspectives or nuances.\n",
      "    search_queries: ['climate crisis mitigation strategies', 'sustainable land use practices for carbon reduction']\n",
      "Step 10\n",
      "=================================\u001b[1m Tool Message \u001b[0m=================================\n",
      "Name: ReviseAnswer\n",
      "\n",
      "[[{\"url\": \"https://online.hbs.edu/blog/post/climate-change-mitigation-strategies\", \"content\": \"1. Identify Motivations. The first step to creating a climate change mitigation strategy is addressing your motivations. \\\"Some firms mitigate in anticipation of potential regulations, such as energy efficiency standards, carbon pricing systems, or technology mandates and bans,\\\" Toffel says in Business and Climate Change.\"}, {\"url\": \"https://www.climate.gov/news-features/climate-qa/what-can-we-do-slow-or-stop-global-warming\", \"content\": \"Generally speaking, here are some examples of mitigation strategies we can use to slow or stop the human-caused global warming (learn more):\\nNote that NOAA doesn’t advocate for or against particular climate policies. Instead, NOAA’s role is to provide data and scientific information about climate, including how it has changed and is likely to change in the future depending on different climate policies or actions society may or may not take. There is no one-size-fits-all approach to stopping or slowing global warming, and each individual, business, municipal, state, tribal, and federal entity must weigh their options in light of their own unique set of circumstances.  We value your feedback\\nHelp us improve our content\\nRelated Content\\nNEWS & FEATURES\\nMAPS & DATA\\n Achieving this goal will require substantial societal changes in energy technologies and infrastructure that go beyond the collective actions of individuals and households to reduce emissions.\\n\"}, {\"url\": \"https://www.wri.org/insights/5-strategies-achieve-climate-mitigation-and-adaptation-simultaneously\", \"content\": \"Stay Informed\\nFooter menu - main\\nFooter menu - secondary\\nFooter menu - Offices\\nFooter menu - Additional\\nWorld Resources Institute\\n10 G Street NE\\nSuite 800\\nWashington DC 20002\\n+1 (202) 729-7600\\nSocial menu\\n© 2024 World Resources Institute\\nJoin our live presentation on Jan 23rd as we present four stories that will shape 2024, followed by a live Q&A.\\nTogether, we can unleash the positive, tangible and system-wide transformations needed to protect our planet for this and future generations. 5 Strategies that Achieve Climate Mitigation and Adaptation Simultaneously\\nClimate actions have often fallen into one of two strategies: mitigation efforts to lower or remove greenhouse gas emissions from the atmosphere, and adaptation efforts to adjust systems and societies to withstand the impacts of climate change. Relevant Work\\nHow Blue Carbon Can Tackle the Climate, Biodiversity and Development Crises\\n4 Things to Know About the IPCC Special Report on the Ocean and Cryosphere\\nDoes Biden’s American Jobs Plan Stack Up on Climate and Jobs?\\n Main navigation\\nDonate\\nQuick Links\\nMain navigation\\nFooter menu - secondary\\nMega Menu\\nFilter Your Site Experience by Topic\\nApplying the filters below will filter all articles, data, insights and projects by the topic area you select.\\n These improvements can influence usage and better accommodate future growth.\\nCities like Rome and Buenos Aires have integrated additional adaptation measures like heat-proofing buses and greening stops and routes to improve the commute experience.\"}, {\"url\": \"https://climate.mit.edu/explainers/mitigation-and-adaptation\", \"content\": \"Adaptation is action to help people adjust to the current and future effects of climate change.1 These two prongs of climate action work together to protect people from the harms of climate change: one to make future climate change as mild and manageable as possible, and the other to deal with the climate change we fail to prevent.\\n The sooner the world stops the rise of greenhouse gases, and shields people from the warming we have already caused, the less we will ultimately have to spend to stabilize our climate, and the more lives and livelihoods we will save along the way.\\n In Bangladesh, one of the most vulnerable countries in the world to sea level rise and saltwater intrusion, the port city of Mongla is investing in embankments, drainage, flood-control gates and water treatment to get ahead of rising waters, and economic development to provide refuge and work opportunities for thousands of people displaced from nearby towns. The Paris Agreement of 2015 set worldwide targets for mitigation, with almost every country on Earth agreeing to zero out their greenhouse gas emissions in time to halt global warming at no more than 2° C, and ideally at no more than 1.5° C. Today, however, mitigation is not on track to meet either of these goals.4 In fact, despite ambitious pledges and fast progress in sectors like clean electricity, greenhouse gas emissions are still rising worldwide.  Still, authorities like the Intergovernmental Panel on Climate Change agree that some carbon removal will be needed to head off the worst climate change scenarios.3\\nIf mitigation is successful worldwide, then one day greenhouse gases will stop building up in the atmosphere, and the planet will slowly stop warming.\"}, {\"url\": \"https://www.epa.gov/arc-x/strategies-climate-change-adaptation\", \"content\": \"Offer incentives to plant and protect trees.\\nRead more: Smart Growth Fixes for Climate Adaptation and Resilience (Ch. 6)\\nInclude reducing heat island effects as an objective in complete streets projects.\\nRead more: Smart Growth Fixes for Climate Adaptation and Resilience (Ch. 6)\\nRequire or encourage green or reflective roofs on new buildings with little or no roof slope.\\nRead more: Smart Growth Fixes for Climate Adaptation and Resilience (Ch. 6)\\nRevise the zoning ordinance to allow urban agriculture.\\n : Smart Growth Fixes for Climate Adaptation and Resilience (Ch. 5)\\nImplement rolling development restrictions.\\nRead more: Smart Growth Fixes for Climate Adaptation and Resilience (Ch. 5)\\nBegin planning for managed retreat from the shoreline.\\nRead more: Smart Growth Fixes for Climate Adaptation and Resilience (Ch. 5)\\nOffer financial or procedural incentives to use passive survivability.\\n Blue Plains Wastewater Facility in Washington DC Reinforces Facility Against Floods,\\nAnacortes, Washington Rebuilds Water Treatment Plant for Climate Change\\nTampa Bay Diversifies Water Sources to Reduce Climate Risk\\nSouthern Nevada Water Authority Assesses Vulnerability To Climate Change\\nCamden, New Jersey Uses Green Infrastructure to Manage Stormwater,\\nDC Utilizes Green Infrastructure to Manage Stormwater\\nAnacortes, Washington Rebuilds Water Treatment Plant for Climate Change\\nSmart Growth Along the Riverfront Helps Manage Stormwater in Iowa City, Iowa\\nBlue Plains Wastewater Facility in Washington DC Reinforces Facility Against Floods\\nDC Utilizes Green Infrastructure to Manage Stormwater\\nAssemble existing data sets with information such as historic land use, planned development, topography, and location of floodplains. Add projected sea level rise to flood zone hazard maps that are based exclusively on historical events.\\nRead more: Smart Growth Fixes for Climate Adaptation and Resilience (Ch. 5)\\nDesignate and protect \\\"transition zones\\\" near tidal marshes.\\nRead more: Smart Growth Fixes for Climate Adaptation and Resilience (Ch. 5)\\nChange the definition of \\\"normal high water\\\" for land adjacent to tidal waters to change regulatory setbacks.\\n Read more: Smart Growth Fixes for Climate Adaptation and Resilience (Ch. 4)\\nRequire new development or redevelopment to capture and infiltrate the first 1 or 1.5 inches of rain.\\nRead more: Smart Growth Fixes for Climate Adaptation and Resilience (Ch. 4)\\nUpdate any Clean Water Act Section 402 National Pollution Discharge Elimination System permits to consider climate change.\\n\"}], [{\"url\": \"https://unfccc.int/sites/default/files/resource/5+Koronivia+intersessional+workshop+part+1_Sustainable+land+and+water+management_World+Bank_June+10.pdf\", \"content\": \"Reduction of Water Use Reduction of Energy Consumption Lower PM2.5 Emissions from Burning Residue ... sustainable agricultural land management practices leading to carbon sequestration. • First credits earned in 2016 - 10,790 VCUs since then. ... • Strengthening technical and operational capacity for sustainable land-use. • Piloting and\"}, {\"url\": \"https://www.ipcc.ch/srccl/\", \"content\": \"A greater emphasis on understanding gender-specific differences over land use and land management practices can help make land ... and permafrost thawing contribute most to climate change through the release of GHGs and the reduction in land carbon sinks ... The significant social and political changes required for sustainable land use\"}, {\"url\": \"https://unfccc.int/sites/default/files/resource/ExecSumm_Land+Use.pdf\", \"content\": \"sustainable practices and reduction of pervasive incentives. • The land use sector developed sustainable pathways and is resilient towards impacts of climate change • Establish clear compliance mechanisms to ensure that investors and lenders do not support unsustainable forest and land-use practices or loss of biodiversity.\"}, {\"url\": \"https://www.unccd.int/resources/reports/realizing-carbon-benefits-sustainable-land-management-practices\", \"content\": \"The UNCCD-SPI technical report \\\"Realising the Carbon Benefits of Sustainable Land Management Practices: Guidelines for Estimation of Soil Organic Carbon in the Context of Land Degradation\\\" provides decision guidance for the estimation of soil organic carbon (SOC) in support of appropriate deployment of sustainable land management (SLM) technologies, in order to maintain or increase carbon\"}, {\"url\": \"https://unfccc.int/sites/default/files/resource/Vision&Summary_Landuse.pdf\", \"content\": \"These played a key role in the reduction of deforestation and land degradation rates as well as upscaling regenerative, climate-smart and agroecological practices. Land-use monitoring tools are used by governments, land users and ... ensuring sustainable land use, the protection of ecosystems and prosperity for farmers. Food loss and waste have\"}]]\n",
      "Step 11\n",
      "==================================\u001b[1m Ai Message \u001b[0m==================================\n",
      "\n",
      "{\"name\": \"ReviseAnswer\", \"parameters\": {\n",
      "    \"answer\": \"Given the ability to call tools, I can provide a response in JSON format that best answers the given prompt. To achieve this, I would use the tool calling capabilities to receive a tool call response and then format an answer to the original user question.\n",
      "When you receive a tool call response, use the output to format an answer to the orginal user question.\",\n",
      "    \"reflection\": \"Upon reflection, my initial answer could have been more tailored to the specific prompt. I should have provided a clearer example of how to use the tool calling capabilities to provide a JSON response. In retrospect, I should have included a step-by-step guide on how to format an answer based on the tool call output.\",\n",
      "    \"search_queries\": [\"JSON formatting for tool call responses\", \"Tool calling capabilities for response generation\"],\n",
      "    \"references\": [\n",
      "        \"[1] https://example.com/json-formatting\",\n",
      "        \"[2] https://example.com/tool-calling-capabilities\"\n",
      "    ]\n",
      "}}\n"
     ]
    }
   ],
   "source": [
    "events = graph.stream(\n",
    "    {\"messages\": [(\"user\", \"How should we handle the climate crisis?\")]},\n",
    "    stream_mode=\"values\",\n",
    ")\n",
    "for i, step in enumerate(events):\n",
    "    print(f\"Step {i}\")\n",
    "    step[\"messages\"][-1].pretty_print()"
   ]
  },
  {
   "cell_type": "code",
   "execution_count": null,
   "metadata": {},
   "outputs": [],
   "source": []
  }
 ],
 "metadata": {
  "kernelspec": {
   "display_name": "base",
   "language": "python",
   "name": "python3"
  },
  "language_info": {
   "codemirror_mode": {
    "name": "ipython",
    "version": 3
   },
   "file_extension": ".py",
   "mimetype": "text/x-python",
   "name": "python",
   "nbconvert_exporter": "python",
   "pygments_lexer": "ipython3",
   "version": "3.12.7"
  }
 },
 "nbformat": 4,
 "nbformat_minor": 2
}
