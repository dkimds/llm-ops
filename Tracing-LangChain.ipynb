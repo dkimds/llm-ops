{
 "cells": [
  {
   "cell_type": "markdown",
   "metadata": {},
   "source": [
    "# Trace with LangChain"
   ]
  },
  {
   "cell_type": "markdown",
   "metadata": {},
   "source": [
    "## Quick start"
   ]
  },
  {
   "cell_type": "code",
   "execution_count": 5,
   "metadata": {},
   "outputs": [],
   "source": [
    "import getpass\n",
    "import os\n",
    "\n",
    "os.environ[\"LANGCHAIN_TRACING_V2\"] = \"true\"\n",
    "os.environ[\"LANGCHAIN_ENDPOINT\"]=\"https://api.smith.langchain.com\"\n",
    "os.environ[\"LANGCHAIN_API_KEY\"] = getpass.getpass()"
   ]
  },
  {
   "cell_type": "markdown",
   "metadata": {},
   "source": [
    "When we are using Ollama, logging a trace is optional. "
   ]
  },
  {
   "cell_type": "code",
   "execution_count": 6,
   "metadata": {},
   "outputs": [
    {
     "data": {
      "text/plain": [
       "\"What a remarkable day it has been! This morning, leaders from around the globe gathered in a historic summit to address and resolve all existing world conflicts. After intense discussions and constructive negotiations, they were able to reach a comprehensive agreement that brought peace and harmony to every nation.\\n\\nThe meeting was attended by top diplomats, representatives from international organizations, and key stakeholders from over 100 countries. The atmosphere was collaborative and solution-focused, with a shared commitment to creating a more peaceful and prosperous world.\\n\\nKey highlights from the morning's meetings include:\\n\\n* A unified declaration against war and violence\\n* Establishment of a new global framework for conflict resolution\\n* Agreement on economic cooperation and trade partnerships\\n* Commitment to environmental sustainability and climate action\\n\\nThe summit was a resounding success, marking a significant turning point in human history. As we move forward, it's clear that this newfound spirit of cooperation will have far-reaching benefits for all nations and peoples.\""
      ]
     },
     "execution_count": 6,
     "metadata": {},
     "output_type": "execute_result"
    }
   ],
   "source": [
    "from langchain_ollama import ChatOllama\n",
    "from langchain_core.prompts import ChatPromptTemplate\n",
    "from langchain_core.output_parsers import StrOutputParser\n",
    "\n",
    "prompt = ChatPromptTemplate.from_messages([\n",
    "    (\"system\", \"You are a helpful assistant. Please respond to the user's request only based on the given context.\"),\n",
    "    (\"user\", \"Question: {question}\\nContext: {context}\")\n",
    "])\n",
    "\n",
    "model = ChatOllama(model='llama3.1')\n",
    "output_parser = StrOutputParser()\n",
    "\n",
    "chain = prompt | model | output_parser"
   ]
  },
  {
   "cell_type": "markdown",
   "metadata": {},
   "source": [
    "There're 2 ways.\n",
    "1. Manually passing in a `LangChainTracer`\n",
    "2. Using the `tracing_v2_enabled`"
   ]
  },
  {
   "cell_type": "code",
   "execution_count": 7,
   "metadata": {},
   "outputs": [
    {
     "data": {
      "text/plain": [
       "\"No, you're not being traced.\""
      ]
     },
     "execution_count": 7,
     "metadata": {},
     "output_type": "execute_result"
    }
   ],
   "source": [
    "from langchain.callbacks.tracers import LangChainTracer\n",
    "\n",
    "# 1. Instance as a callback\n",
    "tracer = LangChainTracer()\n",
    "chain.invoke({\"question\": \"Am I using a callback?\", \"context\": \"I'm using a callback\"}, config={\"callbacks\": [tracer]})\n",
    "\n",
    "# 2. Context manager\n",
    "from langchain_core.tracers.context import tracing_v2_enabled\n",
    "with tracing_v2_enabled():\n",
    "    chain.invoke({\"question\": \"Am I using a context manager?\", \"context\": \"I'm using a context manager\"})\n",
    "\n",
    "# This will NOT be traced\n",
    "chain.invoke({\"question\": \"Am I being traced?\", \"context\": \"I'm not being traced\"})"
   ]
  },
  {
   "cell_type": "markdown",
   "metadata": {},
   "source": [
    "## Log to a specific project"
   ]
  },
  {
   "cell_type": "code",
   "execution_count": 10,
   "metadata": {},
   "outputs": [],
   "source": [
    "from langchain.callbacks.tracers import LangChainTracer\n",
    "\n",
    "tracer = LangChainTracer(project_name=\"LangGraph Tutorial\")\n",
    "chain.invoke({\"question\": \"Am I using a callback?\", \"context\": \"I'm using a callback\"}, config={\"callbacks\": [tracer]})\n",
    "\n",
    "from langchain_core.tracers.context import tracing_v2_enabled\n",
    "with tracing_v2_enabled(project_name=\"LangGraph Tutorial\"):\n",
    "    chain.invoke({\"question\": \"Am I using a context manager?\", \"context\": \"I'm using a context manager\"})\n"
   ]
  },
  {
   "cell_type": "code",
   "execution_count": null,
   "metadata": {},
   "outputs": [],
   "source": []
  }
 ],
 "metadata": {
  "kernelspec": {
   "display_name": "base",
   "language": "python",
   "name": "python3"
  },
  "language_info": {
   "codemirror_mode": {
    "name": "ipython",
    "version": 3
   },
   "file_extension": ".py",
   "mimetype": "text/x-python",
   "name": "python",
   "nbconvert_exporter": "python",
   "pygments_lexer": "ipython3",
   "version": "3.11.7"
  }
 },
 "nbformat": 4,
 "nbformat_minor": 2
}
