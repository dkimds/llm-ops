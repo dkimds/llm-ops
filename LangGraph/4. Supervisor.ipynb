{
 "cells": [
  {
   "cell_type": "markdown",
   "metadata": {},
   "source": [
    "# Supervisor\n",
    "\n",
    "Multi-agent supervisor"
   ]
  },
  {
   "cell_type": "code",
   "execution_count": 2,
   "metadata": {},
   "outputs": [],
   "source": [
    "%%capture --no-stderr\n",
    "%pip install -U langgraph lanchain_community langchain_ollama langchain_experimental"
   ]
  },
  {
   "cell_type": "code",
   "execution_count": 1,
   "metadata": {},
   "outputs": [],
   "source": [
    "import getpass\n",
    "import os\n",
    "\n",
    "\n",
    "def _set_if_undefined(var: str):\n",
    "    if not os.environ.get(var):\n",
    "        os.environ[var] = getpass.getpass(f\"Please provide your {var}\")\n",
    "\n",
    "\n",
    "_set_if_undefined(\"TAVILY_API_KEY\")\n"
   ]
  },
  {
   "cell_type": "markdown",
   "metadata": {},
   "source": [
    "## Create tools\n",
    "An agent to do web research with a search engine, and one agent to create plots"
   ]
  },
  {
   "cell_type": "code",
   "execution_count": 2,
   "metadata": {},
   "outputs": [
    {
     "name": "stderr",
     "output_type": "stream",
     "text": [
      "<>:23: SyntaxWarning: invalid escape sequence '\\`'\n",
      "<>:23: SyntaxWarning: invalid escape sequence '\\`'\n",
      "<>:23: SyntaxWarning: invalid escape sequence '\\`'\n",
      "<>:23: SyntaxWarning: invalid escape sequence '\\`'\n",
      "/var/folders/wm/j89vyk052m5bvrvn1dhfyflr0000gn/T/ipykernel_16168/2391770398.py:23: SyntaxWarning: invalid escape sequence '\\`'\n",
      "  result_str = f\"Successfully executed:\\n\\`\\`\\`python\\n{code}\\n\\`\\`\\`\\nStdout: {result}\"\n",
      "/var/folders/wm/j89vyk052m5bvrvn1dhfyflr0000gn/T/ipykernel_16168/2391770398.py:23: SyntaxWarning: invalid escape sequence '\\`'\n",
      "  result_str = f\"Successfully executed:\\n\\`\\`\\`python\\n{code}\\n\\`\\`\\`\\nStdout: {result}\"\n"
     ]
    }
   ],
   "source": [
    "from typing import Annotated\n",
    "\n",
    "from langchain_community.tools.tavily_search import TavilySearchResults\n",
    "from langchain_core.tools import tool\n",
    "from langchain_experimental.utilities import PythonREPL\n",
    "\n",
    "tavily_tool = TavilySearchResults(max_results=5)\n",
    "\n",
    "# This executes code locally, which can be unsafe\n",
    "repl = PythonREPL()\n",
    "\n",
    "\n",
    "@tool\n",
    "def python_repl_tool(\n",
    "    code: Annotated[str, \"The python code to execute to generate your chart.\"],\n",
    "):\n",
    "    \"\"\"Use this to execute python code and do math. If you want to see the output of a value,\n",
    "    you should print it out with `print(...)`. This is visible to the user.\"\"\"\n",
    "    try:\n",
    "        result = repl.run(code)\n",
    "    except BaseException as e:\n",
    "        return f\"Failed to execute. Error: {repr(e)}\"\n",
    "    result_str = f\"Successfully executed:\\n\\`\\`\\`python\\n{code}\\n\\`\\`\\`\\nStdout: {result}\"\n",
    "    return result_str"
   ]
  },
  {
   "cell_type": "markdown",
   "metadata": {},
   "source": [
    "### Create Agent Supervisor\n",
    "Choosing the next worker node OR finish processing"
   ]
  },
  {
   "cell_type": "code",
   "execution_count": 3,
   "metadata": {},
   "outputs": [],
   "source": [
    "from langgraph.graph import MessagesState"
   ]
  },
  {
   "cell_type": "code",
   "execution_count": 4,
   "metadata": {},
   "outputs": [],
   "source": [
    "# The agent state is the input to each node in the graph\n",
    "class AgentState(MessagesState):\n",
    "    # The 'next' field indicates where to route to next\n",
    "    next: str"
   ]
  },
  {
   "cell_type": "code",
   "execution_count": 5,
   "metadata": {},
   "outputs": [],
   "source": [
    "from typing import Literal\n",
    "from typing_extensions import TypedDict\n",
    "\n",
    "from langchain_ollama import ChatOllama\n",
    "\n",
    "members = [\"researcher\", \"coder\"]\n",
    "# Our team supervisor is an LLM node. It just picks the next agent to process\n",
    "# and decides when the work is completed\n",
    "options = members + [\"FINISH\"]\n",
    "\n",
    "system_prompt = (\n",
    "    \"You are a supervisor tasked with managing a conversation between the\"\n",
    "    f\" following workers: {members}. Given the following user request,\"\n",
    "    \" respond with the worker to act next. Each worker will perform a\"\n",
    "    \" task and respond with their results and status. When finished,\"\n",
    "    \" respond with FINISH.\"\n",
    ")\n",
    "\n",
    "\n",
    "class Router(TypedDict):\n",
    "    \"\"\"Worker to route to next. If no workers needed, route to FINISH.\"\"\"\n",
    "\n",
    "    next: Literal[*options]\n",
    "\n",
    "\n",
    "llm = ChatOllama(model=\"llama3.1\")\n",
    "\n",
    "\n",
    "def supervisor_node(state: AgentState) -> AgentState:\n",
    "    messages = [\n",
    "        {\"role\": \"system\", \"content\": system_prompt},\n",
    "    ] + state[\"messages\"]\n",
    "    response = llm.with_structured_output(Router).invoke(messages)\n",
    "    next_ = response[\"next\"]\n",
    "    if next_ == \"FINISH\":\n",
    "        next_ = END\n",
    "\n",
    "    return {\"next\": next_}"
   ]
  },
  {
   "cell_type": "markdown",
   "metadata": {},
   "source": [
    "## Construct Graph\n",
    "The stat and worker nodes "
   ]
  },
  {
   "cell_type": "code",
   "execution_count": 6,
   "metadata": {},
   "outputs": [
    {
     "data": {
      "text/plain": [
       "<langgraph.graph.state.StateGraph at 0x109e2c650>"
      ]
     },
     "execution_count": 6,
     "metadata": {},
     "output_type": "execute_result"
    }
   ],
   "source": [
    "from langchain_core.messages import HumanMessage\n",
    "from langgraph.graph import StateGraph, START, END\n",
    "from langgraph.prebuilt import create_react_agent\n",
    "\n",
    "\n",
    "research_agent = create_react_agent(\n",
    "    llm, tools=[tavily_tool], state_modifier=\"You are a researcher. DO NOT do any math.\"\n",
    ")\n",
    "\n",
    "\n",
    "def research_node(state: AgentState) -> AgentState:\n",
    "    result = research_agent.invoke(state)\n",
    "    return {\n",
    "        \"messages\": [\n",
    "            HumanMessage(content=result[\"messages\"][-1].content, name=\"researcher\")\n",
    "        ]\n",
    "    }\n",
    "\n",
    "\n",
    "# NOTE: THIS PERFORMS ARBITRARY CODE EXECUTION, WHICH CAN BE UNSAFE WHEN NOT SANDBOXED\n",
    "code_agent = create_react_agent(llm, tools=[python_repl_tool])\n",
    "\n",
    "\n",
    "def code_node(state: AgentState) -> AgentState:\n",
    "    result = code_agent.invoke(state)\n",
    "    return {\n",
    "        \"messages\": [HumanMessage(content=result[\"messages\"][-1].content, name=\"coder\")]\n",
    "    }\n",
    "\n",
    "\n",
    "builder = StateGraph(AgentState)\n",
    "builder.add_edge(START, \"supervisor\")\n",
    "builder.add_node(\"supervisor\", supervisor_node)\n",
    "builder.add_node(\"researcher\", research_node)\n",
    "builder.add_node(\"coder\", code_node)"
   ]
  },
  {
   "cell_type": "markdown",
   "metadata": {},
   "source": [
    "Connet all the edges in the graph."
   ]
  },
  {
   "cell_type": "code",
   "execution_count": 7,
   "metadata": {},
   "outputs": [],
   "source": [
    "for member in members:\n",
    "    # We want our workers to ALWAYS \"report back\" to the supervisor when done\n",
    "    builder.add_edge(member, \"supervisor\")\n",
    "\n",
    "# The supervisor populates the \"next\" field in the graph state\n",
    "# which routes to a node or finishes\n",
    "builder.add_conditional_edges(\"supervisor\", lambda state: state[\"next\"])\n",
    "# Finally, add entrypoint\n",
    "builder.add_edge(START, \"supervisor\")\n",
    "\n",
    "graph = builder.compile()"
   ]
  },
  {
   "cell_type": "code",
   "execution_count": 8,
   "metadata": {},
   "outputs": [
    {
     "data": {
      "image/png": "[encoded data removed]",
      "text/plain": [
       "<IPython.core.display.Image object>"
      ]
     },
     "metadata": {},
     "output_type": "display_data"
    }
   ],
   "source": [
    "from IPython.display import display, Image\n",
    "display(Image(graph.get_graph().draw_mermaid_png()))"
   ]
  },
  {
   "cell_type": "markdown",
   "metadata": {},
   "source": [
    "## Invoke the team"
   ]
  },
  {
   "cell_type": "code",
   "execution_count": 11,
   "metadata": {},
   "outputs": [
    {
     "name": "stdout",
     "output_type": "stream",
     "text": [
      "((), {'supervisor': {'next': 'coder'}})\n",
      "----\n",
      "(('coder:fd4e2149-3a38-0dc9-425a-bed225470434',), {'agent': {'messages': [AIMessage(content='', additional_kwargs={}, response_metadata={'model': 'llama3.1', 'created_at': '2024-11-22T06:00:37.13247Z', 'message': {'role': 'assistant', 'content': '', 'tool_calls': [{'function': {'name': 'python_repl_tool', 'arguments': {'code': 'import math; print(math.sqrt(42))'}}}]}, 'done_reason': 'stop', 'done': True, 'total_duration': 3541123208, 'load_duration': 22171208, 'prompt_eval_count': 206, 'prompt_eval_duration': 1992000000, 'eval_count': 27, 'eval_duration': 1518000000}, id='run-45616498-1769-48b6-91f5-6252fc459632-0', tool_calls=[{'name': 'python_repl_tool', 'args': {'code': 'import math; print(math.sqrt(42))'}, 'id': '6f4071ba-f17c-4155-90b0-42aef10bc72e', 'type': 'tool_call'}], usage_metadata={'input_tokens': 206, 'output_tokens': 27, 'total_tokens': 233})]}})\n",
      "----\n",
      "(('coder:fd4e2149-3a38-0dc9-425a-bed225470434',), {'tools': {'messages': [ToolMessage(content='Successfully executed:\\n\\\\`\\\\`\\\\`python\\nimport math; print(math.sqrt(42))\\n\\\\`\\\\`\\\\`\\nStdout: 6.48074069840786\\n', name='python_repl_tool', id='f73251f0-484c-4e29-ab57-33c020526ad9', tool_call_id='6f4071ba-f17c-4155-90b0-42aef10bc72e')]}})\n",
      "----\n",
      "(('coder:fd4e2149-3a38-0dc9-425a-bed225470434',), {'agent': {'messages': [AIMessage(content='The square root of 42 is approximately 6.48.', additional_kwargs={}, response_metadata={'model': 'llama3.1', 'created_at': '2024-11-22T06:00:38.716864Z', 'message': {'role': 'assistant', 'content': 'The square root of 42 is approximately 6.48.'}, 'done_reason': 'stop', 'done': True, 'total_duration': 1519081542, 'load_duration': 28672167, 'prompt_eval_count': 133, 'prompt_eval_duration': 725000000, 'eval_count': 14, 'eval_duration': 742000000}, id='run-30e70bd6-4ab6-4442-aef9-6042e3f52e06-0', usage_metadata={'input_tokens': 133, 'output_tokens': 14, 'total_tokens': 147})]}})\n",
      "----\n",
      "((), {'coder': {'messages': [HumanMessage(content='The square root of 42 is approximately 6.48.', additional_kwargs={}, response_metadata={}, name='coder')]}})\n",
      "----\n",
      "((), {'supervisor': {'next': 'researcher'}})\n",
      "----\n",
      "(('researcher:99f1f1eb-4c4b-fb02-793b-57af523ee67b',), {'agent': {'messages': [AIMessage(content='', additional_kwargs={}, response_metadata={'model': 'llama3.1', 'created_at': '2024-11-22T06:00:47.918829Z', 'message': {'role': 'assistant', 'content': '', 'tool_calls': [{'function': {'name': 'tavily_search_results_json', 'arguments': {'query': 'square root of 42'}}}]}, 'done_reason': 'stop', 'done': True, 'total_duration': 4733712500, 'load_duration': 29184125, 'prompt_eval_count': 219, 'prompt_eval_duration': 1915000000, 'eval_count': 48, 'eval_duration': 2775000000}, id='run-a28f3fb4-c059-44cd-9742-87d8afed5de2-0', tool_calls=[{'name': 'tavily_search_results_json', 'args': {'query': 'square root of 42'}, 'id': '16978095-c88e-4b56-9be6-82a207e1e531', 'type': 'tool_call'}], usage_metadata={'input_tokens': 219, 'output_tokens': 48, 'total_tokens': 267})]}})\n",
      "----\n",
      "(('researcher:99f1f1eb-4c4b-fb02-793b-57af523ee67b',), {'tools': {'messages': [ToolMessage(content='[{\"url\": \"https://byjus.com/maths/square-root-of-42/\", \"content\": \"Learn how to find the square root of 42 using prime factorization and long division methods. See the decimal and radical forms of the square root of 42 and examples of simplifying expressions with square roots.\"}, {\"url\": \"https://www.cuemath.com/algebra/square-root-of-42/\", \"content\": \"Learn how to find the square root of 42 using approximation, long division, and exponential forms. Explore the properties, facts, and applications of the square root of 42 with interactive examples and FAQs.\"}, {\"url\": \"https://squarerootcalculator.com/square-root-of-42/\", \"content\": \"Learn what is the square root of 42 and how to calculate it by finding the number that multiplied by itself gives 42. Also, see how to use the SQRT () function in Excel or Google Sheets to get the square root of any number.\"}, {\"url\": \"https://square-root.net/square-root-of-42\", \"content\": \"Learn what the square root of 42 is, how to calculate it and its properties. Find the value, symbol, inverse and n-th roots of 42 with examples and a calculator.\"}, {\"url\": \"https://calculator.name/square-root/42\", \"content\": \"Find the square root of 42 in decimal form and learn how to simplify it using prime factorization. The web page also shows the steps and the result of the calculation.\"}]', name='tavily_search_results_json', id='703ed31d-b7d2-4213-a211-f70b890c46d9', tool_call_id='16978095-c88e-4b56-9be6-82a207e1e531', artifact={'query': 'square root of 42', 'follow_up_questions': None, 'answer': None, 'images': [], 'results': [{'title': \"Square Root of 42 | How to Find the Square Root of 42? - BYJU'S\", 'url': 'https://byjus.com/maths/square-root-of-42/', 'content': 'Learn how to find the square root of 42 using prime factorization and long division methods. See the decimal and radical forms of the square root of 42 and examples of simplifying expressions with square roots.', 'score': 0.99790895, 'raw_content': None}, {'title': 'Square Root of 42 - How to Find the Square Root of 42? - Cuemath', 'url': 'https://www.cuemath.com/algebra/square-root-of-42/', 'content': 'Learn how to find the square root of 42 using approximation, long division, and exponential forms. Explore the properties, facts, and applications of the square root of 42 with interactive examples and FAQs.', 'score': 0.9973477, 'raw_content': None}, {'title': 'What Is The Square Root of 42?', 'url': 'https://squarerootcalculator.com/square-root-of-42/', 'content': 'Learn what is the square root of 42 and how to calculate it by finding the number that multiplied by itself gives 42. Also, see how to use the SQRT () function in Excel or Google Sheets to get the square root of any number.', 'score': 0.9960699, 'raw_content': None}, {'title': 'What is the Square Root of 42? Information and Calculator', 'url': 'https://square-root.net/square-root-of-42', 'content': 'Learn what the square root of 42 is, how to calculate it and its properties. Find the value, symbol, inverse and n-th roots of 42 with examples and a calculator.', 'score': 0.99583375, 'raw_content': None}, {'title': 'Square Root of 42 - Calculator Online', 'url': 'https://calculator.name/square-root/42', 'content': 'Find the square root of 42 in decimal form and learn how to simplify it using prime factorization. The web page also shows the steps and the result of the calculation.', 'score': 0.99499834, 'raw_content': None}], 'response_time': 2.26})]}})\n",
      "----\n",
      "(('researcher:99f1f1eb-4c4b-fb02-793b-57af523ee67b',), {'agent': {'messages': [AIMessage(content='The square root of 42 is approximately 6.48.', additional_kwargs={}, response_metadata={'model': 'llama3.1', 'created_at': '2024-11-22T06:00:55.930771Z', 'message': {'role': 'assistant', 'content': 'The square root of 42 is approximately 6.48.'}, 'done_reason': 'stop', 'done': True, 'total_duration': 4592505750, 'load_duration': 52461375, 'prompt_eval_count': 442, 'prompt_eval_duration': 3730000000, 'eval_count': 14, 'eval_duration': 782000000}, id='run-9b24829c-b0fc-4894-8f0e-0b1777784e2f-0', usage_metadata={'input_tokens': 442, 'output_tokens': 14, 'total_tokens': 456})]}})\n",
      "----\n",
      "((), {'researcher': {'messages': [HumanMessage(content='The square root of 42 is approximately 6.48.', additional_kwargs={}, response_metadata={}, name='researcher')]}})\n",
      "----\n",
      "((), {'supervisor': {'next': 'researcher'}})\n",
      "----\n",
      "(('researcher:812ee3d8-0079-5bd2-5aea-1778edfd9ed1',), {'agent': {'messages': [AIMessage(content='', additional_kwargs={}, response_metadata={'model': 'llama3.1', 'created_at': '2024-11-22T06:01:03.027406Z', 'message': {'role': 'assistant', 'content': '', 'tool_calls': [{'function': {'name': 'tavily_search_results_json', 'arguments': {'query': 'square root of 42'}}}]}, 'done_reason': 'stop', 'done': True, 'total_duration': 2939353209, 'load_duration': 19142667, 'prompt_eval_count': 232, 'prompt_eval_duration': 1505000000, 'eval_count': 25, 'eval_duration': 1406000000}, id='run-5b15f550-0f58-49d9-82a2-c4c674eeb460-0', tool_calls=[{'name': 'tavily_search_results_json', 'args': {'query': 'square root of 42'}, 'id': '93784dcf-4bf6-43c0-9334-99662ea15a2b', 'type': 'tool_call'}], usage_metadata={'input_tokens': 232, 'output_tokens': 25, 'total_tokens': 257})]}})\n",
      "----\n",
      "(('researcher:812ee3d8-0079-5bd2-5aea-1778edfd9ed1',), {'tools': {'messages': [ToolMessage(content='[{\"url\": \"https://byjus.com/question-answer/what-is-the-square-root-of-42/\", \"content\": \"Determine the square root of 42. The square root of a number is the value that returns the original number when multiplied by itself. Find the prime factors of 42: 42 = 2 × 3 × 7. Take square root from both sides of the above equation: 42 = 2 × 3 × 7 ⇒ 42 = 2 × 3 × 7 ⇒ 42 = 1. 414 × 1. 732 × 2. 64 ⇒ 42 = 6. 4807. Hence, the square\"}, {\"url\": \"https://byjus.com/maths/square-root-of-42/\", \"content\": \"Learn how to find the square root of 42 using prime factorization and long division methods. See the decimal and radical forms of the square root of 42 and examples of simplifying expressions with square roots.\"}, {\"url\": \"https://www.cuemath.com/algebra/square-root-of-42/\", \"content\": \"Learn how to find the square root of 42 using approximation, long division, and exponential forms. Explore the properties, facts, and applications of the square root of 42 with interactive examples and FAQs.\"}, {\"url\": \"https://www.calculatorsoup.com/calculators/algebra/squareroots.php\", \"content\": \"Square Root\\\\nAdditional reading on square roots:\\\\nAt Math is Fun: square root\\\\nCite this content, page or calculator as:\\\\nFurey, Edward \\\\\"Square Root Calculator\\\\\" at https://www.calculatorsoup.com/calculators/algebra/squareroots.php from CalculatorSoup,\\\\nhttps://www.calculatorsoup.com - Online Calculators\\\\nLast updated: August 17, 2023\\\\n© 2006 - 2024 CalculatorSoup®\\\\nAll rights reserved. Given a number\\\\nx, the square root of x is a number a such that\\\\na2 = x. Square roots is a specialized form of our common\\\\nroots calculator.\\\\n Calculator\\xa0Soup®\\\\nOnline\\xa0Calculators\\\\nSquare Root Calculator\\\\nCalculator Use\\\\nUse this calculator to find the principal square root and roots of real numbers. A perfect square is a number\\\\nx where the square root of x is a number a such that\\\\na2 = x and a is an integer. Perfect Square Calculator\\\\nThis calculator will also tell you if the number you entered is a perfect square or is not a perfect square.\\xa0 \"}, {\"url\": \"https://www.symbolab.com/solver/square-root-calculator\", \"content\": \"Square Root Calculator - Free Online Calculator With Steps & Examples Order of Operations Factors & Primes Fractions Long Arithmetic Decimals Exponents & Radicals Ratios & Proportions Percent Modulo Number Line Expanded Form Mean, Median & Mode Equations Inequalities System of Equations System of Inequalities Testing Solutions Basic Operations Algebraic Properties Partial Fractions Polynomials Rational Expressions Sequences Power Sums Interval Notation Pi (Product) Notation Induction Prove That Logical Sets Word Problems Equations Inequalities Scientific Calculator Scientific Notation Arithmetics Complex Numbers Coterminal Angle Polar/Cartesian Simultaneous Equations System of Inequalities Polynomials Rationales Functions Arithmetic & Comp. Find square roots of any number step-by-step square-root-calculator Study Tools AI Math Solver Popular Problems Worksheets Study Guides Practice Cheat Sheets Calculators Graphing Calculator Geometry Calculator Verify Solution\"}]', name='tavily_search_results_json', id='cc8977c9-2301-4f6d-907a-49383d4a3691', tool_call_id='93784dcf-4bf6-43c0-9334-99662ea15a2b', artifact={'query': 'square root of 42', 'follow_up_questions': None, 'answer': None, 'images': [], 'results': [{'title': \"What is the square root of 42? Maths Q&A - BYJU'S\", 'url': 'https://byjus.com/question-answer/what-is-the-square-root-of-42/', 'content': 'Determine the square root of 42. The square root of a number is the value that returns the original number when multiplied by itself. Find the prime factors of 42: 42 = 2 × 3 × 7. Take square root from both sides of the above equation: 42 = 2 × 3 × 7 ⇒ 42 = 2 × 3 × 7 ⇒ 42 = 1. 414 × 1. 732 × 2. 64 ⇒ 42 = 6. 4807. Hence, the square', 'score': 0.9988796, 'raw_content': None}, {'title': \"Square Root of 42 | How to Find the Square Root of 42? - BYJU'S\", 'url': 'https://byjus.com/maths/square-root-of-42/', 'content': 'Learn how to find the square root of 42 using prime factorization and long division methods. See the decimal and radical forms of the square root of 42 and examples of simplifying expressions with square roots.', 'score': 0.99790895, 'raw_content': None}, {'title': 'Square Root of 42 - How to Find the Square Root of 42? - Cuemath', 'url': 'https://www.cuemath.com/algebra/square-root-of-42/', 'content': 'Learn how to find the square root of 42 using approximation, long division, and exponential forms. Explore the properties, facts, and applications of the square root of 42 with interactive examples and FAQs.', 'score': 0.9973477, 'raw_content': None}, {'title': 'Square Root Calculator', 'url': 'https://www.calculatorsoup.com/calculators/algebra/squareroots.php', 'content': 'Square Root\\nAdditional reading on square roots:\\nAt Math is Fun: square root\\nCite this content, page or calculator as:\\nFurey, Edward \"Square Root Calculator\" at https://www.calculatorsoup.com/calculators/algebra/squareroots.php from CalculatorSoup,\\nhttps://www.calculatorsoup.com - Online Calculators\\nLast updated: August 17, 2023\\n© 2006 - 2024 CalculatorSoup®\\nAll rights reserved. Given a number\\nx, the square root of x is a number a such that\\na2 = x. Square roots is a specialized form of our common\\nroots calculator.\\n Calculator\\xa0Soup®\\nOnline\\xa0Calculators\\nSquare Root Calculator\\nCalculator Use\\nUse this calculator to find the principal square root and roots of real numbers. A perfect square is a number\\nx where the square root of x is a number a such that\\na2 = x and a is an integer. Perfect Square Calculator\\nThis calculator will also tell you if the number you entered is a perfect square or is not a perfect square.\\xa0 ', 'score': 0.104294725, 'raw_content': None}, {'title': 'Square Root Calculator - Free Online Calculator With Steps ... - Symbolab', 'url': 'https://www.symbolab.com/solver/square-root-calculator', 'content': 'Square Root Calculator - Free Online Calculator With Steps & Examples Order of Operations Factors & Primes Fractions Long Arithmetic Decimals Exponents & Radicals Ratios & Proportions Percent Modulo Number Line Expanded Form Mean, Median & Mode Equations Inequalities System of Equations System of Inequalities Testing Solutions Basic Operations Algebraic Properties Partial Fractions Polynomials Rational Expressions Sequences Power Sums Interval Notation Pi (Product) Notation Induction Prove That Logical Sets Word Problems Equations Inequalities Scientific Calculator Scientific Notation Arithmetics Complex Numbers Coterminal Angle Polar/Cartesian Simultaneous Equations System of Inequalities Polynomials Rationales Functions Arithmetic & Comp. Find square roots of any number step-by-step square-root-calculator Study Tools AI Math Solver Popular Problems Worksheets Study Guides Practice Cheat Sheets Calculators Graphing Calculator Geometry Calculator Verify Solution', 'score': 0.10212548, 'raw_content': None}], 'response_time': 2.27})]}})\n",
      "----\n",
      "(('researcher:812ee3d8-0079-5bd2-5aea-1778edfd9ed1',), {'agent': {'messages': [AIMessage(content='The square root of 42 is approximately 6.48, as stated in the tool call response. This result can be found through various methods, including prime factorization and long division. The square root of 42 has decimal and radical forms, and it can be used to simplify expressions with square roots.', additional_kwargs={}, response_metadata={'model': 'llama3.1', 'created_at': '2024-11-22T06:01:17.992452Z', 'message': {'role': 'assistant', 'content': 'The square root of 42 is approximately 6.48, as stated in the tool call response. This result can be found through various methods, including prime factorization and long division. The square root of 42 has decimal and radical forms, and it can be used to simplify expressions with square roots.'}, 'done_reason': 'stop', 'done': True, 'total_duration': 11136342500, 'load_duration': 46056708, 'prompt_eval_count': 877, 'prompt_eval_duration': 7240000000, 'eval_count': 63, 'eval_duration': 3807000000}, id='run-7ad14af5-366f-4794-9536-7c89025c6819-0', usage_metadata={'input_tokens': 877, 'output_tokens': 63, 'total_tokens': 940})]}})\n",
      "----\n",
      "((), {'researcher': {'messages': [HumanMessage(content='The square root of 42 is approximately 6.48, as stated in the tool call response. This result can be found through various methods, including prime factorization and long division. The square root of 42 has decimal and radical forms, and it can be used to simplify expressions with square roots.', additional_kwargs={}, response_metadata={}, name='researcher')]}})\n",
      "----\n",
      "((), {'supervisor': {'next': 'coder'}})\n",
      "----\n",
      "(('coder:9ea99f4e-008c-0689-d621-8bb148af6e52',), {'agent': {'messages': [AIMessage(content='', additional_kwargs={}, response_metadata={'model': 'llama3.1', 'created_at': '2024-11-22T06:01:25.072513Z', 'message': {'role': 'assistant', 'content': '', 'tool_calls': [{'function': {'name': 'python_repl_tool', 'arguments': {'code': 'import math; print(math.sqrt(42))'}}}]}, 'done_reason': 'stop', 'done': True, 'total_duration': 3845991583, 'load_duration': 35136875, 'prompt_eval_count': 294, 'prompt_eval_duration': 2269000000, 'eval_count': 27, 'eval_duration': 1523000000}, id='run-e0e242f3-ae8b-42cc-9616-c0242003694c-0', tool_calls=[{'name': 'python_repl_tool', 'args': {'code': 'import math; print(math.sqrt(42))'}, 'id': '6f2acd5e-1aae-46d3-8260-15a2f897201f', 'type': 'tool_call'}], usage_metadata={'input_tokens': 294, 'output_tokens': 27, 'total_tokens': 321})]}})\n",
      "----\n",
      "(('coder:9ea99f4e-008c-0689-d621-8bb148af6e52',), {'tools': {'messages': [ToolMessage(content='Successfully executed:\\n\\\\`\\\\`\\\\`python\\nimport math; print(math.sqrt(42))\\n\\\\`\\\\`\\\\`\\nStdout: 6.48074069840786\\n', name='python_repl_tool', id='17ab3599-ce25-4967-b17a-5db03270dd5f', tool_call_id='6f2acd5e-1aae-46d3-8260-15a2f897201f')]}})\n",
      "----\n",
      "(('coder:9ea99f4e-008c-0689-d621-8bb148af6e52',), {'agent': {'messages': [AIMessage(content='The square root of 42 is approximately 6.48. This result can be found through various methods, including prime factorization and long division. The square root of 42 has decimal and radical forms, and it can be used to simplify expressions with square roots.', additional_kwargs={}, response_metadata={'model': 'llama3.1', 'created_at': '2024-11-22T06:01:32.217343Z', 'message': {'role': 'assistant', 'content': 'The square root of 42 is approximately 6.48. This result can be found through various methods, including prime factorization and long division. The square root of 42 has decimal and radical forms, and it can be used to simplify expressions with square roots.'}, 'done_reason': 'stop', 'done': True, 'total_duration': 7097548917, 'load_duration': 22573084, 'prompt_eval_count': 221, 'prompt_eval_duration': 1569000000, 'eval_count': 55, 'eval_duration': 5498000000}, id='run-f765b0e3-0ae2-4e69-ac6a-f7b9db452ee0-0', usage_metadata={'input_tokens': 221, 'output_tokens': 55, 'total_tokens': 276})]}})\n",
      "----\n",
      "((), {'coder': {'messages': [HumanMessage(content='The square root of 42 is approximately 6.48. This result can be found through various methods, including prime factorization and long division. The square root of 42 has decimal and radical forms, and it can be used to simplify expressions with square roots.', additional_kwargs={}, response_metadata={}, name='coder')]}})\n",
      "----\n",
      "((), {'supervisor': {'next': '__end__'}})\n",
      "----\n"
     ]
    }
   ],
   "source": [
    "for s in graph.stream(\n",
    "    {\"messages\": [(\"user\", \"What's the square root of 42?\")]}, subgraphs=True\n",
    "):\n",
    "    print(s)\n",
    "    print(\"----\")"
   ]
  },
  {
   "cell_type": "code",
   "execution_count": null,
   "metadata": {},
   "outputs": [],
   "source": []
  }
 ],
 "metadata": {
  "kernelspec": {
   "display_name": "base",
   "language": "python",
   "name": "python3"
  },
  "language_info": {
   "codemirror_mode": {
    "name": "ipython",
    "version": 3
   },
   "file_extension": ".py",
   "mimetype": "text/x-python",
   "name": "python",
   "nbconvert_exporter": "python",
   "pygments_lexer": "ipython3",
   "version": "3.12.7"
  }
 },
 "nbformat": 4,
 "nbformat_minor": 2
}
