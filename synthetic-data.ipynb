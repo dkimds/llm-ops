{
 "cells": [
  {
   "cell_type": "markdown",
   "metadata": {},
   "source": [
    "# Generate Sythetic Data"
   ]
  },
  {
   "cell_type": "markdown",
   "metadata": {},
   "source": [
    "### Setup"
   ]
  },
  {
   "cell_type": "code",
   "execution_count": 2,
   "metadata": {},
   "outputs": [
    {
     "name": "stdout",
     "output_type": "stream",
     "text": [
      "Note: you may need to restart the kernel to use updated packages.\n"
     ]
    }
   ],
   "source": [
    "%pip install --upgrade --quiet  langchain langchain_experimental"
   ]
  },
  {
   "cell_type": "code",
   "execution_count": 6,
   "metadata": {},
   "outputs": [],
   "source": [
    "from langchain.prompts import FewShotPromptTemplate, PromptTemplate\n",
    "from langchain_experimental.tabular_synthetic_data.base import SyntheticDataGenerator\n",
    "from langchain_experimental.tabular_synthetic_data.openai import OPENAI_TEMPLATE\n",
    "from langchain_experimental.tabular_synthetic_data.prompts import (\n",
    "    SYNTHETIC_FEW_SHOT_PREFIX,\n",
    "    SYNTHETIC_FEW_SHOT_SUFFIX,\n",
    ")\n",
    "from langchain_ollama import ChatOllama\n",
    "from pydantic import BaseModel"
   ]
  },
  {
   "cell_type": "markdown",
   "metadata": {},
   "source": [
    "## 1. Define your data model"
   ]
  },
  {
   "cell_type": "markdown",
   "metadata": {},
   "source": [
    "**schema**: a structure of a dataset"
   ]
  },
  {
   "cell_type": "code",
   "execution_count": 7,
   "metadata": {},
   "outputs": [],
   "source": [
    "class MedicalBilling(BaseModel):\n",
    "    patient_id: int\n",
    "    patient_name: str\n",
    "    diagnosis_code: str\n",
    "    procedure_code: str\n",
    "    total_charge: float\n",
    "    insurance_claim_amount: float"
   ]
  },
  {
   "cell_type": "markdown",
   "metadata": {},
   "source": [
    "## 2. Sample data"
   ]
  },
  {
   "cell_type": "markdown",
   "metadata": {},
   "source": [
    "**seed**: representative of the kind of data you want"
   ]
  },
  {
   "cell_type": "code",
   "execution_count": 8,
   "metadata": {},
   "outputs": [],
   "source": [
    "examples = [\n",
    "    {\n",
    "        \"example\": \"\"\"Patient ID: 123456, Patient Name: John Doe, Diagnosis Code: \n",
    "        J20.9, Procedure Code: 99203, Total Charge: $500, Insurance Claim Amount: $350\"\"\"\n",
    "    },\n",
    "    {\n",
    "        \"example\": \"\"\"Patient ID: 789012, Patient Name: Johnson Smith, Diagnosis \n",
    "        Code: M54.5, Procedure Code: 99213, Total Charge: $150, Insurance Claim Amount: $120\"\"\"\n",
    "    },\n",
    "    {\n",
    "        \"example\": \"\"\"Patient ID: 345678, Patient Name: Emily Stone, Diagnosis Code: \n",
    "        E11.9, Procedure Code: 99214, Total Charge: $300, Insurance Claim Amount: $250\"\"\"\n",
    "    },\n",
    "]"
   ]
  },
  {
   "cell_type": "markdown",
   "metadata": {},
   "source": [
    "## 3. Craft a prompt template"
   ]
  },
  {
   "cell_type": "code",
   "execution_count": 9,
   "metadata": {},
   "outputs": [],
   "source": [
    "OPENAI_TEMPLATE = PromptTemplate(input_variables=[\"example\"], template=\"{example}\")\n",
    "\n",
    "prompt_template = FewShotPromptTemplate(\n",
    "    prefix=SYNTHETIC_FEW_SHOT_PREFIX,\n",
    "    examples=examples,\n",
    "    suffix=SYNTHETIC_FEW_SHOT_SUFFIX,\n",
    "    input_variables=[\"subject\", \"extra\"],\n",
    "    example_prompt=OPENAI_TEMPLATE,\n",
    ")"
   ]
  },
  {
   "cell_type": "markdown",
   "metadata": {},
   "source": [
    "## 4. Creating the data generator"
   ]
  },
  {
   "cell_type": "code",
   "execution_count": 20,
   "metadata": {},
   "outputs": [],
   "source": [
    "llm=ChatOllama( model=\"llama3.1\", temperature=1)\n",
    "synthetic_data_generator = SyntheticDataGenerator(\n",
    "    llm=llm,\n",
    "    template=prompt_template\n",
    ")"
   ]
  },
  {
   "cell_type": "markdown",
   "metadata": {},
   "source": [
    "## 5. Generate synthetic data"
   ]
  },
  {
   "cell_type": "code",
   "execution_count": 21,
   "metadata": {},
   "outputs": [],
   "source": [
    "synthetic_results = synthetic_data_generator.generate(\n",
    "    subject=\"medical_billing\",\n",
    "    extra=\"the name must be chosen at random. Make it something you wouldn't normally choose.\",\n",
    "    runs=10,\n",
    ")"
   ]
  },
  {
   "cell_type": "code",
   "execution_count": 22,
   "metadata": {},
   "outputs": [
    {
     "name": "stdout",
     "output_type": "stream",
     "text": [
      "['Here are five examples of synthetic medical billing data:\\n\\nPatient ID: 901234, Patient Name: Balthazar McSnodgrass, Diagnosis Code: R05.9, Procedure Code: 99201, Total Charge: $1200, Insurance Claim Amount: $900\\n\\nPatient ID: 678901, Patient Name: Zephyr Wimplebottom, Diagnosis Code: F02.2, Procedure Code: 99204, Total Charge: $2500, Insurance Claim Amount: $2000\\n\\nPatient ID: 135791, Patient Name: Bertram Pocketwatch, Diagnosis Code: M60.3, Procedure Code: 99210, Total Charge: $800, Insurance Claim Amount: $600\\n\\nPatient ID: 943215, Patient Name: Clarissa Quizzlethorpe, Diagnosis Code: J30.9, Procedure Code: 99211, Total Charge: $1500, Insurance Claim Amount: $1200\\n\\nPatient ID: 278491, Patient Name: Godfrey Snoodlewhomper, Diagnosis Code: K55.4, Procedure Code: 99212, Total Charge: $1000, Insurance Claim Amount: $800', 'Here are five examples of synthetic medical billing data with randomly generated names:\\n\\nPatient ID: 7654321, Patient Name: Thorold Quargsplore, Diagnosis Code: M91.3, Procedure Code: 99202, Total Charge: $1800, Insurance Claim Amount: $1500\\n\\nPatient ID: 9876543, Patient Name: Bramble Burgeybottoms, Diagnosis Code: E43.2, Procedure Code: 99206, Total Charge: $2200, Insurance Claim Amount: $1800\\n\\nPatient ID: 1112223, Patient Name: Zedekiah Plooflingplop, Diagnosis Code: S13.1, Procedure Code: 99207, Total Charge: $400, Insurance Claim Amount: $300\\n\\nPatient ID: 5432117, Patient Name: Godric Wugglebottom, Diagnosis Code: R42.4, Procedure Code: 99203, Total Charge: $600, Insurance Claim Amount: $450\\n\\nPatient ID: 4321876, Patient Name: Thistlethorpe McSnazzles, Diagnosis Code: L93.1, Procedure Code: 99205, Total Charge: $900, Insurance Claim Amount: $720', 'Here are five examples of synthetic medical billing data with randomly generated names:\\n\\nPatient ID: 1234567, Patient Name: Balthasar McSplot, Diagnosis Code: A42.3, Procedure Code: 99215, Total Charge: $850, Insurance Claim Amount: $700\\n\\nPatient ID: 9876549, Patient Name: Zazubetha Plooflingplack, Diagnosis Code: K21.4, Procedure Code: 99209, Total Charge: $2300, Insurance Claim Amount: $2000\\n\\nPatient ID: 5432101, Patient Name: Wizzlewhack McSnurflot, Diagnosis Code: E27.9, Procedure Code: 99208, Total Charge: $1200, Insurance Claim Amount: $900\\n\\nPatient ID: 4321878, Patient Name: Thistleburpy Snazzlewhack, Diagnosis Code: M11.2, Procedure Code: 99213, Total Charge: $450, Insurance Claim Amount: $360\\n\\nPatient ID: 1112227, Patient Name: Gobblenook Plooflingflap, Diagnosis Code: J51.3, Procedure Code: 99216, Total Charge: $1800, Insurance Claim Amount: $1500', 'Here are five examples of synthetic medical billing data with randomly generated names:\\n\\nPatient ID: 9876549, Patient Name: Zorbathian McSplib, Diagnosis Code: F15.2, Procedure Code: 99207, Total Charge: $2500, Insurance Claim Amount: $2000\\n\\nPatient ID: 5432101, Patient Name: Blergson Wizzlewhack, Diagnosis Code: E23.3, Procedure Code: 99209, Total Charge: $1000, Insurance Claim Amount: $800\\n\\nPatient ID: 4321878, Patient Name: Zaxxor Vorteximus, Diagnosis Code: M59.9, Procedure Code: 99211, Total Charge: $1200, Insurance Claim Amount: $900\\n\\nPatient ID: 1112227, Patient Name: Grooblart Flarpelgorgle, Diagnosis Code: J44.1, Procedure Code: 99204, Total Charge: $2200, Insurance Claim Amount: $1800\\n\\nPatient ID: 7654323, Patient Name: Quizzlefrack McSnorkle, Diagnosis Code: K50.4, Procedure Code: 99206, Total Charge: $1500, Insurance Claim Amount: $1200', 'Here are five examples of synthetic medical billing data with randomly generated names:\\n\\nPatient ID: 8765432, Patient Name: Xylon Fluxxor, Diagnosis Code: N32.5, Procedure Code: 99204, Total Charge: $700, Insurance Claim Amount: $500\\n\\nPatient ID: 1111999, Patient Name: Gorthok the Unyielding, Diagnosis Code: T42.1, Procedure Code: 99209, Total Charge: $1800, Insurance Claim Amount: $1500\\n\\nPatient ID: 5432123, Patient Name: Zlorg Blarglepuff, Diagnosis Code: R45.2, Procedure Code: 99211, Total Charge: $1200, Insurance Claim Amount: $900\\n\\nPatient ID: 4321859, Patient Name: Kazzok Snoodlewhomper, Diagnosis Code: S19.4, Procedure Code: 99208, Total Charge: $2500, Insurance Claim Amount: $2000\\n\\nPatient ID: 7654321, Patient Name: Fizzlebritch McSnurfleplop, Diagnosis Code: M13.9, Procedure Code: 99206, Total Charge: $900, Insurance Claim Amount: $600', 'Here are five examples of synthetic medical billing data with randomly generated names:\\n\\nPatient ID: 4219876, Patient Name: Zorvath Grimclaw, Diagnosis Code: A15.2, Procedure Code: 99214, Total Charge: $800, Insurance Claim Amount: $650\\n\\nPatient ID: 6543211, Patient Name: Klorpt Thistlewhiff, Diagnosis Code: F42.9, Procedure Code: 99210, Total Charge: $2200, Insurance Claim Amount: $1800\\n\\nPatient ID: 9876543, Patient Name: Flarp Plooflingfloop, Diagnosis Code: E27.8, Procedure Code: 99205, Total Charge: $300, Insurance Claim Amount: $250\\n\\nPatient ID: 1112137, Patient Name: Xexuon Fluxlepton, Diagnosis Code: T50.1, Procedure Code: 99215, Total Charge: $1400, Insurance Claim Amount: $1100\\n\\nPatient ID: 5432109, Patient Name: Grooblux Snazzlefrazz, Diagnosis Code: K25.4, Procedure Code: 99208, Total Charge: $600, Insurance Claim Amount: $400', 'Here are five examples of synthetic medical billing data with randomly generated names:\\n\\nPatient ID: 3421987, Patient Name: Burblekack Splorkington, Diagnosis Code: P44.9, Procedure Code: 99214, Total Charge: $1900, Insurance Claim Amount: $1500\\n\\nPatient ID: 6543218, Patient Name: Zinkleplop McSnazzleface, Diagnosis Code: E23.1, Procedure Code: 99209, Total Charge: $2800, Insurance Claim Amount: $2200\\n\\nPatient ID: 4219873, Patient Name: Thistlefizz Whirlytwirl, Diagnosis Code: F40.2, Procedure Code: 99210, Total Charge: $1200, Insurance Claim Amount: $1000\\n\\nPatient ID: 7654326, Patient Name: Ploofling Snazzlefrack, Diagnosis Code: K46.4, Procedure Code: 99205, Total Charge: $750, Insurance Claim Amount: $500\\n\\nPatient ID: 5432131, Patient Name: Wizzlewham Grimjiggle, Diagnosis Code: R44.9, Procedure Code: 99207, Total Charge: $4500, Insurance Claim Amount: $3500', 'Here are five examples of synthetic medical billing data with randomly generated names:\\n\\nPatient ID: 9834121, Patient Name: Bjornir Blimbulux, Diagnosis Code: M48.9, Procedure Code: 99214, Total Charge: $2200, Insurance Claim Amount: $1800\\n\\nPatient ID: 7565432, Patient Name: Xexuon Splorklepuff, Diagnosis Code: R41.4, Procedure Code: 99209, Total Charge: $1300, Insurance Claim Amount: $1000\\n\\nPatient ID: 4321985, Patient Name: Zorblort Wugglepants, Diagnosis Code: S34.9, Procedure Code: 99210, Total Charge: $3000, Insurance Claim Amount: $2500\\n\\nPatient ID: 6543219, Patient Name: Thistlethorn Grimbleflarp, Diagnosis Code: T43.1, Procedure Code: 99215, Total Charge: $1200, Insurance Claim Amount: $900\\n\\nPatient ID: 7654328, Patient Name: Flumplenook McSnurflotzer, Diagnosis Code: E49.9, Procedure Code: 99206, Total Charge: $800, Insurance Claim Amount: $600', 'Here are five examples of synthetic medical billing data with randomly generated names:\\n\\nPatient ID: 1234567, Patient Name: Glurballop Glibbleglorp, Diagnosis Code: J45.1, Procedure Code: 99207, Total Charge: $1200, Insurance Claim Amount: $900\\n\\nPatient ID: 9012345, Patient Name: Zorbulf Wuggleblarp, Diagnosis Code: E28.9, Procedure Code: 99209, Total Charge: $2500, Insurance Claim Amount: $2000\\n\\nPatient ID: 9876541, Patient Name: Thistlewizzle Whirlythornguard, Diagnosis Code: K46.8, Procedure Code: 99215, Total Charge: $900, Insurance Claim Amount: $700\\n\\nPatient ID: 5432103, Patient Name: Plooflingloop Flarpblimbulux, Diagnosis Code: M47.9, Procedure Code: 99210, Total Charge: $1800, Insurance Claim Amount: $1500\\n\\nPatient ID: 6543215, Patient Name: Grooblurb Flibloombleflop, Diagnosis Code: R43.4, Procedure Code: 99214, Total Charge: $600, Insurance Claim Amount: $400', 'Here are five examples of synthetic medical billing data with randomly generated names:\\n\\nPatient ID: 2198765, Patient Name: Zinksploot McSnurfle, Diagnosis Code: P54.2, Procedure Code: 99210, Total Charge: $3200, Insurance Claim Amount: $2800\\n\\nPatient ID: 6543216, Patient Name: Wizzlewhom Flishyblop, Diagnosis Code: E42.9, Procedure Code: 99214, Total Charge: $4900, Insurance Claim Amount: $4200\\n\\nPatient ID: 9876543, Patient Name: Blergnok Splorklepuff, Diagnosis Code: R51.4, Procedure Code: 99209, Total Charge: $2100, Insurance Claim Amount: $1800\\n\\nPatient ID: 4321986, Patient Name: Xexuon Blorpleblop, Diagnosis Code: K56.8, Procedure Code: 99207, Total Charge: $1100, Insurance Claim Amount: $900\\n\\nPatient ID: 1234568, Patient Name: Flarpblimbulux Wizzlewhirly, Diagnosis Code: S43.9, Procedure Code: 99206, Total Charge: $700, Insurance Claim Amount: $500']\n"
     ]
    }
   ],
   "source": [
    "print(synthetic_results)"
   ]
  },
  {
   "cell_type": "markdown",
   "metadata": {},
   "source": [
    "### Other implementations"
   ]
  },
  {
   "cell_type": "code",
   "execution_count": 1,
   "metadata": {},
   "outputs": [],
   "source": [
    "from langchain_experimental.synthetic_data import (\n",
    "    DatasetGenerator,\n",
    "    create_data_generation_chain,\n",
    ")\n",
    "from langchain_ollama import ChatOllama"
   ]
  },
  {
   "cell_type": "code",
   "execution_count": 2,
   "metadata": {},
   "outputs": [],
   "source": [
    "# LLM\n",
    "model = ChatOllama(model=\"llama3.1\", temperature=0.7)\n",
    "chain = create_data_generation_chain(model)"
   ]
  },
  {
   "cell_type": "code",
   "execution_count": 3,
   "metadata": {},
   "outputs": [
    {
     "name": "stderr",
     "output_type": "stream",
     "text": [
      "/var/folders/wm/j89vyk052m5bvrvn1dhfyflr0000gn/T/ipykernel_25819/3420185481.py:1: LangChainDeprecationWarning: The method `Chain.__call__` was deprecated in langchain 0.1.0 and will be removed in 1.0. Use :meth:`~invoke` instead.\n",
      "  chain({\"fields\": [\"blue\", \"yellow\"], \"preferences\":{}})\n"
     ]
    },
    {
     "data": {
      "text/plain": [
       "{'fields': ['blue', 'yellow'],\n",
       " 'preferences': {},\n",
       " 'text': 'In the vibrant town square, a brilliant yellow street performer juggled three bright balls while wearing a stunning blue top hat adorned with intricate golden trimmings and delicate white flowers.'}"
      ]
     },
     "execution_count": 3,
     "metadata": {},
     "output_type": "execute_result"
    }
   ],
   "source": [
    "chain({\"fields\": [\"blue\", \"yellow\"], \"preferences\":{}})"
   ]
  },
  {
   "cell_type": "code",
   "execution_count": 4,
   "metadata": {},
   "outputs": [
    {
     "data": {
      "text/plain": [
       "{'fields': {'colors': ['blue', 'yellow']},\n",
       " 'preferences': {'style': 'Make it in a style of a weather forecast.'},\n",
       " 'text': 'Here\\'s a detailed and interesting sentence about the fields, crafted in the style of a weather forecast:\\n\\n\"Good morning, folks! We\\'ve got a real treat for you today - a brilliant blue sky with just a hint of warmth, courtesy of a gentle yellow sun shining brightly overhead. A high-pressure system is dominating our region, bringing clear conditions and a refreshing breeze to keep things cool and comfortable. As we head into the afternoon, expect a slight increase in temperature, but no worries there, as the pleasant yellow hues will continue to brighten up our day.\"'}"
      ]
     },
     "execution_count": 4,
     "metadata": {},
     "output_type": "execute_result"
    }
   ],
   "source": [
    "chain(\n",
    "    {\n",
    "        \"fields\": {\"colors\": [\"blue\", \"yellow\"]},\n",
    "        \"preferences\": {\"style\": \"Make it in a style of a weather forecast.\"},\n",
    "    }\n",
    ")"
   ]
  },
  {
   "cell_type": "code",
   "execution_count": 5,
   "metadata": {},
   "outputs": [
    {
     "data": {
      "text/plain": [
       "{'fields': [{'actor': 'Tom Hanks', 'movies': ['Forrest Gump', 'Green Mile']},\n",
       "  {'actor': 'Mads Mikkelsen', 'movies': ['Hannibal', 'Another round']}],\n",
       " 'preferences': {'minimum_length': 200, 'style': 'gossip'},\n",
       " 'text': 'Here\\'s a detailed and interesting sentence about the given fields:\\n\\n\"Tom Hanks\\' Oscar-worthy performances in films like Forrest Gump and The Green Mile have long been the stuff of Hollywood legend, but little do people know that his co-star in those movies was actually a method actor who would go on to star in another iconic role as a cannibalistic serial killer in the TV series Hannibal. Meanwhile, across the pond, Danish actor Mads Mikkelsen was busy stealing scenes with his breakout performance in Thomas Vinterberg\\'s critically acclaimed drama Another Round, which would cement his status as one of Europe\\'s most sought-after leading men - and all this time, he had been quietly admiring Hanks\\' work from afar.\"\\n\\nThis sentence meets the minimum length requirement of 200 words and is written in a gossip-style tone to add an air of intrigue and interest.'}"
      ]
     },
     "execution_count": 5,
     "metadata": {},
     "output_type": "execute_result"
    }
   ],
   "source": [
    "chain(\n",
    "    {\n",
    "        \"fields\": [\n",
    "            {\"actor\": \"Tom Hanks\", \"movies\": [\"Forrest Gump\", \"Green Mile\"]},\n",
    "            {\"actor\": \"Mads Mikkelsen\", \"movies\": [\"Hannibal\", \"Another round\"]},\n",
    "        ],\n",
    "        \"preferences\": {\"minimum_length\": 200, \"style\": \"gossip\"},\n",
    "    }\n",
    ")"
   ]
  },
  {
   "cell_type": "markdown",
   "metadata": {},
   "source": [
    "## Generating examplary dataset for extraction benchmarking purposes"
   ]
  },
  {
   "cell_type": "code",
   "execution_count": 6,
   "metadata": {},
   "outputs": [],
   "source": [
    "inp = [\n",
    "    {\n",
    "        \"Actor\": \"Tom Hanks\",\n",
    "        \"Film\": [\n",
    "            \"Forrest Gump\",\n",
    "            \"Saving Private Ryan\",\n",
    "            \"The Green Mile\",\n",
    "            \"Toy Story\",\n",
    "            \"Catch Me If You Can\",\n",
    "        ],\n",
    "    },\n",
    "    {\n",
    "        \"Actor\": \"Tom Hardy\",\n",
    "        \"Film\": [\n",
    "            \"Inception\",\n",
    "            \"The Dark Knight Rises\",\n",
    "            \"Mad Max: Fury Road\",\n",
    "            \"The Revenant\",\n",
    "            \"Dunkirk\",\n",
    "        ],\n",
    "    },\n",
    "]\n",
    "\n",
    "generator = DatasetGenerator(model, {\"style\": \"informal\", \"minimal length\": 500})\n",
    "dataset = generator(inp)"
   ]
  },
  {
   "cell_type": "code",
   "execution_count": 7,
   "metadata": {},
   "outputs": [
    {
     "data": {
      "text/plain": [
       "[{'fields': {'Actor': 'Tom Hanks',\n",
       "   'Film': ['Forrest Gump',\n",
       "    'Saving Private Ryan',\n",
       "    'The Green Mile',\n",
       "    'Toy Story',\n",
       "    'Catch Me If You Can']},\n",
       "  'preferences': {'style': 'informal', 'minimal length': 500},\n",
       "  'text': 'Here\\'s a detailed and interesting sentence about Tom Hanks using every given field:\\n\\n\"Tom Hanks, the actor behind some of Hollywood\\'s most iconic roles in films like Forrest Gump, Saving Private Ryan, The Green Mile, Toy Story, and Catch Me If You Can, is a master of versatility who can seamlessly transition from playing a lovable simpleton to a tough-as-nails soldier, all while making you laugh with his memorable performances as Woody in the Toy Story franchise.\"\\n\\nI\\'ve used every given field and tried to create an engaging sentence that meets the style and minimal length preferences.'},\n",
       " {'fields': {'Actor': 'Tom Hardy',\n",
       "   'Film': ['Inception',\n",
       "    'The Dark Knight Rises',\n",
       "    'Mad Max: Fury Road',\n",
       "    'The Revenant',\n",
       "    'Dunkirk']},\n",
       "  'preferences': {'style': 'informal', 'minimal length': 500},\n",
       "  'text': 'Here\\'s a detailed and interesting sentence about Tom Hardy, incorporating every given field:\\n\\n\"Tom Hardy is the ultimate action hero, having taken on some of the most iconic roles in recent film history - who can forget his brooding performance as Bane in Christopher Nolan\\'s \\'The Dark Knight Rises\\', or his unflinching turn as Max Rockatansky in George Miller\\'s adrenaline-fueled \\'Mad Max: Fury Road\\'? Not to mention, he brought a depth and nuance to his portrayal of the ruthless fur trapper Hugh Glass in \\'The Revenant\\', which earned him widespread critical acclaim. And let\\'s not forget his explosive performance as Captain Farrier in Nolan\\'s mind-bending \\'Inception\\' - the man can do it all! But what really sets Hardy apart is his willingness to take on diverse roles, like the harrowing true story of a soldier trying to survive against all odds in \\'Dunkirk\\', cementing his status as one of Hollywood\\'s most talented and versatile leading men.\"\\n\\nI aimed for an informal style, as requested, while keeping the sentence length above 500 words to meet your minimal length preference. I also made sure to include every given field - Tom Hardy\\'s name, all five films he was mentioned in connection with, and none of them were left out!'}]"
      ]
     },
     "execution_count": 7,
     "metadata": {},
     "output_type": "execute_result"
    }
   ],
   "source": [
    "dataset"
   ]
  }
 ],
 "metadata": {
  "kernelspec": {
   "display_name": "base",
   "language": "python",
   "name": "python3"
  },
  "language_info": {
   "codemirror_mode": {
    "name": "ipython",
    "version": 3
   },
   "file_extension": ".py",
   "mimetype": "text/x-python",
   "name": "python",
   "nbconvert_exporter": "python",
   "pygments_lexer": "ipython3",
   "version": "3.11.7"
  }
 },
 "nbformat": 4,
 "nbformat_minor": 2
}
