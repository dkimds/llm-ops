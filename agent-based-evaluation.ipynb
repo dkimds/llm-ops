{
 "cells": [
  {
   "cell_type": "markdown",
   "metadata": {},
   "source": [
    "# Agent-based Evaluation\n",
    "Chatbot Evaluation as Multi-agent Simuation"
   ]
  },
  {
   "cell_type": "markdown",
   "metadata": {},
   "source": [
    "## Define Chatbot"
   ]
  },
  {
   "cell_type": "code",
   "execution_count": 17,
   "metadata": {},
   "outputs": [],
   "source": [
    "from typing import List\n",
    "\n",
    "import ollama\n",
    "\n",
    "\n",
    "# This is flexible, but you can define your agent here, or call your agent API here.\n",
    "def my_chat_bot(messages: List[dict]) -> dict:\n",
    "    system_message = {\n",
    "        \"role\": \"system\",\n",
    "        \"content\": \"You are a customer support agent for an airline.\",\n",
    "    }\n",
    "    messages = [system_message] + messages\n",
    "    completion = ollama.chat(\n",
    "        messages=messages, model=\"Llama3.2-Korean\"\n",
    "    )\n",
    "\n",
    "    formatted_response = {\n",
    "        'content': completion.message.content,\n",
    "        'role': completion.message.role,\n",
    "        'function_call': None,\n",
    "        'tool_calls': completion.message.tool_calls\n",
    "    }\n",
    "    return formatted_response"
   ]
  },
  {
   "cell_type": "code",
   "execution_count": 18,
   "metadata": {},
   "outputs": [
    {
     "data": {
      "text/plain": [
       "{'content': 'Hello! How can I assist you today? Are you looking to book a flight, make changes to your existing reservation, or have any other questions about our services?',\n",
       " 'role': 'assistant',\n",
       " 'function_call': None,\n",
       " 'tool_calls': None}"
      ]
     },
     "execution_count": 18,
     "metadata": {},
     "output_type": "execute_result"
    }
   ],
   "source": [
    "my_chat_bot([{\"role\": \"user\", \"content\": \"hi!\"}])"
   ]
  },
  {
   "cell_type": "markdown",
   "metadata": {},
   "source": [
    "## Define Simulated User"
   ]
  },
  {
   "cell_type": "code",
   "execution_count": 19,
   "metadata": {},
   "outputs": [],
   "source": [
    "from langchain_core.prompts import ChatPromptTemplate, MessagesPlaceholder\n",
    "from langchain_ollama import ChatOllama\n",
    "\n",
    "system_prompt_template = \"\"\"You are a customer of an airline company. \\\n",
    "You are interacting with a user who is a customer support person. \\\n",
    "\n",
    "{instructions}\n",
    "\n",
    "When you are finished with the conversation, respond with a single word 'FINISHED'\"\"\"\n",
    "\n",
    "prompt = ChatPromptTemplate.from_messages(\n",
    "    [\n",
    "        (\"system\", system_prompt_template),\n",
    "        MessagesPlaceholder(variable_name=\"messages\"),\n",
    "    ]\n",
    ")\n",
    "instructions = \"\"\"Your name is Harrison. You are trying to get a refund for the trip you took to Alaska. \\\n",
    "You want them to give you ALL the money back. \\\n",
    "This trip happened 5 years ago.\"\"\"\n",
    "\n",
    "prompt = prompt.partial(name=\"Harrison\", instructions=instructions)\n",
    "\n",
    "model = ChatOllama(model=\"Llama3.2-Korean\")\n",
    "\n",
    "simulated_user = prompt | model"
   ]
  },
  {
   "cell_type": "code",
   "execution_count": 20,
   "metadata": {},
   "outputs": [
    {
     "data": {
      "text/plain": [
       "AIMessage(content=\"I'm Harrison and I booked a flight to Alaska five years ago. Unfortunately, the trip was cancelled due to unforeseen circumstances, and I'd like to request a full refund for my entire ticket price. Can we discuss this further?\", additional_kwargs={}, response_metadata={'model': 'Llama3.2-Korean', 'created_at': '2024-12-09T07:26:27.807684Z', 'done': True, 'done_reason': 'stop', 'total_duration': 1997132917, 'load_duration': 33805042, 'prompt_eval_count': 112, 'prompt_eval_duration': 579000000, 'eval_count': 48, 'eval_duration': 1374000000, 'message': Message(role='assistant', content='', images=None, tool_calls=None)}, id='run-124e8e6d-1fc5-4d50-a750-9bb685782dd5-0', usage_metadata={'input_tokens': 112, 'output_tokens': 48, 'total_tokens': 160})"
      ]
     },
     "execution_count": 20,
     "metadata": {},
     "output_type": "execute_result"
    }
   ],
   "source": [
    "from langchain_core.messages import HumanMessage\n",
    "\n",
    "messages = [HumanMessage(content=\"Hi! How can I help you?\")]\n",
    "simulated_user.invoke({\"messages\": messages})"
   ]
  },
  {
   "cell_type": "markdown",
   "metadata": {},
   "source": [
    "## Define the agent simulation\n",
    "1. The 2 nodes: the simulated user and the chatbot\n",
    "2. The graph with a conditional stopping criterion"
   ]
  },
  {
   "cell_type": "markdown",
   "metadata": {},
   "source": [
    "### Define nodes"
   ]
  },
  {
   "cell_type": "code",
   "execution_count": 21,
   "metadata": {},
   "outputs": [],
   "source": [
    "from langchain_community.adapters.openai import convert_message_to_dict\n",
    "from langchain_core.messages import AIMessage\n",
    "\n",
    "\n",
    "def chat_bot_node(state):\n",
    "    messages = state[\"messages\"]\n",
    "    # Convert from LangChain format to the OpenAI format, which our chatbot function expects.\n",
    "    messages = [convert_message_to_dict(m) for m in messages]\n",
    "    # Call the chat bot\n",
    "    chat_bot_response = my_chat_bot(messages)\n",
    "    # Respond with an AI Message\n",
    "    return {\"messages\": [AIMessage(content=chat_bot_response[\"content\"])]}"
   ]
  },
  {
   "cell_type": "code",
   "execution_count": 22,
   "metadata": {},
   "outputs": [],
   "source": [
    "def _swap_roles(messages):\n",
    "    new_messages = []\n",
    "    for m in messages:\n",
    "        if isinstance(m, AIMessage):\n",
    "            new_messages.append(HumanMessage(content=m.content))\n",
    "        else:\n",
    "            new_messages.append(AIMessage(content=m.content))\n",
    "    return new_messages\n",
    "\n",
    "\n",
    "def simulated_user_node(state):\n",
    "    messages = state[\"messages\"]\n",
    "    # Swap roles of messages\n",
    "    new_messages = _swap_roles(messages)\n",
    "    # Call the simulated user\n",
    "    response = simulated_user.invoke({\"messages\": new_messages})\n",
    "    # This response is an AI message - we need to flip this to be a human message\n",
    "    return {\"messages\": [HumanMessage(content=response.content)]}"
   ]
  },
  {
   "cell_type": "markdown",
   "metadata": {},
   "source": [
    "### Define edges\n",
    "- Either we continue and call the customer support bot\n",
    "- Or we finish and the conversation it over"
   ]
  },
  {
   "cell_type": "code",
   "execution_count": 23,
   "metadata": {},
   "outputs": [],
   "source": [
    "def should_continue(state):\n",
    "    messages = state[\"messages\"]\n",
    "    if len(messages) > 6:\n",
    "        return \"end\"\n",
    "    elif messages[-1].content == \"FINISHED\":\n",
    "        return \"end\"\n",
    "    else:\n",
    "        return \"continue\""
   ]
  },
  {
   "cell_type": "markdown",
   "metadata": {},
   "source": [
    "### Define graph"
   ]
  },
  {
   "cell_type": "code",
   "execution_count": 24,
   "metadata": {},
   "outputs": [],
   "source": [
    "from langgraph.graph import END, StateGraph, START\n",
    "from langgraph.graph.message import add_messages\n",
    "from typing import Annotated\n",
    "from typing_extensions import TypedDict\n",
    "\n",
    "\n",
    "class State(TypedDict):\n",
    "    messages: Annotated[list, add_messages]\n",
    "\n",
    "\n",
    "graph_builder = StateGraph(State)\n",
    "graph_builder.add_node(\"user\", simulated_user_node)\n",
    "graph_builder.add_node(\"chat_bot\", chat_bot_node)\n",
    "# Every response from  your chat bot will automatically go to the\n",
    "# simulated user\n",
    "graph_builder.add_edge(\"chat_bot\", \"user\")\n",
    "graph_builder.add_conditional_edges(\n",
    "    \"user\",\n",
    "    should_continue,\n",
    "    # If the finish criteria are met, we will stop the simulation,\n",
    "    # otherwise, the virtual user's message will be sent to your chat bot\n",
    "    {\n",
    "        \"end\": END,\n",
    "        \"continue\": \"chat_bot\",\n",
    "    },\n",
    ")\n",
    "# The input will first go to your chat bot\n",
    "graph_builder.add_edge(START, \"chat_bot\")\n",
    "simulation = graph_builder.compile()"
   ]
  },
  {
   "cell_type": "markdown",
   "metadata": {},
   "source": [
    "## Run simulation"
   ]
  },
  {
   "cell_type": "code",
   "execution_count": 25,
   "metadata": {},
   "outputs": [
    {
     "name": "stdout",
     "output_type": "stream",
     "text": [
      "{'chat_bot': {'messages': [AIMessage(content=\"<|start_header_id|>assistant<|end_header_id|>\\n\\nHello! I'm happy to help you with any questions or concerns you may have about your flight or travel experience with our airline. What can I assist you with today?\", additional_kwargs={}, response_metadata={}, id='a1779b83-d674-4cd0-ac84-997bf26ff810')]}}\n",
      "----\n",
      "{'user': {'messages': [HumanMessage(content=\"Hi, my name is Harrison and I'm calling regarding a refund for the trip I took to Alaska five years ago. Can you please look into this for me?\", additional_kwargs={}, response_metadata={}, id='4c004e74-898c-4a8e-ba6a-878a1cdcdfa3')]}}\n",
      "----\n",
      "{'chat_bot': {'messages': [AIMessage(content=\"Hello Harrison! Thank you for reaching out to us about your request for a refund for your trip to Alaska five years ago. I'd be happy to help you with that.\\n\\nTo start, could you please provide me with some details from your original booking confirmation or travel documents? This will help me locate the specific information needed to process your refund request.\\n\\nAdditionally, would you like to receive an email confirmation of any changes made to your account or a paper copy of the updated records?\", additional_kwargs={}, response_metadata={}, id='4858536b-f68d-4b2a-8e76-4d0a4b516a64')]}}\n",
      "----\n",
      "{'user': {'messages': [HumanMessage(content=\"I have my original booking confirmation and travel documents right here. I'd also appreciate it if you could provide me with an email confirmation of any changes made to my account. Can you please let me know what steps I need to take next to proceed with the refund request?\", additional_kwargs={}, response_metadata={}, id='d131d422-7866-47a0-a725-0160aa7bbb82')]}}\n",
      "----\n",
      "{'chat_bot': {'messages': [AIMessage(content=\"Thank you for providing the necessary documentation, Harrison! To process your refund request, I'll need to go through a few more details.\\n\\nFirstly, could you please confirm that you are still within our airline's standard refund period? If it has been longer than five years since your trip, we may not be able to offer a full refund. However, if there have been any changes in your travel plans or circumstances, I can review those as well.\\n\\nOnce I've verified the details, I'll need you to sign and return a refund request form. This will help us ensure that all necessary information is accurate and complete for processing your refund.\\n\\nAdditionally, would you like me to send an email confirmation of any changes made to your account? If so, please let me know if you have a preferred email address or if you'd like the airline's standard email address used.\\n\\nLastly, I'll need to confirm that you are still eligible for a refund. Please be aware that some fees may apply depending on the type of ticket and travel dates.\\n\\nWould you like me to proceed with sending over the refund request form and any necessary documentation?\", additional_kwargs={}, response_metadata={}, id='a6495e79-e458-4078-8ace-c9e95a5d09cd')]}}\n",
      "----\n",
      "{'user': {'messages': [HumanMessage(content=\"Yes, please go ahead and send over the refund request form and any additional documentation needed. I'm still within the standard refund period since it's been less than five years since my trip. Also, if possible, could you provide an email confirmation of any changes made to my account at your preferred email address?\", additional_kwargs={}, response_metadata={}, id='4591006c-ce86-4f26-b501-b1da07d9b523')]}}\n",
      "----\n",
      "{'chat_bot': {'messages': [AIMessage(content=\"Thank you for confirming that you are still within our airline's standard refund period, Harrison! I'll go ahead and send over the necessary documentation.\\n\\nTo confirm, I will be sending a refund request form via email to your preferred email address. Please find attached a copy of the form with all the required information. You can simply sign and return it to me once you receive it.\\n\\nAdditionally, I will make sure to update your account records accordingly and send an email confirmation to your preferred email address within the next 24 hours.\\n\\nIf there are any further questions or concerns, please don't hesitate to reach out to me directly. Otherwise, thank you for your patience and cooperation in this matter.\\n\\nWould you like me to expedite the refund process or would you prefer a standard processing timeline?\", additional_kwargs={}, response_metadata={}, id='8c3d741c-b2f4-4243-a010-e62394aeaea9')]}}\n",
      "----\n",
      "{'user': {'messages': [HumanMessage(content=\"I'd appreciate it if you could expedite the refund process as soon as possible. I'm eager to receive my full refund for the trip to Alaska five years ago. Thank you for your assistance, Harrison.\", additional_kwargs={}, response_metadata={}, id='40f02f13-fd7b-4f2c-a2a8-272a9f99f9c9')]}}\n",
      "----\n"
     ]
    }
   ],
   "source": [
    "for chunk in simulation.stream({\"messages\": []}):\n",
    "    # Print out all events aside from the final end chunk\n",
    "    if END not in chunk:\n",
    "        print(chunk)\n",
    "        print(\"----\")"
   ]
  },
  {
   "cell_type": "code",
   "execution_count": null,
   "metadata": {},
   "outputs": [],
   "source": []
  }
 ],
 "metadata": {
  "kernelspec": {
   "display_name": "base",
   "language": "python",
   "name": "python3"
  },
  "language_info": {
   "codemirror_mode": {
    "name": "ipython",
    "version": 3
   },
   "file_extension": ".py",
   "mimetype": "text/x-python",
   "name": "python",
   "nbconvert_exporter": "python",
   "pygments_lexer": "ipython3",
   "version": "3.12.7"
  }
 },
 "nbformat": 4,
 "nbformat_minor": 2
}
